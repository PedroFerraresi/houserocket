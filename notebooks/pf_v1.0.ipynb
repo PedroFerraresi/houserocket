{
 "cells": [
  {
   "cell_type": "markdown",
   "metadata": {},
   "source": [
    "# 1. Projeto de Insights"
   ]
  },
  {
   "cell_type": "markdown",
   "metadata": {},
   "source": [
    "**Objetivo:** Gerar insights através da análise e manipulação dos dados para auxiliar na tomada de\n",
    "decisão pelo time de negócio.\n",
    "\n",
    "**Etapas:** \n",
    "   * Questão de Negócio \n",
    "   * Entendimento do Negócio \n",
    "   * Coleta de Dados \n",
    "   * Limpeza de Dados\n",
    "   * Exploração de dados."
   ]
  },
  {
   "cell_type": "markdown",
   "metadata": {},
   "source": [
    "## 1.1. Questões de Negócio"
   ]
  },
  {
   "cell_type": "markdown",
   "metadata": {},
   "source": [
    "1. Quais são os imóveis que a House Rocket deveria comprar e por qual preço ?\n",
    "2. Uma vez a casa comprada, qual o melhor momento para vendê-las e por qual preço ?"
   ]
  },
  {
   "cell_type": "markdown",
   "metadata": {},
   "source": [
    "## 1.2. Entendimento do Negócio"
   ]
  },
  {
   "cell_type": "markdown",
   "metadata": {},
   "source": [
    "### 1.2.1. Produto final "
   ]
  },
  {
   "cell_type": "markdown",
   "metadata": {},
   "source": [
    "O que Será entregue efetivamente:\n",
    "- Relatório com as sugestões de compra de apartamento por um valor recomendado.\n",
    "- Relatório com as sugestões de venda de um apartamento por um valor recomendado."
   ]
  },
  {
   "cell_type": "markdown",
   "metadata": {},
   "source": [
    "### 1.2.2. Ferramentas"
   ]
  },
  {
   "cell_type": "markdown",
   "metadata": {},
   "source": [
    "Quais ferramentas serão utilizadas no processo:\n",
    "- Python 3.8.0\n",
    "- PyCharm\n",
    "- Jupyter Notebook"
   ]
  },
  {
   "cell_type": "markdown",
   "metadata": {},
   "source": [
    "### 1.2.3. Processo"
   ]
  },
  {
   "cell_type": "markdown",
   "metadata": {},
   "source": [
    "O passos que serão realizados para alcançar o objetivo de entregua definido:\n",
    "\n",
    "1. Quais são os imóveis que a House Rocket deveria comprar e por qual preço ?\n",
    "   - Plano 01:\n",
    "      - Coletar e limpar os dados.\n",
    "      - Agrupar os imóveis por região ( zipcode ).\n",
    "      - Dentro de cada região, será encontrado a mediana do preço do imóvel.\n",
    "      - Será sugerido os imóveis que estão abaixo do preço mediano da região, que estejam em boas condições e tenham vista para água.\n",
    "      - Exemplo de Relatório entregue:\n",
    "            \n",
    "| Imóvel Cod | Região | Preço do Imóvel | Preço na Mediana | Condições | Status |\n",
    "| ---------- | ------ | --------------: | ---------------: | --------- | :----: |\n",
    "| 10330 | Vila Olímpia | R\\$ 450.000,00 | R\\$ 500.000,00 | 3 | Compra |\n",
    "| 10335 | Vila Olímpia | R\\$ 750.000,00 | R\\$ 500.000,00 | 3 | Não Compra |\n",
    "| 10335 | Vila Olímpia | R\\$ 150.000,00 | R\\$ 500.000,00 | 1 | Não Compra |"
   ]
  },
  {
   "cell_type": "markdown",
   "metadata": {},
   "source": [
    "2. Uma vez a casa comprada, qual o melhor momento para vendê-las e por qual preço ?\n",
    "  - Plano 01:\n",
    "    - Coletar e limpar os dados (Etapa já cumprida na tarefa anterior).\n",
    "    - Agrupar os imóveis por região (zipcode) e por sazonalidade (Summer, Inter).\n",
    "    - Dentro de cada região e sazonalidade, será calculado a mediana do preço.\n",
    "    - As condições de venda serão:\n",
    "        1. Se a sazonalidade de compra não for o Inverno, o preço da venda será igual ao preço da compra + 30%\n",
    "        2. Se a sazonalidade de compra for no inverno, o preço da venda será igual ao preço da compra + 10%\n",
    "  - Exemplo do relatório entregue:\n",
    "\n",
    "\n",
    "| Imóvel Cod | Região | Temporada | Preço da Mediana | Preço de Compra | Preço de Venda | Lucro | \n",
    "| ---------- | :----- | :---------| ---------------: | --------------: | -------------: | ----: |\n",
    "| 10330 | Vila Olímpia | Verão | R\\$ 800.000,00 | R\\$ 450.000,00 | R\\$ 585.000,00 | R\\$ 135.000,00 |\n",
    "| 10335 | Vila Olímpia | Inverno | R\\$ 400.000,00 | R\\$ 500.000,00 | R\\$ 550.000,00 | R\\$ 50.000,00 |"
   ]
  },
  {
   "cell_type": "markdown",
   "metadata": {},
   "source": [
    "## 1.3. - Coleta dos dados"
   ]
  },
  {
   "cell_type": "markdown",
   "metadata": {},
   "source": [
    "- Os dados serão coletados através do site do [Kaggle](https://www.kaggle.com/harlfoxem/housesalesprediction)\n",
    "- Limpeza de Dados\n",
    "    - Remover datas erradas.\n",
    "    - Remover outliers devido à erro do sistema."
   ]
  },
  {
   "cell_type": "markdown",
   "metadata": {},
   "source": [
    "## 1.4. Exploração dos Dados"
   ]
  },
  {
   "cell_type": "markdown",
   "metadata": {},
   "source": [
    "1. Descobrir Insights para o time de negócio.\n",
    "2. Explorar os dados para identificar o impacto dos atributos nos algoritmos de ML.\n",
    "3. O que são Insights para o negócio?\n",
    "    - Insights são descobertas, através dos dados, que são inesperada pelas pessoas.\n",
    "    - Insight precisa ser acionável, caso contrário, ele é apenas uma curiosidade.\n",
    "    - Exemplo:\n",
    "        * Durante o período de natal vendê-se mais casas do que na páscoa ( Descoberta )\n",
    "        * Imóveis com porão são maiores do que imóveis sem porão ( Não-acionável )\n",
    "        * Imóveis com porão são 40% mais caros do que os outros, na média ( Acionável - Compra imóveis sem porão )\n",
    "4. Como fazemos para criar as hipóteses ?\n",
    "    - Toda hipótese de negócio precisa ter 3 características:\n",
    "        1. Precisa ser uma afirmação.\n",
    "        2. Precisa fazer uma comparação entre 2 variáveis.\n",
    "        3. Precisa de um valor base.\n",
    "        4. Exemplo:\n",
    "            * H1: Imóveis que possuem vista para água, são 30% mais caros, na média.\n",
    "            * H2: Imóveis com data de construção menor que 1955, são 50% mais baratos, na média.\n",
    "            * H3: Imóveis sem porão possuem sqrt_lot, são 50% maiores do que com porão.\n",
    "            * H4: O crescimento do preço dos imóveis YoY ( Year over Year ) é de 10%\n",
    "            * H5: Imóveis com 3 banheiros tem um crescimento MoM ( Month over Month ) de 15%"
   ]
  }
 ],
 "metadata": {
  "kernelspec": {
   "display_name": "Python 3.8.13 64-bit ('houserocket')",
   "language": "python",
   "name": "python3"
  },
  "language_info": {
   "name": "python",
   "version": "3.8.13"
  },
  "orig_nbformat": 4,
  "vscode": {
   "interpreter": {
    "hash": "2b600ece67e1152d10a2f21c36c2aa88551ee543264ed3363fc31ecdc3615089"
   }
  }
 },
 "nbformat": 4,
 "nbformat_minor": 2
}
