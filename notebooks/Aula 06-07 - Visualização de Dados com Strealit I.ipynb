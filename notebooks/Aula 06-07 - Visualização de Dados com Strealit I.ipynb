{
 "cells": [
  {
   "cell_type": "markdown",
   "id": "b5849314",
   "metadata": {},
   "source": [
    "# Agenda"
   ]
  },
  {
   "cell_type": "markdown",
   "id": "52163979",
   "metadata": {},
   "source": [
    "1. Requisição do CEO\n",
    "2. Planejamento do Dashboard\n",
    "3. Criação de Dashboards Web\n",
    "4. Exercícios"
   ]
  },
  {
   "cell_type": "markdown",
   "id": "ad531c75",
   "metadata": {},
   "source": [
    "# 1. Requisição do CEO"
   ]
  },
  {
   "cell_type": "markdown",
   "id": "381f23f3",
   "metadata": {},
   "source": [
    "## Gostaria de chegar de manhã na minha mesa e ter um lugar único onde eu possa observar o portfólio da House Rocket. Nesse portfólio, eu tenho interesse:\n",
    "    1. Filtros dosimóveis por um ou várias regiões .\n",
    "    2. Escolher uma ou mais variáveis para visualizar.\n",
    "    3. Observar o número total de imóveis, a média de preço, a média da sala de estar e também a média do preço por metro quadrado em cadaum dos códigos postais.\n",
    "    4. Analisar cada uma das colunas de um modo mais descrito.\n",
    "    5. Uma mapa com a densidade de portfólio por região e também densidade de preço.\n",
    "    6. Checar a variação anual depreço. \n",
    "    7 .Checar a variação diária de preço. \n",
    "    8 .Conferir a distribuição dos imóveis por:\n",
    "        - preço,\n",
    "        - Número de quartos\n",
    "        - Numero de banheiros \n",
    "        - Numero deandares \n",
    "        - Vista para a água ou não"
   ]
  },
  {
   "cell_type": "markdown",
   "id": "8db79754",
   "metadata": {},
   "source": [
    "# 2.Planejamento do Dashboard"
   ]
  },
  {
   "cell_type": "markdown",
   "id": "f428268f",
   "metadata": {},
   "source": [
    "## 2.1. Produto final \n",
    "    - Um Link para acessar o dashboard"
   ]
  },
  {
   "cell_type": "markdown",
   "id": "16a9114d",
   "metadata": {},
   "source": [
    "## 2.2. As ferramentas de uso\n",
    "    - Python 3.8.0\n",
    "    - PyCharm"
   ]
  },
  {
   "cell_type": "markdown",
   "id": "4430b05a",
   "metadata": {},
   "source": [
    "### 2.2.1. Exemplos de utilização de Gráficos (Dataviz)"
   ]
  },
  {
   "cell_type": "markdown",
   "id": "34f1e8f3",
   "metadata": {},
   "source": [
    "Tabela -> Exploração e Comparação  \n",
    "Gráfico de Linhas -> Crescimento ou Decaimento de algo  \n",
    "Gráfico de Barras -> Comprar proporções  \n",
    "Gráfico de Pizza -> Comprar até duas variáveis  "
   ]
  },
  {
   "cell_type": "markdown",
   "id": "9997990e",
   "metadata": {},
   "source": [
    "## 2.3. Processo:  "
   ]
  },
  {
   "cell_type": "markdown",
   "id": "1b6b62d7",
   "metadata": {},
   "source": [
    "### 2.3.1. Filtros dos imóveis por um ou várias regiões."
   ]
  },
  {
   "cell_type": "markdown",
   "id": "da9a786b",
   "metadata": {},
   "source": [
    "* Objetivo:\n",
    "    - Visualizar imóveis por código postal.\n",
    "* Ação do Usuário:\n",
    "    - Digitar um ou mais códigos desejados.\n",
    "    - A visualização:Uma tabela com todos os atributos e filtrada por código postal"
   ]
  },
  {
   "cell_type": "markdown",
   "id": "f42cec06",
   "metadata": {},
   "source": [
    "Feito na seção **Data Overview** do arquivo *stramlit_aula_06.py*"
   ]
  },
  {
   "cell_type": "markdown",
   "id": "35bf1b6c",
   "metadata": {},
   "source": [
    "### 2.3.2. Escolher uma ou mais variáveis para visualizar."
   ]
  },
  {
   "cell_type": "markdown",
   "id": "685fb066",
   "metadata": {},
   "source": [
    "* Objetivo:\n",
    "    - Visualizar as características do imóvel.\n",
    "* Ação do Usuário:\n",
    "    - Digita as características desejadas.\n",
    "* A visualização:\n",
    "    - Uma tabela com todos osatributos selecionados."
   ]
  },
  {
   "cell_type": "markdown",
   "id": "1db0a1b6",
   "metadata": {},
   "source": [
    "Feito na seção **Data Overview** do arquivo *stramlit_aula_06.py*"
   ]
  },
  {
   "cell_type": "markdown",
   "id": "33051cc1",
   "metadata": {},
   "source": [
    "### 2.3.3. Observar o  número total de imóveis, a média de preço, a média da sala de estar e também a média do preço por metro quadrado em cada um dos códigos postais."
   ]
  },
  {
   "cell_type": "markdown",
   "id": "c0e4629d",
   "metadata": {},
   "source": [
    "* Objetivo:\n",
    "    - Visualizar as médias de algumas métricas por região.\n",
    "* Ação do Usuário:\n",
    "    - Digita as métricas desejadas.\n",
    "* A visualização: \n",
    "    - Uma tabela com todos os atributos selecionados."
   ]
  },
  {
   "cell_type": "markdown",
   "id": "bcc5b20e",
   "metadata": {},
   "source": [
    "Feito na seção **Data Overview** do arquivo *stramlit_aula_06.py*"
   ]
  },
  {
   "cell_type": "markdown",
   "id": "8038e71e",
   "metadata": {},
   "source": [
    "### 2.3.4. Analisar cada uma das colunas de um modo maisdescritivo. "
   ]
  },
  {
   "cell_type": "markdown",
   "id": "a1a81213",
   "metadata": {},
   "source": [
    "* Objetivo:\n",
    "    - Visualizar métricas descritivas de cada de atributos escolhidos.\n",
    "* Ação do Usuário:\n",
    "    - Digita as métricas desejadas. \n",
    "* A visualização:\n",
    "    - Uma tabela com métricas descritivas por atributo."
   ]
  },
  {
   "cell_type": "markdown",
   "id": "91b7ebe5",
   "metadata": {},
   "source": [
    "Feito na seção **Data Overview** do arquivo *stramlit_aula_06.py*"
   ]
  },
  {
   "cell_type": "markdown",
   "id": "81efe0c4",
   "metadata": {},
   "source": [
    "### 2.3.5. Uma mapa com a densidade de portfólio por região e também densidade de preço."
   ]
  },
  {
   "cell_type": "markdown",
   "id": "514b9f45",
   "metadata": {},
   "source": [
    "* Objetivo: \n",
    "    - Visualizar a densidade de portfólio no mapa ( número de imóveis por região )\n",
    "* Ação do Usuário:\n",
    "    - Nenhuma ação.\n",
    "* A visualização:\n",
    "     - Uma mapa com a densidade de imóveis por região."
   ]
  },
  {
   "cell_type": "markdown",
   "id": "5dcb4d2e",
   "metadata": {},
   "source": [
    "Feito na seção **Densidade de Portifólio** do *arquivo streamlit_aula_06.py*"
   ]
  },
  {
   "cell_type": "markdown",
   "id": "9f6f14ba",
   "metadata": {},
   "source": [
    "### 2.3.6. Checar a variação anual de preço."
   ]
  },
  {
   "cell_type": "markdown",
   "id": "1af258e4",
   "metadata": {},
   "source": [
    "* Objetivo:\n",
    "    - Observar variações anuais de preços.\n",
    "* Ação do Usuário: \n",
    "    - Filtra os dados pelo ano.\n",
    "* A visualização:\n",
    "    - Um gráfico de linha com os anos em x e preços médios em y"
   ]
  },
  {
   "cell_type": "markdown",
   "id": "bd6f813b",
   "metadata": {},
   "source": [
    "Feito na seção **Distribuição de Imóveis por Categoria Comercial** do *arquivo streamlit_aula_06.py*"
   ]
  },
  {
   "cell_type": "markdown",
   "id": "568bb2cc",
   "metadata": {},
   "source": [
    "### 2.3.7. Checar a variação diária de preço."
   ]
  },
  {
   "cell_type": "markdown",
   "id": "f40353cb",
   "metadata": {},
   "source": [
    "* Objetivo:\n",
    "    - Observar variações diárias nos preços.\n",
    "* Ação do Usuário: \n",
    "    - Filtra os dados por dia.\n",
    "* A visualização:\n",
    "    - Um gráfico de linha com os dias em x epreços médios em y"
   ]
  },
  {
   "cell_type": "markdown",
   "id": "4316f9ea",
   "metadata": {},
   "source": [
    "Feito na seção **Distribuição de Imóveis por Categoria Comercial** do *arquivo streamlit_aula_06.py*"
   ]
  },
  {
   "cell_type": "markdown",
   "id": "b76e3be2",
   "metadata": {},
   "source": [
    "### 2.3.8. Conferir a distribuição dos imóveis por: \n",
    "* Preço\n",
    "* Número de quartos\n",
    "* Número de banheiros\n",
    "* Número de andares\n",
    "* Vista para a água ou não"
   ]
  },
  {
   "cell_type": "markdown",
   "id": "9c2c218d",
   "metadata": {},
   "source": [
    "* Objetivo:\n",
    "     - Observar a concentração dos imóveis por preço, quartos, banheiros e andares.\n",
    "* Ação do Usuário: \n",
    "    - Filtro de preço, quarto, banheiro e andar. \n",
    "* A visualização:\n",
    "    - Um histograma com cada atributo definido."
   ]
  },
  {
   "cell_type": "markdown",
   "id": "a8096cb1",
   "metadata": {},
   "source": [
    "A Distribuição dos Imóveis por Preço foi feita na seção **Price Distribution** do arquivo *streamlit_aula_06.py*"
   ]
  },
  {
   "cell_type": "markdown",
   "id": "a04c6169",
   "metadata": {},
   "source": [
    "As outras Distribuições dos Imóveis foram feitas na seção **Distribution per Physical Features** do arquivo *streamlit_aula_06.py*"
   ]
  },
  {
   "cell_type": "markdown",
   "id": "78694b99",
   "metadata": {},
   "source": [
    "# 3.Criação de Dashboards Web"
   ]
  },
  {
   "cell_type": "markdown",
   "id": "8750132c",
   "metadata": {},
   "source": [
    "A criação dos Dashboards Web foram realizadas no arquivo *streamlit_aula_06.py*.  \n",
    "Foi utilizado a ferramenta *Streamlit* para fazer tanto os Dashboards quanto os filtros.  \n",
    "\n",
    "\n",
    "Site para visualizar Dashboards criados com essa ferramenta: https://awesome-streamlit.org/"
   ]
  },
  {
   "cell_type": "markdown",
   "id": "5c333192",
   "metadata": {},
   "source": [
    "Além disso, todo o código criado no arquivo *streamlit_aula_06.py* foi ajustado e revisado. E a partir dessa revisão, foi gerado o arquivo *dashboard.py*"
   ]
  },
  {
   "cell_type": "code",
   "execution_count": null,
   "id": "0736f728",
   "metadata": {},
   "outputs": [],
   "source": []
  }
 ],
 "metadata": {
  "kernelspec": {
   "display_name": "Python 3",
   "language": "python",
   "name": "python3"
  },
  "language_info": {
   "codemirror_mode": {
    "name": "ipython",
    "version": 3
   },
   "file_extension": ".py",
   "mimetype": "text/x-python",
   "name": "python",
   "nbconvert_exporter": "python",
   "pygments_lexer": "ipython3",
   "version": "3.8.5"
  },
  "toc": {
   "base_numbering": 1,
   "nav_menu": {},
   "number_sections": false,
   "sideBar": true,
   "skip_h1_title": false,
   "title_cell": "Table of Contents",
   "title_sidebar": "Contents",
   "toc_cell": false,
   "toc_position": {},
   "toc_section_display": true,
   "toc_window_display": false
  },
  "varInspector": {
   "cols": {
    "lenName": 16,
    "lenType": 16,
    "lenVar": 40
   },
   "kernels_config": {
    "python": {
     "delete_cmd_postfix": "",
     "delete_cmd_prefix": "del ",
     "library": "var_list.py",
     "varRefreshCmd": "print(var_dic_list())"
    },
    "r": {
     "delete_cmd_postfix": ") ",
     "delete_cmd_prefix": "rm(",
     "library": "var_list.r",
     "varRefreshCmd": "cat(var_dic_list()) "
    }
   },
   "position": {
    "height": "144px",
    "left": "1551px",
    "right": "20px",
    "top": "120px",
    "width": "350px"
   },
   "types_to_exclude": [
    "module",
    "function",
    "builtin_function_or_method",
    "instance",
    "_Feature"
   ],
   "window_display": true
  }
 },
 "nbformat": 4,
 "nbformat_minor": 5
}
