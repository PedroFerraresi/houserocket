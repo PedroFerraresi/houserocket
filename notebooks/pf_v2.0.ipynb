{
 "cells": [
  {
   "cell_type": "markdown",
   "metadata": {},
   "source": [
    "# 0. Imports"
   ]
  },
  {
   "cell_type": "code",
   "execution_count": 50,
   "metadata": {},
   "outputs": [],
   "source": [
    "import pandas as pd\n",
    "import numpy as np\n",
    "import seaborn as sns\n",
    "\n",
    "sns.set(rc={'figure.figsize':(12,8)})"
   ]
  },
  {
   "cell_type": "markdown",
   "metadata": {},
   "source": [
    "## Helper Functions"
   ]
  },
  {
   "cell_type": "code",
   "execution_count": 3,
   "metadata": {},
   "outputs": [],
   "source": [
    "def create_descriptive_statistics_table(dataframe, remove_columns = None):\n",
    "    df_numerical = dataframe.select_dtypes(include=['int64', 'float64'])\n",
    "    \n",
    "    if remove_columns != None and isinstance(remove_columns, list):\n",
    "        df_numerical = df_numerical.drop(remove_columns, axis=1)\n",
    "        \n",
    "    df_min = pd.DataFrame(df_numerical.apply(np.min)).T\n",
    "    df_max = pd.DataFrame(df_numerical.apply(np.max)).T\n",
    "    df_range = pd.DataFrame(df_numerical.apply(lambda column: column.max() - column.min())).T\n",
    "    df_mean = pd.DataFrame(df_numerical.apply(np.mean)).T\n",
    "    df_median = pd.DataFrame(df_numerical.apply(np.median)).T\n",
    "    df_std = pd.DataFrame(df_numerical.apply(np.std)).T\n",
    "    df_skew = pd.DataFrame(df_numerical.apply(lambda x: x.skew())).T\n",
    "    df_kurtosis = pd.DataFrame(df_numerical.apply(lambda x: x.kurtosis())).T\n",
    "    \n",
    "    df = pd.concat([df_min, df_max, df_range, df_mean, df_median, df_std, df_skew, df_kurtosis]).T.reset_index()\n",
    "    df.columns = ['attributes', 'min', 'max', 'range', 'mean', 'median', 'std', 'skew', 'kurtosis']\n",
    "    \n",
    "    return df"
   ]
  },
  {
   "cell_type": "markdown",
   "metadata": {},
   "source": [
    "# 1. Projeto de Insights - House Rocket"
   ]
  },
  {
   "cell_type": "markdown",
   "metadata": {},
   "source": [
    "## 1.1. Questões de Negócio"
   ]
  },
  {
   "cell_type": "markdown",
   "metadata": {},
   "source": [
    "1. Quais são os imóveis que a House Rocket deveria comprar e por qual preço ?\n",
    "2. Uma vez a casa comprada, qual o melhor momento para vendê-las e por qual preço ?"
   ]
  },
  {
   "cell_type": "markdown",
   "metadata": {},
   "source": [
    "## 1.2. Entendimento do Negócio"
   ]
  },
  {
   "cell_type": "markdown",
   "metadata": {},
   "source": [
    "1. Quais são os imóveis que a House Rocket deveria comprar e por qual preço ?\n",
    "   - Plano 01:\n",
    "      - Coletar e limpar os dados.\n",
    "      - Agrupar os imóveis por região ( zipcode ).\n",
    "      - Dentro de cada região, será encontrado a mediana do preço do imóvel.\n",
    "      - Será sugerido os imóveis que estão abaixo do preço mediano da região, que estejam em boas condições e tenham vista para água.\n",
    "      - Exemplo de Relatório entregue:\n",
    "            \n",
    "| Imóvel Cod | Região | Preço do Imóvel | Preço na Mediana | Condições | Status |\n",
    "| ---------- | ------ | --------------: | ---------------: | --------- | :----: |\n",
    "| 10330 | Vila Olímpia | R\\$ 450.000,00 | R\\$ 500.000,00 | 3 | Compra |\n",
    "| 10335 | Vila Olímpia | R\\$ 750.000,00 | R\\$ 500.000,00 | 3 | Não Compra |\n",
    "| 10335 | Vila Olímpia | R\\$ 150.000,00 | R\\$ 500.000,00 | 1 | Não Compra |"
   ]
  },
  {
   "cell_type": "markdown",
   "metadata": {},
   "source": [
    "2. Uma vez a casa comprada, qual o melhor momento para vendê-las e por qual preço ?\n",
    "   - Plano 01:\n",
    "     - Coletar e limpar os dados (Etapa já cumprida na tarefa anterior).\n",
    "     - Agrupar os imóveis por região (zipcode) e por sazonalidade (Summer, Inter).\n",
    "     - Dentro de cada região e sazonalidade, será calculado a mediana do preço.\n",
    "     - As condições de venda serão:\n",
    "         1. Se o preço da compra for maior que a mediana da região + sazonalidade. O preço da venda será igual ao preço da compra + 10%\n",
    "         2. Se o preço da compra for menor que a mediana da região + sazonalidade. O preço da venda será igual ao preço da compra + 30%\n",
    "     - Exemplo do relatório entregue:\n",
    "\n",
    "\n",
    "| Imóvel Cod | Região | Temporada | Preço da Mediana | Preço de Compra | Preço de Venda | Lucro | \n",
    "| ---------- | :----- | :---------| ---------------: | --------------: | -------------: | ----: |\n",
    "| 10330 | Vila Olímpia | Verão | R\\$ 800.000,00 | R\\$ 450.000,00 | R\\$ 585.000,00 | R\\$ 135.000,00 |\n",
    "| 10335 | Vila Olímpia | Inverno | R\\$ 400.000,00 | R\\$ 500.000,00 | R\\$ 500.000,00 | R\\$ 50.000,00 |"
   ]
  },
  {
   "cell_type": "markdown",
   "metadata": {},
   "source": [
    "## 1.3. - Coleta dos dados"
   ]
  },
  {
   "cell_type": "markdown",
   "metadata": {},
   "source": [
    "### 1.3.1. Carregamento dos Dados"
   ]
  },
  {
   "cell_type": "code",
   "execution_count": 4,
   "metadata": {},
   "outputs": [
    {
     "data": {
      "text/html": [
       "<div>\n",
       "<style scoped>\n",
       "    .dataframe tbody tr th:only-of-type {\n",
       "        vertical-align: middle;\n",
       "    }\n",
       "\n",
       "    .dataframe tbody tr th {\n",
       "        vertical-align: top;\n",
       "    }\n",
       "\n",
       "    .dataframe thead th {\n",
       "        text-align: right;\n",
       "    }\n",
       "</style>\n",
       "<table border=\"1\" class=\"dataframe\">\n",
       "  <thead>\n",
       "    <tr style=\"text-align: right;\">\n",
       "      <th></th>\n",
       "      <th>id</th>\n",
       "      <th>date</th>\n",
       "      <th>price</th>\n",
       "      <th>bedrooms</th>\n",
       "      <th>bathrooms</th>\n",
       "      <th>sqft_living</th>\n",
       "      <th>sqft_lot</th>\n",
       "      <th>floors</th>\n",
       "      <th>waterfront</th>\n",
       "      <th>view</th>\n",
       "      <th>...</th>\n",
       "      <th>grade</th>\n",
       "      <th>sqft_above</th>\n",
       "      <th>sqft_basement</th>\n",
       "      <th>yr_built</th>\n",
       "      <th>yr_renovated</th>\n",
       "      <th>zipcode</th>\n",
       "      <th>lat</th>\n",
       "      <th>long</th>\n",
       "      <th>sqft_living15</th>\n",
       "      <th>sqft_lot15</th>\n",
       "    </tr>\n",
       "  </thead>\n",
       "  <tbody>\n",
       "    <tr>\n",
       "      <th>0</th>\n",
       "      <td>7129300520</td>\n",
       "      <td>20141013T000000</td>\n",
       "      <td>221900.0</td>\n",
       "      <td>3</td>\n",
       "      <td>1.00</td>\n",
       "      <td>1180</td>\n",
       "      <td>5650</td>\n",
       "      <td>1.0</td>\n",
       "      <td>0</td>\n",
       "      <td>0</td>\n",
       "      <td>...</td>\n",
       "      <td>7</td>\n",
       "      <td>1180</td>\n",
       "      <td>0</td>\n",
       "      <td>1955</td>\n",
       "      <td>0</td>\n",
       "      <td>98178</td>\n",
       "      <td>47.5112</td>\n",
       "      <td>-122.257</td>\n",
       "      <td>1340</td>\n",
       "      <td>5650</td>\n",
       "    </tr>\n",
       "    <tr>\n",
       "      <th>1</th>\n",
       "      <td>6414100192</td>\n",
       "      <td>20141209T000000</td>\n",
       "      <td>538000.0</td>\n",
       "      <td>3</td>\n",
       "      <td>2.25</td>\n",
       "      <td>2570</td>\n",
       "      <td>7242</td>\n",
       "      <td>2.0</td>\n",
       "      <td>0</td>\n",
       "      <td>0</td>\n",
       "      <td>...</td>\n",
       "      <td>7</td>\n",
       "      <td>2170</td>\n",
       "      <td>400</td>\n",
       "      <td>1951</td>\n",
       "      <td>1991</td>\n",
       "      <td>98125</td>\n",
       "      <td>47.7210</td>\n",
       "      <td>-122.319</td>\n",
       "      <td>1690</td>\n",
       "      <td>7639</td>\n",
       "    </tr>\n",
       "    <tr>\n",
       "      <th>2</th>\n",
       "      <td>5631500400</td>\n",
       "      <td>20150225T000000</td>\n",
       "      <td>180000.0</td>\n",
       "      <td>2</td>\n",
       "      <td>1.00</td>\n",
       "      <td>770</td>\n",
       "      <td>10000</td>\n",
       "      <td>1.0</td>\n",
       "      <td>0</td>\n",
       "      <td>0</td>\n",
       "      <td>...</td>\n",
       "      <td>6</td>\n",
       "      <td>770</td>\n",
       "      <td>0</td>\n",
       "      <td>1933</td>\n",
       "      <td>0</td>\n",
       "      <td>98028</td>\n",
       "      <td>47.7379</td>\n",
       "      <td>-122.233</td>\n",
       "      <td>2720</td>\n",
       "      <td>8062</td>\n",
       "    </tr>\n",
       "    <tr>\n",
       "      <th>3</th>\n",
       "      <td>2487200875</td>\n",
       "      <td>20141209T000000</td>\n",
       "      <td>604000.0</td>\n",
       "      <td>4</td>\n",
       "      <td>3.00</td>\n",
       "      <td>1960</td>\n",
       "      <td>5000</td>\n",
       "      <td>1.0</td>\n",
       "      <td>0</td>\n",
       "      <td>0</td>\n",
       "      <td>...</td>\n",
       "      <td>7</td>\n",
       "      <td>1050</td>\n",
       "      <td>910</td>\n",
       "      <td>1965</td>\n",
       "      <td>0</td>\n",
       "      <td>98136</td>\n",
       "      <td>47.5208</td>\n",
       "      <td>-122.393</td>\n",
       "      <td>1360</td>\n",
       "      <td>5000</td>\n",
       "    </tr>\n",
       "    <tr>\n",
       "      <th>4</th>\n",
       "      <td>1954400510</td>\n",
       "      <td>20150218T000000</td>\n",
       "      <td>510000.0</td>\n",
       "      <td>3</td>\n",
       "      <td>2.00</td>\n",
       "      <td>1680</td>\n",
       "      <td>8080</td>\n",
       "      <td>1.0</td>\n",
       "      <td>0</td>\n",
       "      <td>0</td>\n",
       "      <td>...</td>\n",
       "      <td>8</td>\n",
       "      <td>1680</td>\n",
       "      <td>0</td>\n",
       "      <td>1987</td>\n",
       "      <td>0</td>\n",
       "      <td>98074</td>\n",
       "      <td>47.6168</td>\n",
       "      <td>-122.045</td>\n",
       "      <td>1800</td>\n",
       "      <td>7503</td>\n",
       "    </tr>\n",
       "  </tbody>\n",
       "</table>\n",
       "<p>5 rows × 21 columns</p>\n",
       "</div>"
      ],
      "text/plain": [
       "           id             date     price  bedrooms  bathrooms  sqft_living  \\\n",
       "0  7129300520  20141013T000000  221900.0         3       1.00         1180   \n",
       "1  6414100192  20141209T000000  538000.0         3       2.25         2570   \n",
       "2  5631500400  20150225T000000  180000.0         2       1.00          770   \n",
       "3  2487200875  20141209T000000  604000.0         4       3.00         1960   \n",
       "4  1954400510  20150218T000000  510000.0         3       2.00         1680   \n",
       "\n",
       "   sqft_lot  floors  waterfront  view  ...  grade  sqft_above  sqft_basement  \\\n",
       "0      5650     1.0           0     0  ...      7        1180              0   \n",
       "1      7242     2.0           0     0  ...      7        2170            400   \n",
       "2     10000     1.0           0     0  ...      6         770              0   \n",
       "3      5000     1.0           0     0  ...      7        1050            910   \n",
       "4      8080     1.0           0     0  ...      8        1680              0   \n",
       "\n",
       "   yr_built  yr_renovated  zipcode      lat     long  sqft_living15  \\\n",
       "0      1955             0    98178  47.5112 -122.257           1340   \n",
       "1      1951          1991    98125  47.7210 -122.319           1690   \n",
       "2      1933             0    98028  47.7379 -122.233           2720   \n",
       "3      1965             0    98136  47.5208 -122.393           1360   \n",
       "4      1987             0    98074  47.6168 -122.045           1800   \n",
       "\n",
       "   sqft_lot15  \n",
       "0        5650  \n",
       "1        7639  \n",
       "2        8062  \n",
       "3        5000  \n",
       "4        7503  \n",
       "\n",
       "[5 rows x 21 columns]"
      ]
     },
     "execution_count": 4,
     "metadata": {},
     "output_type": "execute_result"
    }
   ],
   "source": [
    "df_raw = pd.read_csv('../datasets/kc_house_data.csv')\n",
    "df_raw.head()"
   ]
  },
  {
   "cell_type": "markdown",
   "metadata": {},
   "source": [
    "### 1.3.2. Descrição dos Dados"
   ]
  },
  {
   "cell_type": "markdown",
   "metadata": {},
   "source": [
    "| Nome da Coluna | Descrição da Coluna |\n",
    "| :------------- | :------------------ |\n",
    "| id | ID único de cada imóvel na base de dados |\n",
    "| date | Data da venda do imóvel |\n",
    "| price | Preço de venda do imóvel |\n",
    "| bedrooms | Número de quartos |\n",
    "| bedrooms | Número de banheiros. Onde 0.5 representa um quarto com vaso sanitário, mas sem chuveiro; 0.75 representa um banheiro que contém uma pia, uma privada, um chuveiro ou uma banheira. Um banheiro completo tradicionalmente possui uma pia, uma privada, um chuveiro e uma banheira, dessa forma, 0.75 representa que o banheiro tem ou um chuveiro ou uma banheira |\n",
    "| sqft_living | Metragem quadrada (em pés) do espaço interior do imóvel |\n",
    "| sqft_lot | Metragem quadrada (em pés) do espaço terrestre do imóvel |\n",
    "| floors | Número de andares do imóvel |\n",
    "| waterfront | Coluna que representa se o imóvel possui vista para o mar/lago ou não. 0 representa sem vista para a água e 1 representa vista para a água |\n",
    "| view | Índice de 0 a 4 de quão boa é a vista do imóvel. 0 é a pior vista e 4 é a melhor vista |\n",
    "| condition | Índice de 1 a 5 sobre a condição (usado) do imóvel. 1 é a pior condição e 5 é a melhor |\n",
    "| grade\t| Índice de 1 a 13 sobre a condição da construção e design do imóvel. 1 é a pior nota e 13 é a melhor nota |\n",
    "| sqft_above | Metragem quadrada (em pés) do espaço interno do imóvel que está acima do nível do solo |\n",
    "| sqft_basement | Metragem quadrada (em pés) do espaço interno do imóvel que está abaixo do nível do solo (porão) |\n",
    "| yr_built | Ano em que o imóvel foi construído |\n",
    "| yr_renovated | Ano da última reforma do imóvel |\n",
    "| zipcode | Código postal do imóvel |\n",
    "| lat | Ponto de latitude do imóvel |\n",
    "| long | Ponto de longitude do imóvel |\n",
    "| sqft_living15 | Metragem quadrada (em pés) do espaço habitacional interior para os 15 vizinhos mais próximos |\n",
    "| sqft_lot15 | A metragem quadrada (em pés) dos terrenos (lotes vazios) dos 15 vizinhos mais próximos |"
   ]
  },
  {
   "cell_type": "markdown",
   "metadata": {},
   "source": [
    "### 1.3.3. Verificação de NAs e tipos dos Dados"
   ]
  },
  {
   "cell_type": "code",
   "execution_count": 5,
   "metadata": {},
   "outputs": [
    {
     "name": "stdout",
     "output_type": "stream",
     "text": [
      "<class 'pandas.core.frame.DataFrame'>\n",
      "RangeIndex: 21613 entries, 0 to 21612\n",
      "Data columns (total 21 columns):\n",
      " #   Column         Non-Null Count  Dtype  \n",
      "---  ------         --------------  -----  \n",
      " 0   id             21613 non-null  int64  \n",
      " 1   date           21613 non-null  object \n",
      " 2   price          21613 non-null  float64\n",
      " 3   bedrooms       21613 non-null  int64  \n",
      " 4   bathrooms      21613 non-null  float64\n",
      " 5   sqft_living    21613 non-null  int64  \n",
      " 6   sqft_lot       21613 non-null  int64  \n",
      " 7   floors         21613 non-null  float64\n",
      " 8   waterfront     21613 non-null  int64  \n",
      " 9   view           21613 non-null  int64  \n",
      " 10  condition      21613 non-null  int64  \n",
      " 11  grade          21613 non-null  int64  \n",
      " 12  sqft_above     21613 non-null  int64  \n",
      " 13  sqft_basement  21613 non-null  int64  \n",
      " 14  yr_built       21613 non-null  int64  \n",
      " 15  yr_renovated   21613 non-null  int64  \n",
      " 16  zipcode        21613 non-null  int64  \n",
      " 17  lat            21613 non-null  float64\n",
      " 18  long           21613 non-null  float64\n",
      " 19  sqft_living15  21613 non-null  int64  \n",
      " 20  sqft_lot15     21613 non-null  int64  \n",
      "dtypes: float64(5), int64(15), object(1)\n",
      "memory usage: 3.5+ MB\n"
     ]
    }
   ],
   "source": [
    "df_raw.info()"
   ]
  },
  {
   "cell_type": "markdown",
   "metadata": {},
   "source": [
    "Como não temos dados faltantes, iremos verificar primeiro a tabela de estatística descritiva para verificar as inconsistencias e depois limpar os dados, caso necessário.\n",
    "\n",
    "Além disso, precisamos arrumar a coluna `date` para o tipo de data."
   ]
  },
  {
   "cell_type": "markdown",
   "metadata": {},
   "source": [
    "### 1.3.4. Tabela de Estatística descritiva"
   ]
  },
  {
   "cell_type": "code",
   "execution_count": 6,
   "metadata": {},
   "outputs": [
    {
     "data": {
      "text/html": [
       "<div>\n",
       "<style scoped>\n",
       "    .dataframe tbody tr th:only-of-type {\n",
       "        vertical-align: middle;\n",
       "    }\n",
       "\n",
       "    .dataframe tbody tr th {\n",
       "        vertical-align: top;\n",
       "    }\n",
       "\n",
       "    .dataframe thead th {\n",
       "        text-align: right;\n",
       "    }\n",
       "</style>\n",
       "<table border=\"1\" class=\"dataframe\">\n",
       "  <thead>\n",
       "    <tr style=\"text-align: right;\">\n",
       "      <th></th>\n",
       "      <th>attributes</th>\n",
       "      <th>min</th>\n",
       "      <th>max</th>\n",
       "      <th>range</th>\n",
       "      <th>mean</th>\n",
       "      <th>median</th>\n",
       "      <th>std</th>\n",
       "      <th>skew</th>\n",
       "      <th>kurtosis</th>\n",
       "    </tr>\n",
       "  </thead>\n",
       "  <tbody>\n",
       "    <tr>\n",
       "      <th>0</th>\n",
       "      <td>price</td>\n",
       "      <td>75000.0</td>\n",
       "      <td>7700000.0</td>\n",
       "      <td>7625000.0</td>\n",
       "      <td>540088.141767</td>\n",
       "      <td>450000.00</td>\n",
       "      <td>367118.703181</td>\n",
       "      <td>4.024069</td>\n",
       "      <td>34.585540</td>\n",
       "    </tr>\n",
       "    <tr>\n",
       "      <th>1</th>\n",
       "      <td>bedrooms</td>\n",
       "      <td>0.0</td>\n",
       "      <td>33.0</td>\n",
       "      <td>33.0</td>\n",
       "      <td>3.370842</td>\n",
       "      <td>3.00</td>\n",
       "      <td>0.930040</td>\n",
       "      <td>1.974300</td>\n",
       "      <td>49.063653</td>\n",
       "    </tr>\n",
       "    <tr>\n",
       "      <th>2</th>\n",
       "      <td>bathrooms</td>\n",
       "      <td>0.0</td>\n",
       "      <td>8.0</td>\n",
       "      <td>8.0</td>\n",
       "      <td>2.114757</td>\n",
       "      <td>2.25</td>\n",
       "      <td>0.770145</td>\n",
       "      <td>0.511108</td>\n",
       "      <td>1.279902</td>\n",
       "    </tr>\n",
       "    <tr>\n",
       "      <th>3</th>\n",
       "      <td>sqft_living</td>\n",
       "      <td>290.0</td>\n",
       "      <td>13540.0</td>\n",
       "      <td>13250.0</td>\n",
       "      <td>2079.899736</td>\n",
       "      <td>1910.00</td>\n",
       "      <td>918.419649</td>\n",
       "      <td>1.471555</td>\n",
       "      <td>5.243093</td>\n",
       "    </tr>\n",
       "    <tr>\n",
       "      <th>4</th>\n",
       "      <td>sqft_lot</td>\n",
       "      <td>520.0</td>\n",
       "      <td>1651359.0</td>\n",
       "      <td>1650839.0</td>\n",
       "      <td>15106.967566</td>\n",
       "      <td>7618.00</td>\n",
       "      <td>41419.553273</td>\n",
       "      <td>13.060019</td>\n",
       "      <td>285.077820</td>\n",
       "    </tr>\n",
       "    <tr>\n",
       "      <th>5</th>\n",
       "      <td>floors</td>\n",
       "      <td>1.0</td>\n",
       "      <td>3.5</td>\n",
       "      <td>2.5</td>\n",
       "      <td>1.494309</td>\n",
       "      <td>1.50</td>\n",
       "      <td>0.539976</td>\n",
       "      <td>0.616177</td>\n",
       "      <td>-0.484723</td>\n",
       "    </tr>\n",
       "    <tr>\n",
       "      <th>6</th>\n",
       "      <td>waterfront</td>\n",
       "      <td>0.0</td>\n",
       "      <td>1.0</td>\n",
       "      <td>1.0</td>\n",
       "      <td>0.007542</td>\n",
       "      <td>0.00</td>\n",
       "      <td>0.086515</td>\n",
       "      <td>11.385108</td>\n",
       "      <td>127.632494</td>\n",
       "    </tr>\n",
       "    <tr>\n",
       "      <th>7</th>\n",
       "      <td>view</td>\n",
       "      <td>0.0</td>\n",
       "      <td>4.0</td>\n",
       "      <td>4.0</td>\n",
       "      <td>0.234303</td>\n",
       "      <td>0.00</td>\n",
       "      <td>0.766300</td>\n",
       "      <td>3.395750</td>\n",
       "      <td>10.893022</td>\n",
       "    </tr>\n",
       "    <tr>\n",
       "      <th>8</th>\n",
       "      <td>condition</td>\n",
       "      <td>1.0</td>\n",
       "      <td>5.0</td>\n",
       "      <td>4.0</td>\n",
       "      <td>3.409430</td>\n",
       "      <td>3.00</td>\n",
       "      <td>0.650728</td>\n",
       "      <td>1.032805</td>\n",
       "      <td>0.525764</td>\n",
       "    </tr>\n",
       "    <tr>\n",
       "      <th>9</th>\n",
       "      <td>grade</td>\n",
       "      <td>1.0</td>\n",
       "      <td>13.0</td>\n",
       "      <td>12.0</td>\n",
       "      <td>7.656873</td>\n",
       "      <td>7.00</td>\n",
       "      <td>1.175432</td>\n",
       "      <td>0.771103</td>\n",
       "      <td>1.190932</td>\n",
       "    </tr>\n",
       "    <tr>\n",
       "      <th>10</th>\n",
       "      <td>sqft_above</td>\n",
       "      <td>290.0</td>\n",
       "      <td>9410.0</td>\n",
       "      <td>9120.0</td>\n",
       "      <td>1788.390691</td>\n",
       "      <td>1560.00</td>\n",
       "      <td>828.071820</td>\n",
       "      <td>1.446664</td>\n",
       "      <td>3.402304</td>\n",
       "    </tr>\n",
       "    <tr>\n",
       "      <th>11</th>\n",
       "      <td>sqft_basement</td>\n",
       "      <td>0.0</td>\n",
       "      <td>4820.0</td>\n",
       "      <td>4820.0</td>\n",
       "      <td>291.509045</td>\n",
       "      <td>0.00</td>\n",
       "      <td>442.564804</td>\n",
       "      <td>1.577965</td>\n",
       "      <td>2.715574</td>\n",
       "    </tr>\n",
       "    <tr>\n",
       "      <th>12</th>\n",
       "      <td>yr_built</td>\n",
       "      <td>1900.0</td>\n",
       "      <td>2015.0</td>\n",
       "      <td>115.0</td>\n",
       "      <td>1971.005136</td>\n",
       "      <td>1975.00</td>\n",
       "      <td>29.372731</td>\n",
       "      <td>-0.469805</td>\n",
       "      <td>-0.657408</td>\n",
       "    </tr>\n",
       "    <tr>\n",
       "      <th>13</th>\n",
       "      <td>yr_renovated</td>\n",
       "      <td>0.0</td>\n",
       "      <td>2015.0</td>\n",
       "      <td>2015.0</td>\n",
       "      <td>84.402258</td>\n",
       "      <td>0.00</td>\n",
       "      <td>401.669947</td>\n",
       "      <td>4.549493</td>\n",
       "      <td>18.701152</td>\n",
       "    </tr>\n",
       "    <tr>\n",
       "      <th>14</th>\n",
       "      <td>zipcode</td>\n",
       "      <td>98001.0</td>\n",
       "      <td>98199.0</td>\n",
       "      <td>198.0</td>\n",
       "      <td>98077.939805</td>\n",
       "      <td>98065.00</td>\n",
       "      <td>53.503788</td>\n",
       "      <td>0.405661</td>\n",
       "      <td>-0.853479</td>\n",
       "    </tr>\n",
       "    <tr>\n",
       "      <th>15</th>\n",
       "      <td>sqft_living15</td>\n",
       "      <td>399.0</td>\n",
       "      <td>6210.0</td>\n",
       "      <td>5811.0</td>\n",
       "      <td>1986.552492</td>\n",
       "      <td>1840.00</td>\n",
       "      <td>685.375448</td>\n",
       "      <td>1.108181</td>\n",
       "      <td>1.597096</td>\n",
       "    </tr>\n",
       "    <tr>\n",
       "      <th>16</th>\n",
       "      <td>sqft_lot15</td>\n",
       "      <td>651.0</td>\n",
       "      <td>871200.0</td>\n",
       "      <td>870549.0</td>\n",
       "      <td>12768.455652</td>\n",
       "      <td>7620.00</td>\n",
       "      <td>27303.547963</td>\n",
       "      <td>9.506743</td>\n",
       "      <td>150.763110</td>\n",
       "    </tr>\n",
       "  </tbody>\n",
       "</table>\n",
       "</div>"
      ],
      "text/plain": [
       "       attributes      min        max      range           mean     median  \\\n",
       "0           price  75000.0  7700000.0  7625000.0  540088.141767  450000.00   \n",
       "1        bedrooms      0.0       33.0       33.0       3.370842       3.00   \n",
       "2       bathrooms      0.0        8.0        8.0       2.114757       2.25   \n",
       "3     sqft_living    290.0    13540.0    13250.0    2079.899736    1910.00   \n",
       "4        sqft_lot    520.0  1651359.0  1650839.0   15106.967566    7618.00   \n",
       "5          floors      1.0        3.5        2.5       1.494309       1.50   \n",
       "6      waterfront      0.0        1.0        1.0       0.007542       0.00   \n",
       "7            view      0.0        4.0        4.0       0.234303       0.00   \n",
       "8       condition      1.0        5.0        4.0       3.409430       3.00   \n",
       "9           grade      1.0       13.0       12.0       7.656873       7.00   \n",
       "10     sqft_above    290.0     9410.0     9120.0    1788.390691    1560.00   \n",
       "11  sqft_basement      0.0     4820.0     4820.0     291.509045       0.00   \n",
       "12       yr_built   1900.0     2015.0      115.0    1971.005136    1975.00   \n",
       "13   yr_renovated      0.0     2015.0     2015.0      84.402258       0.00   \n",
       "14        zipcode  98001.0    98199.0      198.0   98077.939805   98065.00   \n",
       "15  sqft_living15    399.0     6210.0     5811.0    1986.552492    1840.00   \n",
       "16     sqft_lot15    651.0   871200.0   870549.0   12768.455652    7620.00   \n",
       "\n",
       "              std       skew    kurtosis  \n",
       "0   367118.703181   4.024069   34.585540  \n",
       "1        0.930040   1.974300   49.063653  \n",
       "2        0.770145   0.511108    1.279902  \n",
       "3      918.419649   1.471555    5.243093  \n",
       "4    41419.553273  13.060019  285.077820  \n",
       "5        0.539976   0.616177   -0.484723  \n",
       "6        0.086515  11.385108  127.632494  \n",
       "7        0.766300   3.395750   10.893022  \n",
       "8        0.650728   1.032805    0.525764  \n",
       "9        1.175432   0.771103    1.190932  \n",
       "10     828.071820   1.446664    3.402304  \n",
       "11     442.564804   1.577965    2.715574  \n",
       "12      29.372731  -0.469805   -0.657408  \n",
       "13     401.669947   4.549493   18.701152  \n",
       "14      53.503788   0.405661   -0.853479  \n",
       "15     685.375448   1.108181    1.597096  \n",
       "16   27303.547963   9.506743  150.763110  "
      ]
     },
     "execution_count": 6,
     "metadata": {},
     "output_type": "execute_result"
    }
   ],
   "source": [
    "df_numerical = create_descriptive_statistics_table(df_raw, ['id', 'lat', 'long'])\n",
    "df_numerical"
   ]
  },
  {
   "cell_type": "markdown",
   "metadata": {},
   "source": [
    "Como podemos observar, temos imóveis que não possuem nem banheiros e nem quartos (valores mínimos iguais a zero). Na limpeza, esses imóveis serão removidos. Limparemos também o registro que tem 33 quartos."
   ]
  },
  {
   "cell_type": "markdown",
   "metadata": {},
   "source": [
    "### 1.3.3. Limpeza dos Dados"
   ]
  },
  {
   "cell_type": "code",
   "execution_count": 7,
   "metadata": {},
   "outputs": [],
   "source": [
    "df1 = df_raw.loc[df_raw['bedrooms'] > 0, :]\n",
    "df1 = df1.loc[df1['bedrooms'] < 33, :]\n",
    "df1 = df1.loc[df1['bathrooms'] > 0, :]"
   ]
  },
  {
   "cell_type": "markdown",
   "metadata": {},
   "source": [
    "#### 1.3.4. Estatistica Descritiva"
   ]
  },
  {
   "cell_type": "markdown",
   "metadata": {},
   "source": [
    "#### 1.3.4.1. Variáveis Numéricas"
   ]
  },
  {
   "cell_type": "code",
   "execution_count": 8,
   "metadata": {},
   "outputs": [
    {
     "data": {
      "text/html": [
       "<div>\n",
       "<style scoped>\n",
       "    .dataframe tbody tr th:only-of-type {\n",
       "        vertical-align: middle;\n",
       "    }\n",
       "\n",
       "    .dataframe tbody tr th {\n",
       "        vertical-align: top;\n",
       "    }\n",
       "\n",
       "    .dataframe thead th {\n",
       "        text-align: right;\n",
       "    }\n",
       "</style>\n",
       "<table border=\"1\" class=\"dataframe\">\n",
       "  <thead>\n",
       "    <tr style=\"text-align: right;\">\n",
       "      <th></th>\n",
       "      <th>attributes</th>\n",
       "      <th>min</th>\n",
       "      <th>max</th>\n",
       "      <th>range</th>\n",
       "      <th>mean</th>\n",
       "      <th>median</th>\n",
       "      <th>std</th>\n",
       "      <th>skew</th>\n",
       "      <th>kurtosis</th>\n",
       "    </tr>\n",
       "  </thead>\n",
       "  <tbody>\n",
       "    <tr>\n",
       "      <th>0</th>\n",
       "      <td>price</td>\n",
       "      <td>78000.0</td>\n",
       "      <td>7700000.0</td>\n",
       "      <td>7622000.0</td>\n",
       "      <td>540198.298666</td>\n",
       "      <td>450000.00</td>\n",
       "      <td>367133.102791</td>\n",
       "      <td>4.025670</td>\n",
       "      <td>34.602960</td>\n",
       "    </tr>\n",
       "    <tr>\n",
       "      <th>1</th>\n",
       "      <td>bedrooms</td>\n",
       "      <td>1.0</td>\n",
       "      <td>11.0</td>\n",
       "      <td>10.0</td>\n",
       "      <td>3.371828</td>\n",
       "      <td>3.00</td>\n",
       "      <td>0.904093</td>\n",
       "      <td>0.551382</td>\n",
       "      <td>1.797482</td>\n",
       "    </tr>\n",
       "    <tr>\n",
       "      <th>2</th>\n",
       "      <td>bathrooms</td>\n",
       "      <td>0.5</td>\n",
       "      <td>8.0</td>\n",
       "      <td>7.5</td>\n",
       "      <td>2.115843</td>\n",
       "      <td>2.25</td>\n",
       "      <td>0.768980</td>\n",
       "      <td>0.519644</td>\n",
       "      <td>1.279159</td>\n",
       "    </tr>\n",
       "    <tr>\n",
       "      <th>3</th>\n",
       "      <td>sqft_living</td>\n",
       "      <td>370.0</td>\n",
       "      <td>13540.0</td>\n",
       "      <td>13170.0</td>\n",
       "      <td>2080.343165</td>\n",
       "      <td>1910.00</td>\n",
       "      <td>918.100781</td>\n",
       "      <td>1.473143</td>\n",
       "      <td>5.251772</td>\n",
       "    </tr>\n",
       "    <tr>\n",
       "      <th>4</th>\n",
       "      <td>sqft_lot</td>\n",
       "      <td>520.0</td>\n",
       "      <td>1651359.0</td>\n",
       "      <td>1650839.0</td>\n",
       "      <td>15099.830107</td>\n",
       "      <td>7619.00</td>\n",
       "      <td>41412.590583</td>\n",
       "      <td>13.072315</td>\n",
       "      <td>285.483214</td>\n",
       "    </tr>\n",
       "    <tr>\n",
       "      <th>5</th>\n",
       "      <td>floors</td>\n",
       "      <td>1.0</td>\n",
       "      <td>3.5</td>\n",
       "      <td>2.5</td>\n",
       "      <td>1.494119</td>\n",
       "      <td>1.50</td>\n",
       "      <td>0.539672</td>\n",
       "      <td>0.614427</td>\n",
       "      <td>-0.491124</td>\n",
       "    </tr>\n",
       "    <tr>\n",
       "      <th>6</th>\n",
       "      <td>waterfront</td>\n",
       "      <td>0.0</td>\n",
       "      <td>1.0</td>\n",
       "      <td>1.0</td>\n",
       "      <td>0.007548</td>\n",
       "      <td>0.00</td>\n",
       "      <td>0.086549</td>\n",
       "      <td>11.380527</td>\n",
       "      <td>127.528204</td>\n",
       "    </tr>\n",
       "    <tr>\n",
       "      <th>7</th>\n",
       "      <td>view</td>\n",
       "      <td>0.0</td>\n",
       "      <td>4.0</td>\n",
       "      <td>4.0</td>\n",
       "      <td>0.234303</td>\n",
       "      <td>0.00</td>\n",
       "      <td>0.766388</td>\n",
       "      <td>3.396138</td>\n",
       "      <td>10.894949</td>\n",
       "    </tr>\n",
       "    <tr>\n",
       "      <th>8</th>\n",
       "      <td>condition</td>\n",
       "      <td>1.0</td>\n",
       "      <td>5.0</td>\n",
       "      <td>4.0</td>\n",
       "      <td>3.409752</td>\n",
       "      <td>3.00</td>\n",
       "      <td>0.650456</td>\n",
       "      <td>1.036107</td>\n",
       "      <td>0.519838</td>\n",
       "    </tr>\n",
       "    <tr>\n",
       "      <th>9</th>\n",
       "      <td>grade</td>\n",
       "      <td>3.0</td>\n",
       "      <td>13.0</td>\n",
       "      <td>10.0</td>\n",
       "      <td>7.657946</td>\n",
       "      <td>7.00</td>\n",
       "      <td>1.173191</td>\n",
       "      <td>0.788166</td>\n",
       "      <td>1.134991</td>\n",
       "    </tr>\n",
       "    <tr>\n",
       "      <th>10</th>\n",
       "      <td>sqft_above</td>\n",
       "      <td>370.0</td>\n",
       "      <td>9410.0</td>\n",
       "      <td>9040.0</td>\n",
       "      <td>1788.631506</td>\n",
       "      <td>1560.00</td>\n",
       "      <td>827.744086</td>\n",
       "      <td>1.447392</td>\n",
       "      <td>3.405435</td>\n",
       "    </tr>\n",
       "    <tr>\n",
       "      <th>11</th>\n",
       "      <td>sqft_basement</td>\n",
       "      <td>0.0</td>\n",
       "      <td>4820.0</td>\n",
       "      <td>4820.0</td>\n",
       "      <td>291.711660</td>\n",
       "      <td>0.00</td>\n",
       "      <td>442.663454</td>\n",
       "      <td>1.576977</td>\n",
       "      <td>2.711940</td>\n",
       "    </tr>\n",
       "    <tr>\n",
       "      <th>12</th>\n",
       "      <td>yr_built</td>\n",
       "      <td>1900.0</td>\n",
       "      <td>2015.0</td>\n",
       "      <td>115.0</td>\n",
       "      <td>1971.000787</td>\n",
       "      <td>1975.00</td>\n",
       "      <td>29.374780</td>\n",
       "      <td>-0.469549</td>\n",
       "      <td>-0.657608</td>\n",
       "    </tr>\n",
       "    <tr>\n",
       "      <th>13</th>\n",
       "      <td>yr_renovated</td>\n",
       "      <td>0.0</td>\n",
       "      <td>2015.0</td>\n",
       "      <td>2015.0</td>\n",
       "      <td>84.468698</td>\n",
       "      <td>0.00</td>\n",
       "      <td>401.821027</td>\n",
       "      <td>4.547452</td>\n",
       "      <td>18.682584</td>\n",
       "    </tr>\n",
       "    <tr>\n",
       "      <th>14</th>\n",
       "      <td>zipcode</td>\n",
       "      <td>98001.0</td>\n",
       "      <td>98199.0</td>\n",
       "      <td>198.0</td>\n",
       "      <td>98077.950685</td>\n",
       "      <td>98065.00</td>\n",
       "      <td>53.512801</td>\n",
       "      <td>0.405379</td>\n",
       "      <td>-0.854028</td>\n",
       "    </tr>\n",
       "    <tr>\n",
       "      <th>15</th>\n",
       "      <td>sqft_living15</td>\n",
       "      <td>399.0</td>\n",
       "      <td>6210.0</td>\n",
       "      <td>5811.0</td>\n",
       "      <td>1986.650722</td>\n",
       "      <td>1840.00</td>\n",
       "      <td>685.215903</td>\n",
       "      <td>1.106828</td>\n",
       "      <td>1.591675</td>\n",
       "    </tr>\n",
       "    <tr>\n",
       "      <th>16</th>\n",
       "      <td>sqft_lot15</td>\n",
       "      <td>651.0</td>\n",
       "      <td>871200.0</td>\n",
       "      <td>870549.0</td>\n",
       "      <td>12758.656649</td>\n",
       "      <td>7620.00</td>\n",
       "      <td>27274.386826</td>\n",
       "      <td>9.524159</td>\n",
       "      <td>151.389242</td>\n",
       "    </tr>\n",
       "  </tbody>\n",
       "</table>\n",
       "</div>"
      ],
      "text/plain": [
       "       attributes      min        max      range           mean     median  \\\n",
       "0           price  78000.0  7700000.0  7622000.0  540198.298666  450000.00   \n",
       "1        bedrooms      1.0       11.0       10.0       3.371828       3.00   \n",
       "2       bathrooms      0.5        8.0        7.5       2.115843       2.25   \n",
       "3     sqft_living    370.0    13540.0    13170.0    2080.343165    1910.00   \n",
       "4        sqft_lot    520.0  1651359.0  1650839.0   15099.830107    7619.00   \n",
       "5          floors      1.0        3.5        2.5       1.494119       1.50   \n",
       "6      waterfront      0.0        1.0        1.0       0.007548       0.00   \n",
       "7            view      0.0        4.0        4.0       0.234303       0.00   \n",
       "8       condition      1.0        5.0        4.0       3.409752       3.00   \n",
       "9           grade      3.0       13.0       10.0       7.657946       7.00   \n",
       "10     sqft_above    370.0     9410.0     9040.0    1788.631506    1560.00   \n",
       "11  sqft_basement      0.0     4820.0     4820.0     291.711660       0.00   \n",
       "12       yr_built   1900.0     2015.0      115.0    1971.000787    1975.00   \n",
       "13   yr_renovated      0.0     2015.0     2015.0      84.468698       0.00   \n",
       "14        zipcode  98001.0    98199.0      198.0   98077.950685   98065.00   \n",
       "15  sqft_living15    399.0     6210.0     5811.0    1986.650722    1840.00   \n",
       "16     sqft_lot15    651.0   871200.0   870549.0   12758.656649    7620.00   \n",
       "\n",
       "              std       skew    kurtosis  \n",
       "0   367133.102791   4.025670   34.602960  \n",
       "1        0.904093   0.551382    1.797482  \n",
       "2        0.768980   0.519644    1.279159  \n",
       "3      918.100781   1.473143    5.251772  \n",
       "4    41412.590583  13.072315  285.483214  \n",
       "5        0.539672   0.614427   -0.491124  \n",
       "6        0.086549  11.380527  127.528204  \n",
       "7        0.766388   3.396138   10.894949  \n",
       "8        0.650456   1.036107    0.519838  \n",
       "9        1.173191   0.788166    1.134991  \n",
       "10     827.744086   1.447392    3.405435  \n",
       "11     442.663454   1.576977    2.711940  \n",
       "12      29.374780  -0.469549   -0.657608  \n",
       "13     401.821027   4.547452   18.682584  \n",
       "14      53.512801   0.405379   -0.854028  \n",
       "15     685.215903   1.106828    1.591675  \n",
       "16   27274.386826   9.524159  151.389242  "
      ]
     },
     "execution_count": 8,
     "metadata": {},
     "output_type": "execute_result"
    }
   ],
   "source": [
    "df_numerical = create_descriptive_statistics_table(df1, ['id', 'lat', 'long'])\n",
    "df_numerical"
   ]
  },
  {
   "cell_type": "markdown",
   "metadata": {},
   "source": [
    "### 1.3.5. Ajuste de Tipos"
   ]
  },
  {
   "cell_type": "code",
   "execution_count": 9,
   "metadata": {},
   "outputs": [
    {
     "data": {
      "text/plain": [
       "id                        int64\n",
       "date             datetime64[ns]\n",
       "price                   float64\n",
       "bedrooms                  int64\n",
       "bathrooms               float64\n",
       "sqft_living               int64\n",
       "sqft_lot                  int64\n",
       "floors                  float64\n",
       "waterfront                int64\n",
       "view                      int64\n",
       "condition                 int64\n",
       "grade                     int64\n",
       "sqft_above                int64\n",
       "sqft_basement             int64\n",
       "yr_built                  int64\n",
       "yr_renovated              int64\n",
       "zipcode                   int64\n",
       "lat                     float64\n",
       "long                    float64\n",
       "sqft_living15             int64\n",
       "sqft_lot15                int64\n",
       "dtype: object"
      ]
     },
     "execution_count": 9,
     "metadata": {},
     "output_type": "execute_result"
    }
   ],
   "source": [
    "df1['date'] = pd.to_datetime(df1['date'])\n",
    "df1.dtypes"
   ]
  },
  {
   "cell_type": "code",
   "execution_count": 10,
   "metadata": {},
   "outputs": [
    {
     "data": {
      "text/html": [
       "<div>\n",
       "<style scoped>\n",
       "    .dataframe tbody tr th:only-of-type {\n",
       "        vertical-align: middle;\n",
       "    }\n",
       "\n",
       "    .dataframe tbody tr th {\n",
       "        vertical-align: top;\n",
       "    }\n",
       "\n",
       "    .dataframe thead th {\n",
       "        text-align: right;\n",
       "    }\n",
       "</style>\n",
       "<table border=\"1\" class=\"dataframe\">\n",
       "  <thead>\n",
       "    <tr style=\"text-align: right;\">\n",
       "      <th></th>\n",
       "      <th>id</th>\n",
       "      <th>date</th>\n",
       "      <th>price</th>\n",
       "      <th>bedrooms</th>\n",
       "      <th>bathrooms</th>\n",
       "      <th>sqft_living</th>\n",
       "      <th>sqft_lot</th>\n",
       "      <th>floors</th>\n",
       "      <th>waterfront</th>\n",
       "      <th>view</th>\n",
       "      <th>...</th>\n",
       "      <th>grade</th>\n",
       "      <th>sqft_above</th>\n",
       "      <th>sqft_basement</th>\n",
       "      <th>yr_built</th>\n",
       "      <th>yr_renovated</th>\n",
       "      <th>zipcode</th>\n",
       "      <th>lat</th>\n",
       "      <th>long</th>\n",
       "      <th>sqft_living15</th>\n",
       "      <th>sqft_lot15</th>\n",
       "    </tr>\n",
       "  </thead>\n",
       "  <tbody>\n",
       "    <tr>\n",
       "      <th>0</th>\n",
       "      <td>7129300520</td>\n",
       "      <td>2014-10-13</td>\n",
       "      <td>221900.0</td>\n",
       "      <td>3</td>\n",
       "      <td>1.00</td>\n",
       "      <td>1180</td>\n",
       "      <td>5650</td>\n",
       "      <td>1.0</td>\n",
       "      <td>0</td>\n",
       "      <td>0</td>\n",
       "      <td>...</td>\n",
       "      <td>7</td>\n",
       "      <td>1180</td>\n",
       "      <td>0</td>\n",
       "      <td>1955</td>\n",
       "      <td>0</td>\n",
       "      <td>98178</td>\n",
       "      <td>47.5112</td>\n",
       "      <td>-122.257</td>\n",
       "      <td>1340</td>\n",
       "      <td>5650</td>\n",
       "    </tr>\n",
       "    <tr>\n",
       "      <th>1</th>\n",
       "      <td>6414100192</td>\n",
       "      <td>2014-12-09</td>\n",
       "      <td>538000.0</td>\n",
       "      <td>3</td>\n",
       "      <td>2.25</td>\n",
       "      <td>2570</td>\n",
       "      <td>7242</td>\n",
       "      <td>2.0</td>\n",
       "      <td>0</td>\n",
       "      <td>0</td>\n",
       "      <td>...</td>\n",
       "      <td>7</td>\n",
       "      <td>2170</td>\n",
       "      <td>400</td>\n",
       "      <td>1951</td>\n",
       "      <td>1991</td>\n",
       "      <td>98125</td>\n",
       "      <td>47.7210</td>\n",
       "      <td>-122.319</td>\n",
       "      <td>1690</td>\n",
       "      <td>7639</td>\n",
       "    </tr>\n",
       "    <tr>\n",
       "      <th>2</th>\n",
       "      <td>5631500400</td>\n",
       "      <td>2015-02-25</td>\n",
       "      <td>180000.0</td>\n",
       "      <td>2</td>\n",
       "      <td>1.00</td>\n",
       "      <td>770</td>\n",
       "      <td>10000</td>\n",
       "      <td>1.0</td>\n",
       "      <td>0</td>\n",
       "      <td>0</td>\n",
       "      <td>...</td>\n",
       "      <td>6</td>\n",
       "      <td>770</td>\n",
       "      <td>0</td>\n",
       "      <td>1933</td>\n",
       "      <td>0</td>\n",
       "      <td>98028</td>\n",
       "      <td>47.7379</td>\n",
       "      <td>-122.233</td>\n",
       "      <td>2720</td>\n",
       "      <td>8062</td>\n",
       "    </tr>\n",
       "    <tr>\n",
       "      <th>3</th>\n",
       "      <td>2487200875</td>\n",
       "      <td>2014-12-09</td>\n",
       "      <td>604000.0</td>\n",
       "      <td>4</td>\n",
       "      <td>3.00</td>\n",
       "      <td>1960</td>\n",
       "      <td>5000</td>\n",
       "      <td>1.0</td>\n",
       "      <td>0</td>\n",
       "      <td>0</td>\n",
       "      <td>...</td>\n",
       "      <td>7</td>\n",
       "      <td>1050</td>\n",
       "      <td>910</td>\n",
       "      <td>1965</td>\n",
       "      <td>0</td>\n",
       "      <td>98136</td>\n",
       "      <td>47.5208</td>\n",
       "      <td>-122.393</td>\n",
       "      <td>1360</td>\n",
       "      <td>5000</td>\n",
       "    </tr>\n",
       "    <tr>\n",
       "      <th>4</th>\n",
       "      <td>1954400510</td>\n",
       "      <td>2015-02-18</td>\n",
       "      <td>510000.0</td>\n",
       "      <td>3</td>\n",
       "      <td>2.00</td>\n",
       "      <td>1680</td>\n",
       "      <td>8080</td>\n",
       "      <td>1.0</td>\n",
       "      <td>0</td>\n",
       "      <td>0</td>\n",
       "      <td>...</td>\n",
       "      <td>8</td>\n",
       "      <td>1680</td>\n",
       "      <td>0</td>\n",
       "      <td>1987</td>\n",
       "      <td>0</td>\n",
       "      <td>98074</td>\n",
       "      <td>47.6168</td>\n",
       "      <td>-122.045</td>\n",
       "      <td>1800</td>\n",
       "      <td>7503</td>\n",
       "    </tr>\n",
       "  </tbody>\n",
       "</table>\n",
       "<p>5 rows × 21 columns</p>\n",
       "</div>"
      ],
      "text/plain": [
       "           id       date     price  bedrooms  bathrooms  sqft_living  \\\n",
       "0  7129300520 2014-10-13  221900.0         3       1.00         1180   \n",
       "1  6414100192 2014-12-09  538000.0         3       2.25         2570   \n",
       "2  5631500400 2015-02-25  180000.0         2       1.00          770   \n",
       "3  2487200875 2014-12-09  604000.0         4       3.00         1960   \n",
       "4  1954400510 2015-02-18  510000.0         3       2.00         1680   \n",
       "\n",
       "   sqft_lot  floors  waterfront  view  ...  grade  sqft_above  sqft_basement  \\\n",
       "0      5650     1.0           0     0  ...      7        1180              0   \n",
       "1      7242     2.0           0     0  ...      7        2170            400   \n",
       "2     10000     1.0           0     0  ...      6         770              0   \n",
       "3      5000     1.0           0     0  ...      7        1050            910   \n",
       "4      8080     1.0           0     0  ...      8        1680              0   \n",
       "\n",
       "   yr_built  yr_renovated  zipcode      lat     long  sqft_living15  \\\n",
       "0      1955             0    98178  47.5112 -122.257           1340   \n",
       "1      1951          1991    98125  47.7210 -122.319           1690   \n",
       "2      1933             0    98028  47.7379 -122.233           2720   \n",
       "3      1965             0    98136  47.5208 -122.393           1360   \n",
       "4      1987             0    98074  47.6168 -122.045           1800   \n",
       "\n",
       "   sqft_lot15  \n",
       "0        5650  \n",
       "1        7639  \n",
       "2        8062  \n",
       "3        5000  \n",
       "4        7503  \n",
       "\n",
       "[5 rows x 21 columns]"
      ]
     },
     "execution_count": 10,
     "metadata": {},
     "output_type": "execute_result"
    }
   ],
   "source": [
    "df1.head()"
   ]
  },
  {
   "cell_type": "markdown",
   "metadata": {},
   "source": [
    "## 1.4. Exploração dos Dados"
   ]
  },
  {
   "cell_type": "markdown",
   "metadata": {},
   "source": [
    "1. Descobrir Insights para o time de negócio.\n",
    "2. Explorar os dados para identificar o impacto dos atributos nos algoritmos de ML.\n",
    "3. O que são Insights para o negócio?\n",
    "    - Insights são descobertas, através dos dados, que são inesperada pelas pessoas.\n",
    "    - Insight precisa ser acionável, caso contrário, ele é apenas uma curiosidade.\n",
    "    - Exemplo:\n",
    "        * Durante o período de natal vendê-se mais casas do que na páscoa ( Descoberta )\n",
    "        * Imóveis com porão são maiores do que imóveis sem porão ( Não-acionável )\n",
    "        * Imóveis com porão são 40% mais caros do que os outros, na média ( Acionável - Compra imóveis sem porão )\n",
    "4. Como fazemos para criar as hipóteses ?\n",
    "    - Toda hipótese de negócio precisa ter 3 características:\n",
    "        1. Precisa ser uma afirmação.\n",
    "        2. Precisa fazer uma comparação entre 2 variáveis.\n",
    "        3. Precisa de um valor base.\n",
    "        4. Exemplo:\n",
    "            * H1: Imóveis que possuem vista para água, são 30% mais caros, na média.\n",
    "            * H2: Imóveis com data de construção menor que 1955, são 50% mais baratos, na média.\n",
    "            * H3: Imóveis sem porão possuem sqrt_lot, são 50% maiores do que com porão.\n",
    "            * H4: O crescimento do preço dos imóveis YoY ( Year over Year ) é de 10%\n",
    "            * H5: Imóveis com 3 banheiros tem um crescimento MoM ( Month over Month ) de 15%"
   ]
  },
  {
   "cell_type": "markdown",
   "metadata": {},
   "source": [
    "### 1.4.1. Hipóteses"
   ]
  },
  {
   "cell_type": "markdown",
   "metadata": {},
   "source": [
    "#### H1: Imóveis que possuem vista para água, são 30% mais caros, na média."
   ]
  },
  {
   "cell_type": "code",
   "execution_count": 11,
   "metadata": {},
   "outputs": [
    {
     "data": {
      "text/html": [
       "<div>\n",
       "<style scoped>\n",
       "    .dataframe tbody tr th:only-of-type {\n",
       "        vertical-align: middle;\n",
       "    }\n",
       "\n",
       "    .dataframe tbody tr th {\n",
       "        vertical-align: top;\n",
       "    }\n",
       "\n",
       "    .dataframe thead th {\n",
       "        text-align: right;\n",
       "    }\n",
       "</style>\n",
       "<table border=\"1\" class=\"dataframe\">\n",
       "  <thead>\n",
       "    <tr style=\"text-align: right;\">\n",
       "      <th></th>\n",
       "      <th>waterfront</th>\n",
       "      <th>mean_price</th>\n",
       "    </tr>\n",
       "  </thead>\n",
       "  <tbody>\n",
       "    <tr>\n",
       "      <th>0</th>\n",
       "      <td>Yes</td>\n",
       "      <td>1661876.02</td>\n",
       "    </tr>\n",
       "    <tr>\n",
       "      <th>1</th>\n",
       "      <td>No</td>\n",
       "      <td>531667.83</td>\n",
       "    </tr>\n",
       "  </tbody>\n",
       "</table>\n",
       "</div>"
      ],
      "text/plain": [
       "  waterfront  mean_price\n",
       "0        Yes  1661876.02\n",
       "1         No   531667.83"
      ]
     },
     "execution_count": 11,
     "metadata": {},
     "output_type": "execute_result"
    }
   ],
   "source": [
    "df_grouped_waterfront = df1.loc[:, ['waterfront', 'price']].groupby('waterfront').agg(\n",
    "    mean_price = pd.NamedAgg('price', 'mean')\n",
    ")\n",
    "\n",
    "df_grouped_waterfront = df_grouped_waterfront.sort_values('mean_price', ascending=False).reset_index()\n",
    "\n",
    "df_grouped_waterfront['mean_price'] = df_grouped_waterfront['mean_price'].apply(lambda x: float(f'{x:.2f}') )\n",
    "df_grouped_waterfront['waterfront'] = df_grouped_waterfront['waterfront'].apply(lambda x: 'Yes' if x == 1 else 'No')\n",
    "\n",
    "df_grouped_waterfront"
   ]
  },
  {
   "cell_type": "code",
   "execution_count": 12,
   "metadata": {},
   "outputs": [
    {
     "name": "stdout",
     "output_type": "stream",
     "text": [
      "Os imóveis com vista para a água são 212.58% mais caros que os imóveis sem vista para a água\n"
     ]
    }
   ],
   "source": [
    "with_view = df_grouped_waterfront.iloc[0, 1]\n",
    "with_no_view = df_grouped_waterfront.iloc[1, 1]\n",
    "\n",
    "print(f'Os imóveis com vista para a água são { round( ((with_view * 100) / with_no_view) - 100, 2)}% mais caros que os imóveis sem vista para a água')"
   ]
  },
  {
   "cell_type": "code",
   "execution_count": 13,
   "metadata": {},
   "outputs": [
    {
     "data": {
      "image/png": "[encoded data removed]",
      "text/plain": [
       "<Figure size 432x288 with 1 Axes>"
      ]
     },
     "metadata": {
      "needs_background": "light"
     },
     "output_type": "display_data"
    }
   ],
   "source": [
    "from typing import Container\n",
    "\n",
    "\n",
    "ax = sns.barplot(\n",
    "    data = df_grouped_waterfront,\n",
    "    x = 'waterfront',\n",
    "    y = 'mean_price',\n",
    ")\n",
    "\n",
    "ax = ax.set(\n",
    "    xlabel = 'Vista para a água?',\n",
    "    ylabel = 'Preço Médio',\n",
    "    title = 'Preço médio dos imóveis com vista para a água'\n",
    ")"
   ]
  },
  {
   "cell_type": "markdown",
   "metadata": {},
   "source": [
    "**Hipótese Verdadeira**. Como podemos observar, os imóveis que possuem vista para a água são mais de 30% mais caros que os imóveis que possuem vista para a água."
   ]
  },
  {
   "cell_type": "markdown",
   "metadata": {},
   "source": [
    "#### H2: Imóveis com data de construção menor que 1955, são 50% mais baratos, na média."
   ]
  },
  {
   "cell_type": "code",
   "execution_count": 14,
   "metadata": {},
   "outputs": [
    {
     "name": "stdout",
     "output_type": "stream",
     "text": [
      "O valor da média do preço das casas construídas antes de 1955 é de $ 537199.20\n",
      "O valor da média do preço das casas construídas depois de 1955 é de $ 540198.30\n",
      "Os imóveis construídos antes de 1955 são 0.56% mais baratos\n"
     ]
    }
   ],
   "source": [
    "df_year_before = df1.loc[df1['yr_built'] < 1955, :]\n",
    "df_year_after = df1.loc[~df1['yr_built'] < 1955, :]\n",
    "\n",
    "year_before_price_mean = df_year_before.loc[:, 'price'].mean()\n",
    "year_after_price_mean = df_year_after.loc[:, 'price'].mean()\n",
    "\n",
    "print(f'O valor da média do preço das casas construídas antes de 1955 é de $ {year_before_price_mean:.2f}')\n",
    "print(f'O valor da média do preço das casas construídas depois de 1955 é de $ {year_after_price_mean:.2f}')\n",
    "print(f'Os imóveis construídos antes de 1955 são {round( 100 - ( ( year_before_price_mean * 100) / year_after_price_mean ), 2)}% mais baratos')"
   ]
  },
  {
   "cell_type": "code",
   "execution_count": 15,
   "metadata": {},
   "outputs": [
    {
     "data": {
      "image/png": "[encoded data removed]",
      "text/plain": [
       "<Figure size 432x288 with 1 Axes>"
      ]
     },
     "metadata": {
      "needs_background": "light"
     },
     "output_type": "display_data"
    }
   ],
   "source": [
    "df_construction = pd.DataFrame([\n",
    "    {'year_contruction_range': 'before_1955', 'mean_price': year_before_price_mean},\n",
    "    {'year_contruction_range': 'after_1955', 'mean_price': year_after_price_mean},\n",
    "])\n",
    "\n",
    "ax = sns.barplot(\n",
    "    data = df_construction,\n",
    "    x = 'year_contruction_range',\n",
    "    y = 'mean_price',\n",
    ")\n",
    "\n",
    "ax = ax.set(\n",
    "    xlabel = 'Faixa de Construção',\n",
    "    ylabel = 'Preço Médio',\n",
    "    title = 'Preço médio dos imóveis construídos antes e depois de 1955'\n",
    ")"
   ]
  },
  {
   "cell_type": "markdown",
   "metadata": {},
   "source": [
    "**Hipótese Falsa**: Como podemos observar, os imóveis construídos antes de 1955 não são 50% mais baratos que os imóveis construídos depois de 1955."
   ]
  },
  {
   "cell_type": "markdown",
   "metadata": {},
   "source": [
    "#### H3: Imóveis sem porão são 50% maiores, na média, do que os imóveis com porão."
   ]
  },
  {
   "cell_type": "code",
   "execution_count": 16,
   "metadata": {},
   "outputs": [
    {
     "name": "stdout",
     "output_type": "stream",
     "text": [
      "O tamanho médio dos terrenos com porão é de 13287.15 pés quadrados\n",
      "O tamanho médio dos terrenos sem porão é de 16273.16 pés quadrados\n",
      "Os imóveis com porão são 18.35% maiores que os imóveis sem porão\n"
     ]
    }
   ],
   "source": [
    "df_has_basement = df1.loc[df1['sqft_basement'] > 0, :]\n",
    "df_no_basement = df1.loc[df1['sqft_basement'] <= 0, :]\n",
    "\n",
    "sqft_lot_with_basement_mean = df_has_basement.loc[:, 'sqft_lot'].mean()\n",
    "sqft_lot_no_basement_mean = df_no_basement.loc[:, 'sqft_lot'].mean()\n",
    "\n",
    "print(f'O tamanho médio dos terrenos com porão é de {sqft_lot_with_basement_mean:.2f} pés quadrados')\n",
    "print(f'O tamanho médio dos terrenos sem porão é de {sqft_lot_no_basement_mean:.2f} pés quadrados')\n",
    "print(f'Os imóveis com porão são {round( 100 - ( ( sqft_lot_with_basement_mean * 100) / sqft_lot_no_basement_mean ), 2)}% maiores que os imóveis sem porão')"
   ]
  },
  {
   "cell_type": "code",
   "execution_count": 17,
   "metadata": {},
   "outputs": [
    {
     "data": {
      "image/png": "[encoded data removed]",
      "text/plain": [
       "<Figure size 432x288 with 1 Axes>"
      ]
     },
     "metadata": {
      "needs_background": "light"
     },
     "output_type": "display_data"
    }
   ],
   "source": [
    "df_basement = pd.DataFrame([\n",
    "    {'with_basement': 'Yes', 'mean_size': sqft_lot_with_basement_mean},\n",
    "    {'with_basement': 'No', 'mean_size': sqft_lot_no_basement_mean},\n",
    "])\n",
    "\n",
    "ax = sns.barplot(\n",
    "    data = df_basement,\n",
    "    x = 'with_basement',\n",
    "    y = 'mean_size',\n",
    ")\n",
    "\n",
    "ax = ax.set(\n",
    "    xlabel = 'Possui Porão',\n",
    "    ylabel = 'Tamanho Médio do Terreno (em pés quadrados)',\n",
    "    title = 'Tamanho Médio dos terrenos que possuem e não possuem porão'\n",
    ")"
   ]
  },
  {
   "cell_type": "markdown",
   "metadata": {},
   "source": [
    "**HIPÓTESE FALSA**: Como podemos observar, os terrenos que não possuem porão não são 50% maiores que os terrenos que possuem porão."
   ]
  },
  {
   "cell_type": "markdown",
   "metadata": {},
   "source": [
    "#### H4: O crescimento do preço médio dos imóveis YoY ( Year over Year ) é de 10%"
   ]
  },
  {
   "cell_type": "code",
   "execution_count": 26,
   "metadata": {},
   "outputs": [
    {
     "data": {
      "text/html": [
       "<div>\n",
       "<style scoped>\n",
       "    .dataframe tbody tr th:only-of-type {\n",
       "        vertical-align: middle;\n",
       "    }\n",
       "\n",
       "    .dataframe tbody tr th {\n",
       "        vertical-align: top;\n",
       "    }\n",
       "\n",
       "    .dataframe thead th {\n",
       "        text-align: right;\n",
       "    }\n",
       "</style>\n",
       "<table border=\"1\" class=\"dataframe\">\n",
       "  <thead>\n",
       "    <tr style=\"text-align: right;\">\n",
       "      <th></th>\n",
       "      <th>year_sell</th>\n",
       "      <th>mean_price</th>\n",
       "      <th>growth</th>\n",
       "    </tr>\n",
       "  </thead>\n",
       "  <tbody>\n",
       "    <tr>\n",
       "      <th>0</th>\n",
       "      <td>2014</td>\n",
       "      <td>539245.55</td>\n",
       "      <td>0.00</td>\n",
       "    </tr>\n",
       "    <tr>\n",
       "      <th>1</th>\n",
       "      <td>2015</td>\n",
       "      <td>542195.44</td>\n",
       "      <td>0.55</td>\n",
       "    </tr>\n",
       "  </tbody>\n",
       "</table>\n",
       "</div>"
      ],
      "text/plain": [
       "   year_sell  mean_price  growth\n",
       "0       2014   539245.55    0.00\n",
       "1       2015   542195.44    0.55"
      ]
     },
     "execution_count": 26,
     "metadata": {},
     "output_type": "execute_result"
    }
   ],
   "source": [
    "df_aux = df1.copy()\n",
    "\n",
    "df_aux['year_sell'] = df_aux['date'].dt.year\n",
    "\n",
    "df_year_grouped = df_aux.loc[ :, ['year_sell', 'price'] ].groupby('year_sell').agg(\n",
    "    mean_price = pd.NamedAgg('price', 'mean')\n",
    ")\n",
    "\n",
    "df_year_grouped = df_year_grouped.sort_values('year_sell').reset_index()\n",
    "\n",
    "df_year_grouped['mean_price'] = df_year_grouped['mean_price'].apply(lambda x: float(f'{x:.2f}') )\n",
    "\n",
    "initial_price = df_year_grouped.iloc[0,1]\n",
    "\n",
    "df_year_grouped['growth'] = df_year_grouped['mean_price'].apply(lambda x: round( ( ((x * 100) / initial_price) - 100), 2) )\n",
    "\n",
    "df_year_grouped"
   ]
  },
  {
   "cell_type": "code",
   "execution_count": 27,
   "metadata": {},
   "outputs": [
    {
     "data": {
      "image/png": "[encoded data removed]",
      "text/plain": [
       "<Figure size 432x288 with 1 Axes>"
      ]
     },
     "metadata": {
      "needs_background": "light"
     },
     "output_type": "display_data"
    }
   ],
   "source": [
    "ax = sns.barplot(\n",
    "    data = df_year_grouped,\n",
    "    x = 'year_sell',\n",
    "    y = 'mean_price',\n",
    ")\n",
    "\n",
    "ax = ax.set(\n",
    "    xlabel = 'Ano de Venda',\n",
    "    ylabel = 'Valor Média de venda Anual',\n",
    "    title = 'Valor de Venda Anual Média dos imóveis'\n",
    ")"
   ]
  },
  {
   "cell_type": "markdown",
   "metadata": {},
   "source": [
    "**Hipótese Falsa**: O crescimento do preço médio YoY não é de 10%"
   ]
  },
  {
   "cell_type": "markdown",
   "metadata": {},
   "source": [
    "#### H5: Imóveis com 3 banheiros tem um crescimento MoM ( Month over Month ) de 15%"
   ]
  },
  {
   "cell_type": "code",
   "execution_count": 42,
   "metadata": {},
   "outputs": [
    {
     "data": {
      "text/html": [
       "<div>\n",
       "<style scoped>\n",
       "    .dataframe tbody tr th:only-of-type {\n",
       "        vertical-align: middle;\n",
       "    }\n",
       "\n",
       "    .dataframe tbody tr th {\n",
       "        vertical-align: top;\n",
       "    }\n",
       "\n",
       "    .dataframe thead th {\n",
       "        text-align: right;\n",
       "    }\n",
       "</style>\n",
       "<table border=\"1\" class=\"dataframe\">\n",
       "  <thead>\n",
       "    <tr style=\"text-align: right;\">\n",
       "      <th></th>\n",
       "      <th>period</th>\n",
       "      <th>mean_price</th>\n",
       "      <th>growth</th>\n",
       "    </tr>\n",
       "  </thead>\n",
       "  <tbody>\n",
       "    <tr>\n",
       "      <th>0</th>\n",
       "      <td>2014-05</td>\n",
       "      <td>690080.71</td>\n",
       "      <td>0.00</td>\n",
       "    </tr>\n",
       "    <tr>\n",
       "      <th>1</th>\n",
       "      <td>2014-06</td>\n",
       "      <td>775057.56</td>\n",
       "      <td>12.31</td>\n",
       "    </tr>\n",
       "    <tr>\n",
       "      <th>2</th>\n",
       "      <td>2014-07</td>\n",
       "      <td>741405.04</td>\n",
       "      <td>7.44</td>\n",
       "    </tr>\n",
       "    <tr>\n",
       "      <th>3</th>\n",
       "      <td>2014-08</td>\n",
       "      <td>737576.56</td>\n",
       "      <td>6.88</td>\n",
       "    </tr>\n",
       "    <tr>\n",
       "      <th>4</th>\n",
       "      <td>2014-09</td>\n",
       "      <td>645246.89</td>\n",
       "      <td>-6.50</td>\n",
       "    </tr>\n",
       "    <tr>\n",
       "      <th>5</th>\n",
       "      <td>2014-10</td>\n",
       "      <td>645523.02</td>\n",
       "      <td>-6.46</td>\n",
       "    </tr>\n",
       "    <tr>\n",
       "      <th>6</th>\n",
       "      <td>2014-11</td>\n",
       "      <td>679910.47</td>\n",
       "      <td>-1.47</td>\n",
       "    </tr>\n",
       "    <tr>\n",
       "      <th>7</th>\n",
       "      <td>2014-12</td>\n",
       "      <td>728341.19</td>\n",
       "      <td>5.54</td>\n",
       "    </tr>\n",
       "    <tr>\n",
       "      <th>8</th>\n",
       "      <td>2015-01</td>\n",
       "      <td>672923.17</td>\n",
       "      <td>-2.49</td>\n",
       "    </tr>\n",
       "    <tr>\n",
       "      <th>9</th>\n",
       "      <td>2015-02</td>\n",
       "      <td>696714.42</td>\n",
       "      <td>0.96</td>\n",
       "    </tr>\n",
       "    <tr>\n",
       "      <th>10</th>\n",
       "      <td>2015-03</td>\n",
       "      <td>768495.10</td>\n",
       "      <td>11.36</td>\n",
       "    </tr>\n",
       "    <tr>\n",
       "      <th>11</th>\n",
       "      <td>2015-04</td>\n",
       "      <td>709751.99</td>\n",
       "      <td>2.85</td>\n",
       "    </tr>\n",
       "    <tr>\n",
       "      <th>12</th>\n",
       "      <td>2015-05</td>\n",
       "      <td>686351.95</td>\n",
       "      <td>-0.54</td>\n",
       "    </tr>\n",
       "  </tbody>\n",
       "</table>\n",
       "</div>"
      ],
      "text/plain": [
       "     period  mean_price  growth\n",
       "0   2014-05   690080.71    0.00\n",
       "1   2014-06   775057.56   12.31\n",
       "2   2014-07   741405.04    7.44\n",
       "3   2014-08   737576.56    6.88\n",
       "4   2014-09   645246.89   -6.50\n",
       "5   2014-10   645523.02   -6.46\n",
       "6   2014-11   679910.47   -1.47\n",
       "7   2014-12   728341.19    5.54\n",
       "8   2015-01   672923.17   -2.49\n",
       "9   2015-02   696714.42    0.96\n",
       "10  2015-03   768495.10   11.36\n",
       "11  2015-04   709751.99    2.85\n",
       "12  2015-05   686351.95   -0.54"
      ]
     },
     "execution_count": 42,
     "metadata": {},
     "output_type": "execute_result"
    }
   ],
   "source": [
    "df_aux = df1.copy()\n",
    "\n",
    "df_aux = df_aux.loc[df1['bathrooms'] == 3, :]\n",
    "\n",
    "df_aux['period'] = df_aux['date'].dt.to_period(\"M\")\n",
    "\n",
    "df_year_grouped = df_aux.loc[ :, ['period', 'price'] ].groupby('period').agg(\n",
    "    mean_price = pd.NamedAgg('price', 'mean')\n",
    ")\n",
    "\n",
    "df_year_grouped = df_year_grouped.sort_values('period').reset_index()\n",
    "\n",
    "df_year_grouped['mean_price'] = df_year_grouped['mean_price'].apply(lambda x: float(f'{x:.2f}') )\n",
    "\n",
    "initial_price = df_year_grouped.iloc[0,1]\n",
    "\n",
    "df_year_grouped['growth'] = df_year_grouped['mean_price'].apply(lambda x: round( ( ((x * 100) / initial_price) - 100), 2) )\n",
    "\n",
    "df_year_grouped"
   ]
  },
  {
   "cell_type": "code",
   "execution_count": 52,
   "metadata": {},
   "outputs": [
    {
     "data": {
      "image/png": "[encoded data removed]",
      "text/plain": [
       "<Figure size 864x576 with 1 Axes>"
      ]
     },
     "metadata": {},
     "output_type": "display_data"
    }
   ],
   "source": [
    "ax = sns.barplot(\n",
    "    data = df_year_grouped,\n",
    "    x = 'period',\n",
    "    y = 'mean_price',\n",
    ")\n",
    "\n",
    "ax = ax.set(\n",
    "    xlabel = 'Mês da Venda',\n",
    "    ylabel = 'Valor Médio da Venda',\n",
    "    title = 'Valor de Venda Médio por Mês'\n",
    ")"
   ]
  },
  {
   "cell_type": "code",
   "execution_count": 53,
   "metadata": {},
   "outputs": [
    {
     "data": {
      "image/png": "[encoded data removed]",
      "text/plain": [
       "<Figure size 864x576 with 1 Axes>"
      ]
     },
     "metadata": {},
     "output_type": "display_data"
    }
   ],
   "source": [
    "ax = sns.barplot(\n",
    "    data = df_year_grouped,\n",
    "    x = 'period',\n",
    "    y = 'growth',\n",
    ")\n",
    "\n",
    "ax = ax.set(\n",
    "    xlabel = 'Mês da Venda',\n",
    "    ylabel = 'Porcentagem de Crescimento',\n",
    "    title = 'Porcentagem de crescimento do valor de venda médio por Mês'\n",
    ")"
   ]
  },
  {
   "cell_type": "markdown",
   "metadata": {},
   "source": [
    "**Hipótese Falsa**: O percentual de crescimento mensal do valor de venda nunca atingiu 15%"
   ]
  },
  {
   "cell_type": "markdown",
   "metadata": {},
   "source": [
    "#### H6: Imóveis com porão são mais caros, em média, do que imóveis sem porão"
   ]
  },
  {
   "cell_type": "code",
   "execution_count": 48,
   "metadata": {},
   "outputs": [
    {
     "name": "stdout",
     "output_type": "stream",
     "text": [
      "Imóveis com porão tem um preço médio de $ 622371.49\n",
      "Imóveis sem porão tem um preço médio de $ 487008.24\n",
      "Os imóveis com porão são 21.75% mais caros que os imóveis sem porão\n"
     ]
    }
   ],
   "source": [
    "df_has_basement = df1.loc[df1['sqft_basement'] > 0, :]\n",
    "df_no_basement = df1.loc[df1['sqft_basement'] <= 0, :]\n",
    "\n",
    "apt_with_basement_mean = df_has_basement.loc[:, 'price'].mean()\n",
    "apt_no_basement_mean = df_no_basement.loc[:, 'price'].mean()\n",
    "\n",
    "print(f'Imóveis com porão tem um preço médio de $ {apt_with_basement_mean:.2f}')\n",
    "print(f'Imóveis sem porão tem um preço médio de $ {apt_no_basement_mean:.2f}')\n",
    "print(f'Os imóveis com porão são {round( 100 - ( ( apt_no_basement_mean * 100) / apt_with_basement_mean ), 2)}% mais caros que os imóveis sem porão')"
   ]
  },
  {
   "cell_type": "code",
   "execution_count": 54,
   "metadata": {},
   "outputs": [
    {
     "data": {
      "image/png": "[encoded data removed]",
      "text/plain": [
       "<Figure size 864x576 with 1 Axes>"
      ]
     },
     "metadata": {},
     "output_type": "display_data"
    }
   ],
   "source": [
    "df_basement = pd.DataFrame([\n",
    "    {'with_basement': 'Yes', 'mean_price': apt_with_basement_mean},\n",
    "    {'with_basement': 'No', 'mean_price': apt_no_basement_mean},\n",
    "])\n",
    "\n",
    "ax = sns.barplot(\n",
    "    data = df_basement,\n",
    "    x = 'with_basement',\n",
    "    y = 'mean_price',\n",
    ")\n",
    "\n",
    "ax = ax.set(\n",
    "    xlabel = 'Possui Porão',\n",
    "    ylabel = 'Preço Médio',\n",
    "    title = 'Preço Médio dos terrenos que possuem e não possuem porão'\n",
    ")"
   ]
  },
  {
   "cell_type": "markdown",
   "metadata": {},
   "source": [
    "**hipótese Verdadeira**: Como podemos observar, os imóveis com porão possuem um preço médio maior que os imóveis sem porão"
   ]
  },
  {
   "cell_type": "markdown",
   "metadata": {},
   "source": [
    "#### H7: Imóveis reformados recentemente tem valor mais alto"
   ]
  },
  {
   "cell_type": "code",
   "execution_count": null,
   "metadata": {},
   "outputs": [],
   "source": []
  },
  {
   "cell_type": "markdown",
   "metadata": {},
   "source": [
    "#### H8: Imóveis com vista para água, na média, são 20% mais caros"
   ]
  },
  {
   "cell_type": "code",
   "execution_count": null,
   "metadata": {},
   "outputs": [],
   "source": []
  },
  {
   "cell_type": "markdown",
   "metadata": {},
   "source": [
    "#### H9: Pelo menos 80% dos imóveis com vista para água possuem nível de construção 10 ou mais."
   ]
  },
  {
   "cell_type": "markdown",
   "metadata": {},
   "source": []
  },
  {
   "cell_type": "markdown",
   "metadata": {},
   "source": [
    "#### H10: Imóveis no vendidos no inverno são, em média, são 20% mais baratos do que no resto do ano."
   ]
  },
  {
   "cell_type": "code",
   "execution_count": null,
   "metadata": {},
   "outputs": [],
   "source": []
  }
 ],
 "metadata": {
  "kernelspec": {
   "display_name": "Python 3.8.13 64-bit ('houserocket')",
   "language": "python",
   "name": "python3"
  },
  "language_info": {
   "codemirror_mode": {
    "name": "ipython",
    "version": 3
   },
   "file_extension": ".py",
   "mimetype": "text/x-python",
   "name": "python",
   "nbconvert_exporter": "python",
   "pygments_lexer": "ipython3",
   "version": "3.8.13"
  },
  "orig_nbformat": 4,
  "vscode": {
   "interpreter": {
    "hash": "a01c989f35ff223f7504315aa5d6264db40d8aa4acc2828f53d49cfd7e26d80d"
   }
  }
 },
 "nbformat": 4,
 "nbformat_minor": 2
}
