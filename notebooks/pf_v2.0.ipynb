{
 "cells": [
  {
   "cell_type": "markdown",
   "metadata": {},
   "source": [
    "# 0. Imports"
   ]
  },
  {
   "cell_type": "code",
   "execution_count": 110,
   "metadata": {},
   "outputs": [],
   "source": [
    "import pandas as pd\n",
    "import numpy as np\n",
    "import seaborn as sns\n",
    "\n",
    "sns.set(rc={'figure.figsize':(12,8)})"
   ]
  },
  {
   "cell_type": "markdown",
   "metadata": {},
   "source": [
    "## Helper Functions"
   ]
  },
  {
   "cell_type": "code",
   "execution_count": 111,
   "metadata": {},
   "outputs": [],
   "source": [
    "def create_descriptive_statistics_table(dataframe, remove_columns = None):\n",
    "    df_numerical = dataframe.select_dtypes(include=['int64', 'float64'])\n",
    "    \n",
    "    if remove_columns != None and isinstance(remove_columns, list):\n",
    "        df_numerical = df_numerical.drop(remove_columns, axis=1)\n",
    "        \n",
    "    df_min = pd.DataFrame(df_numerical.apply(np.min)).T\n",
    "    df_max = pd.DataFrame(df_numerical.apply(np.max)).T\n",
    "    df_range = pd.DataFrame(df_numerical.apply(lambda column: column.max() - column.min())).T\n",
    "    df_mean = pd.DataFrame(df_numerical.apply(np.mean)).T\n",
    "    df_median = pd.DataFrame(df_numerical.apply(np.median)).T\n",
    "    df_std = pd.DataFrame(df_numerical.apply(np.std)).T\n",
    "    df_skew = pd.DataFrame(df_numerical.apply(lambda x: x.skew())).T\n",
    "    df_kurtosis = pd.DataFrame(df_numerical.apply(lambda x: x.kurtosis())).T\n",
    "    \n",
    "    df = pd.concat([df_min, df_max, df_range, df_mean, df_median, df_std, df_skew, df_kurtosis]).T.reset_index()\n",
    "    df.columns = ['attributes', 'min', 'max', 'range', 'mean', 'median', 'std', 'skew', 'kurtosis']\n",
    "    \n",
    "    return df"
   ]
  },
  {
   "cell_type": "markdown",
   "metadata": {},
   "source": [
    "# 1. Projeto de Insights - House Rocket"
   ]
  },
  {
   "cell_type": "markdown",
   "metadata": {},
   "source": [
    "## 1.1. Questões de Negócio"
   ]
  },
  {
   "cell_type": "markdown",
   "metadata": {},
   "source": [
    "1. Quais são os imóveis que a House Rocket deveria comprar e por qual preço ?\n",
    "2. Uma vez a casa comprada, qual o melhor momento para vendê-las e por qual preço ?"
   ]
  },
  {
   "cell_type": "markdown",
   "metadata": {},
   "source": [
    "## 1.2. Entendimento do Negócio"
   ]
  },
  {
   "cell_type": "markdown",
   "metadata": {},
   "source": [
    "1. Quais são os imóveis que a House Rocket deveria comprar e por qual preço ?\n",
    "   - Plano 01:\n",
    "      - Coletar e limpar os dados.\n",
    "      - Agrupar os imóveis por região ( zipcode ).\n",
    "      - Dentro de cada região, será encontrado a mediana do preço do imóvel.\n",
    "      - Será sugerido os imóveis que estão abaixo do preço mediano da região, que estejam em boas condições e tenham vista para água.\n",
    "      - Exemplo de Relatório entregue:\n",
    "            \n",
    "| Imóvel Cod | Região | Preço do Imóvel | Preço na Mediana | Condições | Status |\n",
    "| ---------- | ------ | --------------: | ---------------: | --------- | :----: |\n",
    "| 10330 | Vila Olímpia | R\\$ 450.000,00 | R\\$ 500.000,00 | 3 | Compra |\n",
    "| 10335 | Vila Olímpia | R\\$ 750.000,00 | R\\$ 500.000,00 | 3 | Não Compra |\n",
    "| 10335 | Vila Olímpia | R\\$ 150.000,00 | R\\$ 500.000,00 | 1 | Não Compra |"
   ]
  },
  {
   "cell_type": "markdown",
   "metadata": {},
   "source": [
    "2. Uma vez a casa comprada, qual o melhor momento para vendê-las e por qual preço ?\n",
    "   - Plano 01:\n",
    "     - Coletar e limpar os dados (Etapa já cumprida na tarefa anterior).\n",
    "     - Agrupar os imóveis por região (zipcode) e por sazonalidade (Summer, Inter).\n",
    "     - Dentro de cada região e sazonalidade, será calculado a mediana do preço.\n",
    "     - As condições de venda serão:\n",
    "         1. Se o preço da compra for maior que a mediana da região + sazonalidade. O preço da venda será igual ao preço da compra + 10%\n",
    "         2. Se o preço da compra for menor que a mediana da região + sazonalidade. O preço da venda será igual ao preço da compra + 30%\n",
    "     - Exemplo do relatório entregue:\n",
    "\n",
    "\n",
    "| Imóvel Cod | Região | Temporada | Preço da Mediana | Preço de Compra | Preço de Venda | Lucro | \n",
    "| ---------- | :----- | :---------| ---------------: | --------------: | -------------: | ----: |\n",
    "| 10330 | Vila Olímpia | Verão | R\\$ 800.000,00 | R\\$ 450.000,00 | R\\$ 585.000,00 | R\\$ 135.000,00 |\n",
    "| 10335 | Vila Olímpia | Inverno | R\\$ 400.000,00 | R\\$ 500.000,00 | R\\$ 500.000,00 | R\\$ 50.000,00 |"
   ]
  },
  {
   "cell_type": "markdown",
   "metadata": {},
   "source": [
    "## 1.3. - Coleta dos dados"
   ]
  },
  {
   "cell_type": "markdown",
   "metadata": {},
   "source": [
    "### 1.3.1. Carregamento dos Dados"
   ]
  },
  {
   "cell_type": "code",
   "execution_count": 112,
   "metadata": {},
   "outputs": [
    {
     "data": {
      "text/html": [
       "<div>\n",
       "<style scoped>\n",
       "    .dataframe tbody tr th:only-of-type {\n",
       "        vertical-align: middle;\n",
       "    }\n",
       "\n",
       "    .dataframe tbody tr th {\n",
       "        vertical-align: top;\n",
       "    }\n",
       "\n",
       "    .dataframe thead th {\n",
       "        text-align: right;\n",
       "    }\n",
       "</style>\n",
       "<table border=\"1\" class=\"dataframe\">\n",
       "  <thead>\n",
       "    <tr style=\"text-align: right;\">\n",
       "      <th></th>\n",
       "      <th>id</th>\n",
       "      <th>date</th>\n",
       "      <th>price</th>\n",
       "      <th>bedrooms</th>\n",
       "      <th>bathrooms</th>\n",
       "      <th>sqft_living</th>\n",
       "      <th>sqft_lot</th>\n",
       "      <th>floors</th>\n",
       "      <th>waterfront</th>\n",
       "      <th>view</th>\n",
       "      <th>...</th>\n",
       "      <th>grade</th>\n",
       "      <th>sqft_above</th>\n",
       "      <th>sqft_basement</th>\n",
       "      <th>yr_built</th>\n",
       "      <th>yr_renovated</th>\n",
       "      <th>zipcode</th>\n",
       "      <th>lat</th>\n",
       "      <th>long</th>\n",
       "      <th>sqft_living15</th>\n",
       "      <th>sqft_lot15</th>\n",
       "    </tr>\n",
       "  </thead>\n",
       "  <tbody>\n",
       "    <tr>\n",
       "      <th>0</th>\n",
       "      <td>7129300520</td>\n",
       "      <td>20141013T000000</td>\n",
       "      <td>221900.0</td>\n",
       "      <td>3</td>\n",
       "      <td>1.00</td>\n",
       "      <td>1180</td>\n",
       "      <td>5650</td>\n",
       "      <td>1.0</td>\n",
       "      <td>0</td>\n",
       "      <td>0</td>\n",
       "      <td>...</td>\n",
       "      <td>7</td>\n",
       "      <td>1180</td>\n",
       "      <td>0</td>\n",
       "      <td>1955</td>\n",
       "      <td>0</td>\n",
       "      <td>98178</td>\n",
       "      <td>47.5112</td>\n",
       "      <td>-122.257</td>\n",
       "      <td>1340</td>\n",
       "      <td>5650</td>\n",
       "    </tr>\n",
       "    <tr>\n",
       "      <th>1</th>\n",
       "      <td>6414100192</td>\n",
       "      <td>20141209T000000</td>\n",
       "      <td>538000.0</td>\n",
       "      <td>3</td>\n",
       "      <td>2.25</td>\n",
       "      <td>2570</td>\n",
       "      <td>7242</td>\n",
       "      <td>2.0</td>\n",
       "      <td>0</td>\n",
       "      <td>0</td>\n",
       "      <td>...</td>\n",
       "      <td>7</td>\n",
       "      <td>2170</td>\n",
       "      <td>400</td>\n",
       "      <td>1951</td>\n",
       "      <td>1991</td>\n",
       "      <td>98125</td>\n",
       "      <td>47.7210</td>\n",
       "      <td>-122.319</td>\n",
       "      <td>1690</td>\n",
       "      <td>7639</td>\n",
       "    </tr>\n",
       "    <tr>\n",
       "      <th>2</th>\n",
       "      <td>5631500400</td>\n",
       "      <td>20150225T000000</td>\n",
       "      <td>180000.0</td>\n",
       "      <td>2</td>\n",
       "      <td>1.00</td>\n",
       "      <td>770</td>\n",
       "      <td>10000</td>\n",
       "      <td>1.0</td>\n",
       "      <td>0</td>\n",
       "      <td>0</td>\n",
       "      <td>...</td>\n",
       "      <td>6</td>\n",
       "      <td>770</td>\n",
       "      <td>0</td>\n",
       "      <td>1933</td>\n",
       "      <td>0</td>\n",
       "      <td>98028</td>\n",
       "      <td>47.7379</td>\n",
       "      <td>-122.233</td>\n",
       "      <td>2720</td>\n",
       "      <td>8062</td>\n",
       "    </tr>\n",
       "    <tr>\n",
       "      <th>3</th>\n",
       "      <td>2487200875</td>\n",
       "      <td>20141209T000000</td>\n",
       "      <td>604000.0</td>\n",
       "      <td>4</td>\n",
       "      <td>3.00</td>\n",
       "      <td>1960</td>\n",
       "      <td>5000</td>\n",
       "      <td>1.0</td>\n",
       "      <td>0</td>\n",
       "      <td>0</td>\n",
       "      <td>...</td>\n",
       "      <td>7</td>\n",
       "      <td>1050</td>\n",
       "      <td>910</td>\n",
       "      <td>1965</td>\n",
       "      <td>0</td>\n",
       "      <td>98136</td>\n",
       "      <td>47.5208</td>\n",
       "      <td>-122.393</td>\n",
       "      <td>1360</td>\n",
       "      <td>5000</td>\n",
       "    </tr>\n",
       "    <tr>\n",
       "      <th>4</th>\n",
       "      <td>1954400510</td>\n",
       "      <td>20150218T000000</td>\n",
       "      <td>510000.0</td>\n",
       "      <td>3</td>\n",
       "      <td>2.00</td>\n",
       "      <td>1680</td>\n",
       "      <td>8080</td>\n",
       "      <td>1.0</td>\n",
       "      <td>0</td>\n",
       "      <td>0</td>\n",
       "      <td>...</td>\n",
       "      <td>8</td>\n",
       "      <td>1680</td>\n",
       "      <td>0</td>\n",
       "      <td>1987</td>\n",
       "      <td>0</td>\n",
       "      <td>98074</td>\n",
       "      <td>47.6168</td>\n",
       "      <td>-122.045</td>\n",
       "      <td>1800</td>\n",
       "      <td>7503</td>\n",
       "    </tr>\n",
       "  </tbody>\n",
       "</table>\n",
       "<p>5 rows × 21 columns</p>\n",
       "</div>"
      ],
      "text/plain": [
       "           id             date     price  bedrooms  bathrooms  sqft_living  \\\n",
       "0  7129300520  20141013T000000  221900.0         3       1.00         1180   \n",
       "1  6414100192  20141209T000000  538000.0         3       2.25         2570   \n",
       "2  5631500400  20150225T000000  180000.0         2       1.00          770   \n",
       "3  2487200875  20141209T000000  604000.0         4       3.00         1960   \n",
       "4  1954400510  20150218T000000  510000.0         3       2.00         1680   \n",
       "\n",
       "   sqft_lot  floors  waterfront  view  ...  grade  sqft_above  sqft_basement  \\\n",
       "0      5650     1.0           0     0  ...      7        1180              0   \n",
       "1      7242     2.0           0     0  ...      7        2170            400   \n",
       "2     10000     1.0           0     0  ...      6         770              0   \n",
       "3      5000     1.0           0     0  ...      7        1050            910   \n",
       "4      8080     1.0           0     0  ...      8        1680              0   \n",
       "\n",
       "   yr_built  yr_renovated  zipcode      lat     long  sqft_living15  \\\n",
       "0      1955             0    98178  47.5112 -122.257           1340   \n",
       "1      1951          1991    98125  47.7210 -122.319           1690   \n",
       "2      1933             0    98028  47.7379 -122.233           2720   \n",
       "3      1965             0    98136  47.5208 -122.393           1360   \n",
       "4      1987             0    98074  47.6168 -122.045           1800   \n",
       "\n",
       "   sqft_lot15  \n",
       "0        5650  \n",
       "1        7639  \n",
       "2        8062  \n",
       "3        5000  \n",
       "4        7503  \n",
       "\n",
       "[5 rows x 21 columns]"
      ]
     },
     "execution_count": 112,
     "metadata": {},
     "output_type": "execute_result"
    }
   ],
   "source": [
    "df_raw = pd.read_csv('../datasets/kc_house_data.csv')\n",
    "df_raw.head()"
   ]
  },
  {
   "cell_type": "markdown",
   "metadata": {},
   "source": [
    "### 1.3.2. Descrição dos Dados"
   ]
  },
  {
   "cell_type": "markdown",
   "metadata": {},
   "source": [
    "| Nome da Coluna | Descrição da Coluna |\n",
    "| :------------- | :------------------ |\n",
    "| id | ID único de cada imóvel na base de dados |\n",
    "| date | Data da venda do imóvel |\n",
    "| price | Preço de venda do imóvel |\n",
    "| bedrooms | Número de quartos |\n",
    "| bedrooms | Número de banheiros. Onde 0.5 representa um quarto com vaso sanitário, mas sem chuveiro; 0.75 representa um banheiro que contém uma pia, uma privada, um chuveiro ou uma banheira. Um banheiro completo tradicionalmente possui uma pia, uma privada, um chuveiro e uma banheira, dessa forma, 0.75 representa que o banheiro tem ou um chuveiro ou uma banheira |\n",
    "| sqft_living | Metragem quadrada (em pés) do espaço interior do imóvel |\n",
    "| sqft_lot | Metragem quadrada (em pés) do espaço terrestre do imóvel |\n",
    "| floors | Número de andares do imóvel |\n",
    "| waterfront | Coluna que representa se o imóvel possui vista para o mar/lago ou não. 0 representa sem vista para a água e 1 representa vista para a água |\n",
    "| view | Índice de 0 a 4 de quão boa é a vista do imóvel. 0 é a pior vista e 4 é a melhor vista |\n",
    "| condition | Índice de 1 a 5 sobre a condição (usado) do imóvel. 1 é a pior condição e 5 é a melhor |\n",
    "| grade\t| Índice de 1 a 13 sobre a condição da construção e design do imóvel. 1 é a pior nota e 13 é a melhor nota |\n",
    "| sqft_above | Metragem quadrada (em pés) do espaço interno do imóvel que está acima do nível do solo |\n",
    "| sqft_basement | Metragem quadrada (em pés) do espaço interno do imóvel que está abaixo do nível do solo (porão) |\n",
    "| yr_built | Ano em que o imóvel foi construído |\n",
    "| yr_renovated | Ano da última reforma do imóvel |\n",
    "| zipcode | Código postal do imóvel |\n",
    "| lat | Ponto de latitude do imóvel |\n",
    "| long | Ponto de longitude do imóvel |\n",
    "| sqft_living15 | Metragem quadrada (em pés) do espaço habitacional interior para os 15 vizinhos mais próximos |\n",
    "| sqft_lot15 | A metragem quadrada (em pés) dos terrenos (lotes vazios) dos 15 vizinhos mais próximos |"
   ]
  },
  {
   "cell_type": "markdown",
   "metadata": {},
   "source": [
    "### 1.3.3. Verificação de NAs e tipos dos Dados"
   ]
  },
  {
   "cell_type": "code",
   "execution_count": 113,
   "metadata": {},
   "outputs": [
    {
     "name": "stdout",
     "output_type": "stream",
     "text": [
      "<class 'pandas.core.frame.DataFrame'>\n",
      "RangeIndex: 21613 entries, 0 to 21612\n",
      "Data columns (total 21 columns):\n",
      " #   Column         Non-Null Count  Dtype  \n",
      "---  ------         --------------  -----  \n",
      " 0   id             21613 non-null  int64  \n",
      " 1   date           21613 non-null  object \n",
      " 2   price          21613 non-null  float64\n",
      " 3   bedrooms       21613 non-null  int64  \n",
      " 4   bathrooms      21613 non-null  float64\n",
      " 5   sqft_living    21613 non-null  int64  \n",
      " 6   sqft_lot       21613 non-null  int64  \n",
      " 7   floors         21613 non-null  float64\n",
      " 8   waterfront     21613 non-null  int64  \n",
      " 9   view           21613 non-null  int64  \n",
      " 10  condition      21613 non-null  int64  \n",
      " 11  grade          21613 non-null  int64  \n",
      " 12  sqft_above     21613 non-null  int64  \n",
      " 13  sqft_basement  21613 non-null  int64  \n",
      " 14  yr_built       21613 non-null  int64  \n",
      " 15  yr_renovated   21613 non-null  int64  \n",
      " 16  zipcode        21613 non-null  int64  \n",
      " 17  lat            21613 non-null  float64\n",
      " 18  long           21613 non-null  float64\n",
      " 19  sqft_living15  21613 non-null  int64  \n",
      " 20  sqft_lot15     21613 non-null  int64  \n",
      "dtypes: float64(5), int64(15), object(1)\n",
      "memory usage: 3.5+ MB\n"
     ]
    }
   ],
   "source": [
    "df_raw.info()"
   ]
  },
  {
   "cell_type": "markdown",
   "metadata": {},
   "source": [
    "Como não temos dados faltantes, iremos verificar primeiro a tabela de estatística descritiva para verificar as inconsistencias e depois limpar os dados, caso necessário.\n",
    "\n",
    "Além disso, precisamos arrumar a coluna `date` para o tipo de data."
   ]
  },
  {
   "cell_type": "markdown",
   "metadata": {},
   "source": [
    "### 1.3.4. Tabela de Estatística descritiva"
   ]
  },
  {
   "cell_type": "code",
   "execution_count": 114,
   "metadata": {},
   "outputs": [
    {
     "data": {
      "text/html": [
       "<div>\n",
       "<style scoped>\n",
       "    .dataframe tbody tr th:only-of-type {\n",
       "        vertical-align: middle;\n",
       "    }\n",
       "\n",
       "    .dataframe tbody tr th {\n",
       "        vertical-align: top;\n",
       "    }\n",
       "\n",
       "    .dataframe thead th {\n",
       "        text-align: right;\n",
       "    }\n",
       "</style>\n",
       "<table border=\"1\" class=\"dataframe\">\n",
       "  <thead>\n",
       "    <tr style=\"text-align: right;\">\n",
       "      <th></th>\n",
       "      <th>attributes</th>\n",
       "      <th>min</th>\n",
       "      <th>max</th>\n",
       "      <th>range</th>\n",
       "      <th>mean</th>\n",
       "      <th>median</th>\n",
       "      <th>std</th>\n",
       "      <th>skew</th>\n",
       "      <th>kurtosis</th>\n",
       "    </tr>\n",
       "  </thead>\n",
       "  <tbody>\n",
       "    <tr>\n",
       "      <th>0</th>\n",
       "      <td>price</td>\n",
       "      <td>75000.0</td>\n",
       "      <td>7700000.0</td>\n",
       "      <td>7625000.0</td>\n",
       "      <td>540088.141767</td>\n",
       "      <td>450000.00</td>\n",
       "      <td>367118.703181</td>\n",
       "      <td>4.024069</td>\n",
       "      <td>34.585540</td>\n",
       "    </tr>\n",
       "    <tr>\n",
       "      <th>1</th>\n",
       "      <td>bedrooms</td>\n",
       "      <td>0.0</td>\n",
       "      <td>33.0</td>\n",
       "      <td>33.0</td>\n",
       "      <td>3.370842</td>\n",
       "      <td>3.00</td>\n",
       "      <td>0.930040</td>\n",
       "      <td>1.974300</td>\n",
       "      <td>49.063653</td>\n",
       "    </tr>\n",
       "    <tr>\n",
       "      <th>2</th>\n",
       "      <td>bathrooms</td>\n",
       "      <td>0.0</td>\n",
       "      <td>8.0</td>\n",
       "      <td>8.0</td>\n",
       "      <td>2.114757</td>\n",
       "      <td>2.25</td>\n",
       "      <td>0.770145</td>\n",
       "      <td>0.511108</td>\n",
       "      <td>1.279902</td>\n",
       "    </tr>\n",
       "    <tr>\n",
       "      <th>3</th>\n",
       "      <td>sqft_living</td>\n",
       "      <td>290.0</td>\n",
       "      <td>13540.0</td>\n",
       "      <td>13250.0</td>\n",
       "      <td>2079.899736</td>\n",
       "      <td>1910.00</td>\n",
       "      <td>918.419649</td>\n",
       "      <td>1.471555</td>\n",
       "      <td>5.243093</td>\n",
       "    </tr>\n",
       "    <tr>\n",
       "      <th>4</th>\n",
       "      <td>sqft_lot</td>\n",
       "      <td>520.0</td>\n",
       "      <td>1651359.0</td>\n",
       "      <td>1650839.0</td>\n",
       "      <td>15106.967566</td>\n",
       "      <td>7618.00</td>\n",
       "      <td>41419.553273</td>\n",
       "      <td>13.060019</td>\n",
       "      <td>285.077820</td>\n",
       "    </tr>\n",
       "    <tr>\n",
       "      <th>5</th>\n",
       "      <td>floors</td>\n",
       "      <td>1.0</td>\n",
       "      <td>3.5</td>\n",
       "      <td>2.5</td>\n",
       "      <td>1.494309</td>\n",
       "      <td>1.50</td>\n",
       "      <td>0.539976</td>\n",
       "      <td>0.616177</td>\n",
       "      <td>-0.484723</td>\n",
       "    </tr>\n",
       "    <tr>\n",
       "      <th>6</th>\n",
       "      <td>waterfront</td>\n",
       "      <td>0.0</td>\n",
       "      <td>1.0</td>\n",
       "      <td>1.0</td>\n",
       "      <td>0.007542</td>\n",
       "      <td>0.00</td>\n",
       "      <td>0.086515</td>\n",
       "      <td>11.385108</td>\n",
       "      <td>127.632494</td>\n",
       "    </tr>\n",
       "    <tr>\n",
       "      <th>7</th>\n",
       "      <td>view</td>\n",
       "      <td>0.0</td>\n",
       "      <td>4.0</td>\n",
       "      <td>4.0</td>\n",
       "      <td>0.234303</td>\n",
       "      <td>0.00</td>\n",
       "      <td>0.766300</td>\n",
       "      <td>3.395750</td>\n",
       "      <td>10.893022</td>\n",
       "    </tr>\n",
       "    <tr>\n",
       "      <th>8</th>\n",
       "      <td>condition</td>\n",
       "      <td>1.0</td>\n",
       "      <td>5.0</td>\n",
       "      <td>4.0</td>\n",
       "      <td>3.409430</td>\n",
       "      <td>3.00</td>\n",
       "      <td>0.650728</td>\n",
       "      <td>1.032805</td>\n",
       "      <td>0.525764</td>\n",
       "    </tr>\n",
       "    <tr>\n",
       "      <th>9</th>\n",
       "      <td>grade</td>\n",
       "      <td>1.0</td>\n",
       "      <td>13.0</td>\n",
       "      <td>12.0</td>\n",
       "      <td>7.656873</td>\n",
       "      <td>7.00</td>\n",
       "      <td>1.175432</td>\n",
       "      <td>0.771103</td>\n",
       "      <td>1.190932</td>\n",
       "    </tr>\n",
       "    <tr>\n",
       "      <th>10</th>\n",
       "      <td>sqft_above</td>\n",
       "      <td>290.0</td>\n",
       "      <td>9410.0</td>\n",
       "      <td>9120.0</td>\n",
       "      <td>1788.390691</td>\n",
       "      <td>1560.00</td>\n",
       "      <td>828.071820</td>\n",
       "      <td>1.446664</td>\n",
       "      <td>3.402304</td>\n",
       "    </tr>\n",
       "    <tr>\n",
       "      <th>11</th>\n",
       "      <td>sqft_basement</td>\n",
       "      <td>0.0</td>\n",
       "      <td>4820.0</td>\n",
       "      <td>4820.0</td>\n",
       "      <td>291.509045</td>\n",
       "      <td>0.00</td>\n",
       "      <td>442.564804</td>\n",
       "      <td>1.577965</td>\n",
       "      <td>2.715574</td>\n",
       "    </tr>\n",
       "    <tr>\n",
       "      <th>12</th>\n",
       "      <td>yr_built</td>\n",
       "      <td>1900.0</td>\n",
       "      <td>2015.0</td>\n",
       "      <td>115.0</td>\n",
       "      <td>1971.005136</td>\n",
       "      <td>1975.00</td>\n",
       "      <td>29.372731</td>\n",
       "      <td>-0.469805</td>\n",
       "      <td>-0.657408</td>\n",
       "    </tr>\n",
       "    <tr>\n",
       "      <th>13</th>\n",
       "      <td>yr_renovated</td>\n",
       "      <td>0.0</td>\n",
       "      <td>2015.0</td>\n",
       "      <td>2015.0</td>\n",
       "      <td>84.402258</td>\n",
       "      <td>0.00</td>\n",
       "      <td>401.669947</td>\n",
       "      <td>4.549493</td>\n",
       "      <td>18.701152</td>\n",
       "    </tr>\n",
       "    <tr>\n",
       "      <th>14</th>\n",
       "      <td>zipcode</td>\n",
       "      <td>98001.0</td>\n",
       "      <td>98199.0</td>\n",
       "      <td>198.0</td>\n",
       "      <td>98077.939805</td>\n",
       "      <td>98065.00</td>\n",
       "      <td>53.503788</td>\n",
       "      <td>0.405661</td>\n",
       "      <td>-0.853479</td>\n",
       "    </tr>\n",
       "    <tr>\n",
       "      <th>15</th>\n",
       "      <td>sqft_living15</td>\n",
       "      <td>399.0</td>\n",
       "      <td>6210.0</td>\n",
       "      <td>5811.0</td>\n",
       "      <td>1986.552492</td>\n",
       "      <td>1840.00</td>\n",
       "      <td>685.375448</td>\n",
       "      <td>1.108181</td>\n",
       "      <td>1.597096</td>\n",
       "    </tr>\n",
       "    <tr>\n",
       "      <th>16</th>\n",
       "      <td>sqft_lot15</td>\n",
       "      <td>651.0</td>\n",
       "      <td>871200.0</td>\n",
       "      <td>870549.0</td>\n",
       "      <td>12768.455652</td>\n",
       "      <td>7620.00</td>\n",
       "      <td>27303.547963</td>\n",
       "      <td>9.506743</td>\n",
       "      <td>150.763110</td>\n",
       "    </tr>\n",
       "  </tbody>\n",
       "</table>\n",
       "</div>"
      ],
      "text/plain": [
       "       attributes      min        max      range           mean     median  \\\n",
       "0           price  75000.0  7700000.0  7625000.0  540088.141767  450000.00   \n",
       "1        bedrooms      0.0       33.0       33.0       3.370842       3.00   \n",
       "2       bathrooms      0.0        8.0        8.0       2.114757       2.25   \n",
       "3     sqft_living    290.0    13540.0    13250.0    2079.899736    1910.00   \n",
       "4        sqft_lot    520.0  1651359.0  1650839.0   15106.967566    7618.00   \n",
       "5          floors      1.0        3.5        2.5       1.494309       1.50   \n",
       "6      waterfront      0.0        1.0        1.0       0.007542       0.00   \n",
       "7            view      0.0        4.0        4.0       0.234303       0.00   \n",
       "8       condition      1.0        5.0        4.0       3.409430       3.00   \n",
       "9           grade      1.0       13.0       12.0       7.656873       7.00   \n",
       "10     sqft_above    290.0     9410.0     9120.0    1788.390691    1560.00   \n",
       "11  sqft_basement      0.0     4820.0     4820.0     291.509045       0.00   \n",
       "12       yr_built   1900.0     2015.0      115.0    1971.005136    1975.00   \n",
       "13   yr_renovated      0.0     2015.0     2015.0      84.402258       0.00   \n",
       "14        zipcode  98001.0    98199.0      198.0   98077.939805   98065.00   \n",
       "15  sqft_living15    399.0     6210.0     5811.0    1986.552492    1840.00   \n",
       "16     sqft_lot15    651.0   871200.0   870549.0   12768.455652    7620.00   \n",
       "\n",
       "              std       skew    kurtosis  \n",
       "0   367118.703181   4.024069   34.585540  \n",
       "1        0.930040   1.974300   49.063653  \n",
       "2        0.770145   0.511108    1.279902  \n",
       "3      918.419649   1.471555    5.243093  \n",
       "4    41419.553273  13.060019  285.077820  \n",
       "5        0.539976   0.616177   -0.484723  \n",
       "6        0.086515  11.385108  127.632494  \n",
       "7        0.766300   3.395750   10.893022  \n",
       "8        0.650728   1.032805    0.525764  \n",
       "9        1.175432   0.771103    1.190932  \n",
       "10     828.071820   1.446664    3.402304  \n",
       "11     442.564804   1.577965    2.715574  \n",
       "12      29.372731  -0.469805   -0.657408  \n",
       "13     401.669947   4.549493   18.701152  \n",
       "14      53.503788   0.405661   -0.853479  \n",
       "15     685.375448   1.108181    1.597096  \n",
       "16   27303.547963   9.506743  150.763110  "
      ]
     },
     "execution_count": 114,
     "metadata": {},
     "output_type": "execute_result"
    }
   ],
   "source": [
    "df_numerical = create_descriptive_statistics_table(df_raw, ['id', 'lat', 'long'])\n",
    "df_numerical"
   ]
  },
  {
   "cell_type": "markdown",
   "metadata": {},
   "source": [
    "Como podemos observar, temos imóveis que não possuem nem banheiros e nem quartos (valores mínimos iguais a zero). Na limpeza, esses imóveis serão removidos. Limparemos também o registro que tem 33 quartos."
   ]
  },
  {
   "cell_type": "markdown",
   "metadata": {},
   "source": [
    "### 1.3.3. Limpeza dos Dados"
   ]
  },
  {
   "cell_type": "markdown",
   "metadata": {},
   "source": [
    "Removendo:\n",
    "* Casas que não tenham quartos\n",
    "* Casas que tenham a quantidade de quartos menor que 33\n",
    "* Casas que não tenham banheiros"
   ]
  },
  {
   "cell_type": "code",
   "execution_count": 115,
   "metadata": {},
   "outputs": [],
   "source": [
    "df1 = df_raw.loc[df_raw['bedrooms'] > 0, :]\n",
    "df1 = df1.loc[df1['bedrooms'] < 33, :]\n",
    "df1 = df1.loc[df1['bathrooms'] > 0, :]"
   ]
  },
  {
   "cell_type": "markdown",
   "metadata": {},
   "source": [
    "#### 1.3.3.1. Verifificando se Há algum ID duplicado"
   ]
  },
  {
   "cell_type": "code",
   "execution_count": 116,
   "metadata": {},
   "outputs": [
    {
     "data": {
      "text/plain": [
       "True"
      ]
     },
     "execution_count": 116,
     "metadata": {},
     "output_type": "execute_result"
    }
   ],
   "source": [
    "df1['id'].duplicated().any()"
   ]
  },
  {
   "cell_type": "markdown",
   "metadata": {},
   "source": [
    "#### 1.3.3.2. Removendo os IDs duplicados"
   ]
  },
  {
   "cell_type": "code",
   "execution_count": 117,
   "metadata": {},
   "outputs": [
    {
     "data": {
      "text/html": [
       "<div>\n",
       "<style scoped>\n",
       "    .dataframe tbody tr th:only-of-type {\n",
       "        vertical-align: middle;\n",
       "    }\n",
       "\n",
       "    .dataframe tbody tr th {\n",
       "        vertical-align: top;\n",
       "    }\n",
       "\n",
       "    .dataframe thead th {\n",
       "        text-align: right;\n",
       "    }\n",
       "</style>\n",
       "<table border=\"1\" class=\"dataframe\">\n",
       "  <thead>\n",
       "    <tr style=\"text-align: right;\">\n",
       "      <th></th>\n",
       "      <th>id</th>\n",
       "      <th>date</th>\n",
       "      <th>price</th>\n",
       "      <th>bedrooms</th>\n",
       "      <th>bathrooms</th>\n",
       "      <th>sqft_living</th>\n",
       "      <th>sqft_lot</th>\n",
       "      <th>floors</th>\n",
       "      <th>waterfront</th>\n",
       "      <th>view</th>\n",
       "      <th>...</th>\n",
       "      <th>grade</th>\n",
       "      <th>sqft_above</th>\n",
       "      <th>sqft_basement</th>\n",
       "      <th>yr_built</th>\n",
       "      <th>yr_renovated</th>\n",
       "      <th>zipcode</th>\n",
       "      <th>lat</th>\n",
       "      <th>long</th>\n",
       "      <th>sqft_living15</th>\n",
       "      <th>sqft_lot15</th>\n",
       "    </tr>\n",
       "  </thead>\n",
       "  <tbody>\n",
       "    <tr>\n",
       "      <th>0</th>\n",
       "      <td>7129300520</td>\n",
       "      <td>20141013T000000</td>\n",
       "      <td>221900.0</td>\n",
       "      <td>3</td>\n",
       "      <td>1.00</td>\n",
       "      <td>1180</td>\n",
       "      <td>5650</td>\n",
       "      <td>1.0</td>\n",
       "      <td>0</td>\n",
       "      <td>0</td>\n",
       "      <td>...</td>\n",
       "      <td>7</td>\n",
       "      <td>1180</td>\n",
       "      <td>0</td>\n",
       "      <td>1955</td>\n",
       "      <td>0</td>\n",
       "      <td>98178</td>\n",
       "      <td>47.5112</td>\n",
       "      <td>-122.257</td>\n",
       "      <td>1340</td>\n",
       "      <td>5650</td>\n",
       "    </tr>\n",
       "    <tr>\n",
       "      <th>1</th>\n",
       "      <td>6414100192</td>\n",
       "      <td>20141209T000000</td>\n",
       "      <td>538000.0</td>\n",
       "      <td>3</td>\n",
       "      <td>2.25</td>\n",
       "      <td>2570</td>\n",
       "      <td>7242</td>\n",
       "      <td>2.0</td>\n",
       "      <td>0</td>\n",
       "      <td>0</td>\n",
       "      <td>...</td>\n",
       "      <td>7</td>\n",
       "      <td>2170</td>\n",
       "      <td>400</td>\n",
       "      <td>1951</td>\n",
       "      <td>1991</td>\n",
       "      <td>98125</td>\n",
       "      <td>47.7210</td>\n",
       "      <td>-122.319</td>\n",
       "      <td>1690</td>\n",
       "      <td>7639</td>\n",
       "    </tr>\n",
       "    <tr>\n",
       "      <th>2</th>\n",
       "      <td>5631500400</td>\n",
       "      <td>20150225T000000</td>\n",
       "      <td>180000.0</td>\n",
       "      <td>2</td>\n",
       "      <td>1.00</td>\n",
       "      <td>770</td>\n",
       "      <td>10000</td>\n",
       "      <td>1.0</td>\n",
       "      <td>0</td>\n",
       "      <td>0</td>\n",
       "      <td>...</td>\n",
       "      <td>6</td>\n",
       "      <td>770</td>\n",
       "      <td>0</td>\n",
       "      <td>1933</td>\n",
       "      <td>0</td>\n",
       "      <td>98028</td>\n",
       "      <td>47.7379</td>\n",
       "      <td>-122.233</td>\n",
       "      <td>2720</td>\n",
       "      <td>8062</td>\n",
       "    </tr>\n",
       "    <tr>\n",
       "      <th>3</th>\n",
       "      <td>2487200875</td>\n",
       "      <td>20141209T000000</td>\n",
       "      <td>604000.0</td>\n",
       "      <td>4</td>\n",
       "      <td>3.00</td>\n",
       "      <td>1960</td>\n",
       "      <td>5000</td>\n",
       "      <td>1.0</td>\n",
       "      <td>0</td>\n",
       "      <td>0</td>\n",
       "      <td>...</td>\n",
       "      <td>7</td>\n",
       "      <td>1050</td>\n",
       "      <td>910</td>\n",
       "      <td>1965</td>\n",
       "      <td>0</td>\n",
       "      <td>98136</td>\n",
       "      <td>47.5208</td>\n",
       "      <td>-122.393</td>\n",
       "      <td>1360</td>\n",
       "      <td>5000</td>\n",
       "    </tr>\n",
       "    <tr>\n",
       "      <th>4</th>\n",
       "      <td>1954400510</td>\n",
       "      <td>20150218T000000</td>\n",
       "      <td>510000.0</td>\n",
       "      <td>3</td>\n",
       "      <td>2.00</td>\n",
       "      <td>1680</td>\n",
       "      <td>8080</td>\n",
       "      <td>1.0</td>\n",
       "      <td>0</td>\n",
       "      <td>0</td>\n",
       "      <td>...</td>\n",
       "      <td>8</td>\n",
       "      <td>1680</td>\n",
       "      <td>0</td>\n",
       "      <td>1987</td>\n",
       "      <td>0</td>\n",
       "      <td>98074</td>\n",
       "      <td>47.6168</td>\n",
       "      <td>-122.045</td>\n",
       "      <td>1800</td>\n",
       "      <td>7503</td>\n",
       "    </tr>\n",
       "  </tbody>\n",
       "</table>\n",
       "<p>5 rows × 21 columns</p>\n",
       "</div>"
      ],
      "text/plain": [
       "           id             date     price  bedrooms  bathrooms  sqft_living  \\\n",
       "0  7129300520  20141013T000000  221900.0         3       1.00         1180   \n",
       "1  6414100192  20141209T000000  538000.0         3       2.25         2570   \n",
       "2  5631500400  20150225T000000  180000.0         2       1.00          770   \n",
       "3  2487200875  20141209T000000  604000.0         4       3.00         1960   \n",
       "4  1954400510  20150218T000000  510000.0         3       2.00         1680   \n",
       "\n",
       "   sqft_lot  floors  waterfront  view  ...  grade  sqft_above  sqft_basement  \\\n",
       "0      5650     1.0           0     0  ...      7        1180              0   \n",
       "1      7242     2.0           0     0  ...      7        2170            400   \n",
       "2     10000     1.0           0     0  ...      6         770              0   \n",
       "3      5000     1.0           0     0  ...      7        1050            910   \n",
       "4      8080     1.0           0     0  ...      8        1680              0   \n",
       "\n",
       "   yr_built  yr_renovated  zipcode      lat     long  sqft_living15  \\\n",
       "0      1955             0    98178  47.5112 -122.257           1340   \n",
       "1      1951          1991    98125  47.7210 -122.319           1690   \n",
       "2      1933             0    98028  47.7379 -122.233           2720   \n",
       "3      1965             0    98136  47.5208 -122.393           1360   \n",
       "4      1987             0    98074  47.6168 -122.045           1800   \n",
       "\n",
       "   sqft_lot15  \n",
       "0        5650  \n",
       "1        7639  \n",
       "2        8062  \n",
       "3        5000  \n",
       "4        7503  \n",
       "\n",
       "[5 rows x 21 columns]"
      ]
     },
     "execution_count": 117,
     "metadata": {},
     "output_type": "execute_result"
    }
   ],
   "source": [
    "df1 = df1.drop_duplicates(subset=['id'])\n",
    "df1.head()"
   ]
  },
  {
   "cell_type": "markdown",
   "metadata": {},
   "source": [
    "#### 1.3.4. Estatistica Descritiva"
   ]
  },
  {
   "cell_type": "markdown",
   "metadata": {},
   "source": [
    "#### 1.3.4.1. Variáveis Numéricas"
   ]
  },
  {
   "cell_type": "code",
   "execution_count": 118,
   "metadata": {},
   "outputs": [
    {
     "data": {
      "text/html": [
       "<div>\n",
       "<style scoped>\n",
       "    .dataframe tbody tr th:only-of-type {\n",
       "        vertical-align: middle;\n",
       "    }\n",
       "\n",
       "    .dataframe tbody tr th {\n",
       "        vertical-align: top;\n",
       "    }\n",
       "\n",
       "    .dataframe thead th {\n",
       "        text-align: right;\n",
       "    }\n",
       "</style>\n",
       "<table border=\"1\" class=\"dataframe\">\n",
       "  <thead>\n",
       "    <tr style=\"text-align: right;\">\n",
       "      <th></th>\n",
       "      <th>attributes</th>\n",
       "      <th>min</th>\n",
       "      <th>max</th>\n",
       "      <th>range</th>\n",
       "      <th>mean</th>\n",
       "      <th>median</th>\n",
       "      <th>std</th>\n",
       "      <th>skew</th>\n",
       "      <th>kurtosis</th>\n",
       "    </tr>\n",
       "  </thead>\n",
       "  <tbody>\n",
       "    <tr>\n",
       "      <th>0</th>\n",
       "      <td>price</td>\n",
       "      <td>78000.0</td>\n",
       "      <td>7700000.0</td>\n",
       "      <td>7622000.0</td>\n",
       "      <td>540640.704515</td>\n",
       "      <td>450000.00</td>\n",
       "      <td>367695.528337</td>\n",
       "      <td>4.030098</td>\n",
       "      <td>34.636551</td>\n",
       "    </tr>\n",
       "    <tr>\n",
       "      <th>1</th>\n",
       "      <td>bedrooms</td>\n",
       "      <td>1.0</td>\n",
       "      <td>11.0</td>\n",
       "      <td>10.0</td>\n",
       "      <td>3.372566</td>\n",
       "      <td>3.00</td>\n",
       "      <td>0.902992</td>\n",
       "      <td>0.551302</td>\n",
       "      <td>1.810539</td>\n",
       "    </tr>\n",
       "    <tr>\n",
       "      <th>2</th>\n",
       "      <td>bathrooms</td>\n",
       "      <td>0.5</td>\n",
       "      <td>8.0</td>\n",
       "      <td>7.5</td>\n",
       "      <td>2.118446</td>\n",
       "      <td>2.25</td>\n",
       "      <td>0.768716</td>\n",
       "      <td>0.518832</td>\n",
       "      <td>1.290747</td>\n",
       "    </tr>\n",
       "    <tr>\n",
       "      <th>3</th>\n",
       "      <td>sqft_living</td>\n",
       "      <td>370.0</td>\n",
       "      <td>13540.0</td>\n",
       "      <td>13170.0</td>\n",
       "      <td>2083.154256</td>\n",
       "      <td>1920.00</td>\n",
       "      <td>918.802962</td>\n",
       "      <td>1.472629</td>\n",
       "      <td>5.257856</td>\n",
       "    </tr>\n",
       "    <tr>\n",
       "      <th>4</th>\n",
       "      <td>sqft_lot</td>\n",
       "      <td>520.0</td>\n",
       "      <td>1651359.0</td>\n",
       "      <td>1650839.0</td>\n",
       "      <td>15128.464167</td>\n",
       "      <td>7614.00</td>\n",
       "      <td>41530.750002</td>\n",
       "      <td>13.055961</td>\n",
       "      <td>284.487217</td>\n",
       "    </tr>\n",
       "    <tr>\n",
       "      <th>5</th>\n",
       "      <td>floors</td>\n",
       "      <td>1.0</td>\n",
       "      <td>3.5</td>\n",
       "      <td>2.5</td>\n",
       "      <td>1.496008</td>\n",
       "      <td>1.50</td>\n",
       "      <td>0.540070</td>\n",
       "      <td>0.608717</td>\n",
       "      <td>-0.497183</td>\n",
       "    </tr>\n",
       "    <tr>\n",
       "      <th>6</th>\n",
       "      <td>waterfront</td>\n",
       "      <td>0.0</td>\n",
       "      <td>1.0</td>\n",
       "      <td>1.0</td>\n",
       "      <td>0.007610</td>\n",
       "      <td>0.00</td>\n",
       "      <td>0.086903</td>\n",
       "      <td>11.332721</td>\n",
       "      <td>126.442371</td>\n",
       "    </tr>\n",
       "    <tr>\n",
       "      <th>7</th>\n",
       "      <td>view</td>\n",
       "      <td>0.0</td>\n",
       "      <td>4.0</td>\n",
       "      <td>4.0</td>\n",
       "      <td>0.235118</td>\n",
       "      <td>0.00</td>\n",
       "      <td>0.767164</td>\n",
       "      <td>3.387119</td>\n",
       "      <td>10.832393</td>\n",
       "    </tr>\n",
       "    <tr>\n",
       "      <th>8</th>\n",
       "      <td>condition</td>\n",
       "      <td>1.0</td>\n",
       "      <td>5.0</td>\n",
       "      <td>4.0</td>\n",
       "      <td>3.410710</td>\n",
       "      <td>3.00</td>\n",
       "      <td>0.649945</td>\n",
       "      <td>1.039544</td>\n",
       "      <td>0.511475</td>\n",
       "    </tr>\n",
       "    <tr>\n",
       "      <th>9</th>\n",
       "      <td>grade</td>\n",
       "      <td>3.0</td>\n",
       "      <td>13.0</td>\n",
       "      <td>10.0</td>\n",
       "      <td>7.662823</td>\n",
       "      <td>7.00</td>\n",
       "      <td>1.171962</td>\n",
       "      <td>0.787669</td>\n",
       "      <td>1.133372</td>\n",
       "    </tr>\n",
       "    <tr>\n",
       "      <th>10</th>\n",
       "      <td>sqft_above</td>\n",
       "      <td>370.0</td>\n",
       "      <td>9410.0</td>\n",
       "      <td>9040.0</td>\n",
       "      <td>1791.205285</td>\n",
       "      <td>1560.00</td>\n",
       "      <td>828.677069</td>\n",
       "      <td>1.444958</td>\n",
       "      <td>3.398252</td>\n",
       "    </tr>\n",
       "    <tr>\n",
       "      <th>11</th>\n",
       "      <td>sqft_basement</td>\n",
       "      <td>0.0</td>\n",
       "      <td>4820.0</td>\n",
       "      <td>4820.0</td>\n",
       "      <td>291.948971</td>\n",
       "      <td>0.00</td>\n",
       "      <td>442.871129</td>\n",
       "      <td>1.575877</td>\n",
       "      <td>2.708327</td>\n",
       "    </tr>\n",
       "    <tr>\n",
       "      <th>12</th>\n",
       "      <td>yr_built</td>\n",
       "      <td>1900.0</td>\n",
       "      <td>2015.0</td>\n",
       "      <td>115.0</td>\n",
       "      <td>1971.094122</td>\n",
       "      <td>1975.00</td>\n",
       "      <td>29.386679</td>\n",
       "      <td>-0.474322</td>\n",
       "      <td>-0.654550</td>\n",
       "    </tr>\n",
       "    <tr>\n",
       "      <th>13</th>\n",
       "      <td>yr_renovated</td>\n",
       "      <td>0.0</td>\n",
       "      <td>2015.0</td>\n",
       "      <td>2015.0</td>\n",
       "      <td>84.797049</td>\n",
       "      <td>0.00</td>\n",
       "      <td>402.574209</td>\n",
       "      <td>4.537493</td>\n",
       "      <td>18.592097</td>\n",
       "    </tr>\n",
       "    <tr>\n",
       "      <th>14</th>\n",
       "      <td>zipcode</td>\n",
       "      <td>98001.0</td>\n",
       "      <td>98199.0</td>\n",
       "      <td>198.0</td>\n",
       "      <td>98077.873197</td>\n",
       "      <td>98065.00</td>\n",
       "      <td>53.477204</td>\n",
       "      <td>0.407847</td>\n",
       "      <td>-0.850243</td>\n",
       "    </tr>\n",
       "    <tr>\n",
       "      <th>15</th>\n",
       "      <td>sqft_living15</td>\n",
       "      <td>399.0</td>\n",
       "      <td>6210.0</td>\n",
       "      <td>5811.0</td>\n",
       "      <td>1988.414819</td>\n",
       "      <td>1840.00</td>\n",
       "      <td>685.522295</td>\n",
       "      <td>1.104483</td>\n",
       "      <td>1.587888</td>\n",
       "    </tr>\n",
       "    <tr>\n",
       "      <th>16</th>\n",
       "      <td>sqft_lot15</td>\n",
       "      <td>651.0</td>\n",
       "      <td>871200.0</td>\n",
       "      <td>870549.0</td>\n",
       "      <td>12776.095196</td>\n",
       "      <td>7620.00</td>\n",
       "      <td>27345.566191</td>\n",
       "      <td>9.512840</td>\n",
       "      <td>150.949988</td>\n",
       "    </tr>\n",
       "  </tbody>\n",
       "</table>\n",
       "</div>"
      ],
      "text/plain": [
       "       attributes      min        max      range           mean     median  \\\n",
       "0           price  78000.0  7700000.0  7622000.0  540640.704515  450000.00   \n",
       "1        bedrooms      1.0       11.0       10.0       3.372566       3.00   \n",
       "2       bathrooms      0.5        8.0        7.5       2.118446       2.25   \n",
       "3     sqft_living    370.0    13540.0    13170.0    2083.154256    1920.00   \n",
       "4        sqft_lot    520.0  1651359.0  1650839.0   15128.464167    7614.00   \n",
       "5          floors      1.0        3.5        2.5       1.496008       1.50   \n",
       "6      waterfront      0.0        1.0        1.0       0.007610       0.00   \n",
       "7            view      0.0        4.0        4.0       0.235118       0.00   \n",
       "8       condition      1.0        5.0        4.0       3.410710       3.00   \n",
       "9           grade      3.0       13.0       10.0       7.662823       7.00   \n",
       "10     sqft_above    370.0     9410.0     9040.0    1791.205285    1560.00   \n",
       "11  sqft_basement      0.0     4820.0     4820.0     291.948971       0.00   \n",
       "12       yr_built   1900.0     2015.0      115.0    1971.094122    1975.00   \n",
       "13   yr_renovated      0.0     2015.0     2015.0      84.797049       0.00   \n",
       "14        zipcode  98001.0    98199.0      198.0   98077.873197   98065.00   \n",
       "15  sqft_living15    399.0     6210.0     5811.0    1988.414819    1840.00   \n",
       "16     sqft_lot15    651.0   871200.0   870549.0   12776.095196    7620.00   \n",
       "\n",
       "              std       skew    kurtosis  \n",
       "0   367695.528337   4.030098   34.636551  \n",
       "1        0.902992   0.551302    1.810539  \n",
       "2        0.768716   0.518832    1.290747  \n",
       "3      918.802962   1.472629    5.257856  \n",
       "4    41530.750002  13.055961  284.487217  \n",
       "5        0.540070   0.608717   -0.497183  \n",
       "6        0.086903  11.332721  126.442371  \n",
       "7        0.767164   3.387119   10.832393  \n",
       "8        0.649945   1.039544    0.511475  \n",
       "9        1.171962   0.787669    1.133372  \n",
       "10     828.677069   1.444958    3.398252  \n",
       "11     442.871129   1.575877    2.708327  \n",
       "12      29.386679  -0.474322   -0.654550  \n",
       "13     402.574209   4.537493   18.592097  \n",
       "14      53.477204   0.407847   -0.850243  \n",
       "15     685.522295   1.104483    1.587888  \n",
       "16   27345.566191   9.512840  150.949988  "
      ]
     },
     "execution_count": 118,
     "metadata": {},
     "output_type": "execute_result"
    }
   ],
   "source": [
    "df_numerical = create_descriptive_statistics_table(df1, ['id', 'lat', 'long'])\n",
    "df_numerical"
   ]
  },
  {
   "cell_type": "markdown",
   "metadata": {},
   "source": [
    "### 1.3.5. Ajuste de Tipos"
   ]
  },
  {
   "cell_type": "code",
   "execution_count": 119,
   "metadata": {},
   "outputs": [
    {
     "data": {
      "text/plain": [
       "id                        int64\n",
       "date             datetime64[ns]\n",
       "price                   float64\n",
       "bedrooms                  int64\n",
       "bathrooms               float64\n",
       "sqft_living               int64\n",
       "sqft_lot                  int64\n",
       "floors                  float64\n",
       "waterfront                int64\n",
       "view                      int64\n",
       "condition                 int64\n",
       "grade                     int64\n",
       "sqft_above                int64\n",
       "sqft_basement             int64\n",
       "yr_built                  int64\n",
       "yr_renovated              int64\n",
       "zipcode                   int64\n",
       "lat                     float64\n",
       "long                    float64\n",
       "sqft_living15             int64\n",
       "sqft_lot15                int64\n",
       "dtype: object"
      ]
     },
     "execution_count": 119,
     "metadata": {},
     "output_type": "execute_result"
    }
   ],
   "source": [
    "df1['date'] = pd.to_datetime(df1['date'])\n",
    "df1.dtypes"
   ]
  },
  {
   "cell_type": "code",
   "execution_count": 120,
   "metadata": {},
   "outputs": [
    {
     "data": {
      "text/html": [
       "<div>\n",
       "<style scoped>\n",
       "    .dataframe tbody tr th:only-of-type {\n",
       "        vertical-align: middle;\n",
       "    }\n",
       "\n",
       "    .dataframe tbody tr th {\n",
       "        vertical-align: top;\n",
       "    }\n",
       "\n",
       "    .dataframe thead th {\n",
       "        text-align: right;\n",
       "    }\n",
       "</style>\n",
       "<table border=\"1\" class=\"dataframe\">\n",
       "  <thead>\n",
       "    <tr style=\"text-align: right;\">\n",
       "      <th></th>\n",
       "      <th>id</th>\n",
       "      <th>date</th>\n",
       "      <th>price</th>\n",
       "      <th>bedrooms</th>\n",
       "      <th>bathrooms</th>\n",
       "      <th>sqft_living</th>\n",
       "      <th>sqft_lot</th>\n",
       "      <th>floors</th>\n",
       "      <th>waterfront</th>\n",
       "      <th>view</th>\n",
       "      <th>...</th>\n",
       "      <th>grade</th>\n",
       "      <th>sqft_above</th>\n",
       "      <th>sqft_basement</th>\n",
       "      <th>yr_built</th>\n",
       "      <th>yr_renovated</th>\n",
       "      <th>zipcode</th>\n",
       "      <th>lat</th>\n",
       "      <th>long</th>\n",
       "      <th>sqft_living15</th>\n",
       "      <th>sqft_lot15</th>\n",
       "    </tr>\n",
       "  </thead>\n",
       "  <tbody>\n",
       "    <tr>\n",
       "      <th>0</th>\n",
       "      <td>7129300520</td>\n",
       "      <td>2014-10-13</td>\n",
       "      <td>221900.0</td>\n",
       "      <td>3</td>\n",
       "      <td>1.00</td>\n",
       "      <td>1180</td>\n",
       "      <td>5650</td>\n",
       "      <td>1.0</td>\n",
       "      <td>0</td>\n",
       "      <td>0</td>\n",
       "      <td>...</td>\n",
       "      <td>7</td>\n",
       "      <td>1180</td>\n",
       "      <td>0</td>\n",
       "      <td>1955</td>\n",
       "      <td>0</td>\n",
       "      <td>98178</td>\n",
       "      <td>47.5112</td>\n",
       "      <td>-122.257</td>\n",
       "      <td>1340</td>\n",
       "      <td>5650</td>\n",
       "    </tr>\n",
       "    <tr>\n",
       "      <th>1</th>\n",
       "      <td>6414100192</td>\n",
       "      <td>2014-12-09</td>\n",
       "      <td>538000.0</td>\n",
       "      <td>3</td>\n",
       "      <td>2.25</td>\n",
       "      <td>2570</td>\n",
       "      <td>7242</td>\n",
       "      <td>2.0</td>\n",
       "      <td>0</td>\n",
       "      <td>0</td>\n",
       "      <td>...</td>\n",
       "      <td>7</td>\n",
       "      <td>2170</td>\n",
       "      <td>400</td>\n",
       "      <td>1951</td>\n",
       "      <td>1991</td>\n",
       "      <td>98125</td>\n",
       "      <td>47.7210</td>\n",
       "      <td>-122.319</td>\n",
       "      <td>1690</td>\n",
       "      <td>7639</td>\n",
       "    </tr>\n",
       "    <tr>\n",
       "      <th>2</th>\n",
       "      <td>5631500400</td>\n",
       "      <td>2015-02-25</td>\n",
       "      <td>180000.0</td>\n",
       "      <td>2</td>\n",
       "      <td>1.00</td>\n",
       "      <td>770</td>\n",
       "      <td>10000</td>\n",
       "      <td>1.0</td>\n",
       "      <td>0</td>\n",
       "      <td>0</td>\n",
       "      <td>...</td>\n",
       "      <td>6</td>\n",
       "      <td>770</td>\n",
       "      <td>0</td>\n",
       "      <td>1933</td>\n",
       "      <td>0</td>\n",
       "      <td>98028</td>\n",
       "      <td>47.7379</td>\n",
       "      <td>-122.233</td>\n",
       "      <td>2720</td>\n",
       "      <td>8062</td>\n",
       "    </tr>\n",
       "    <tr>\n",
       "      <th>3</th>\n",
       "      <td>2487200875</td>\n",
       "      <td>2014-12-09</td>\n",
       "      <td>604000.0</td>\n",
       "      <td>4</td>\n",
       "      <td>3.00</td>\n",
       "      <td>1960</td>\n",
       "      <td>5000</td>\n",
       "      <td>1.0</td>\n",
       "      <td>0</td>\n",
       "      <td>0</td>\n",
       "      <td>...</td>\n",
       "      <td>7</td>\n",
       "      <td>1050</td>\n",
       "      <td>910</td>\n",
       "      <td>1965</td>\n",
       "      <td>0</td>\n",
       "      <td>98136</td>\n",
       "      <td>47.5208</td>\n",
       "      <td>-122.393</td>\n",
       "      <td>1360</td>\n",
       "      <td>5000</td>\n",
       "    </tr>\n",
       "    <tr>\n",
       "      <th>4</th>\n",
       "      <td>1954400510</td>\n",
       "      <td>2015-02-18</td>\n",
       "      <td>510000.0</td>\n",
       "      <td>3</td>\n",
       "      <td>2.00</td>\n",
       "      <td>1680</td>\n",
       "      <td>8080</td>\n",
       "      <td>1.0</td>\n",
       "      <td>0</td>\n",
       "      <td>0</td>\n",
       "      <td>...</td>\n",
       "      <td>8</td>\n",
       "      <td>1680</td>\n",
       "      <td>0</td>\n",
       "      <td>1987</td>\n",
       "      <td>0</td>\n",
       "      <td>98074</td>\n",
       "      <td>47.6168</td>\n",
       "      <td>-122.045</td>\n",
       "      <td>1800</td>\n",
       "      <td>7503</td>\n",
       "    </tr>\n",
       "  </tbody>\n",
       "</table>\n",
       "<p>5 rows × 21 columns</p>\n",
       "</div>"
      ],
      "text/plain": [
       "           id       date     price  bedrooms  bathrooms  sqft_living  \\\n",
       "0  7129300520 2014-10-13  221900.0         3       1.00         1180   \n",
       "1  6414100192 2014-12-09  538000.0         3       2.25         2570   \n",
       "2  5631500400 2015-02-25  180000.0         2       1.00          770   \n",
       "3  2487200875 2014-12-09  604000.0         4       3.00         1960   \n",
       "4  1954400510 2015-02-18  510000.0         3       2.00         1680   \n",
       "\n",
       "   sqft_lot  floors  waterfront  view  ...  grade  sqft_above  sqft_basement  \\\n",
       "0      5650     1.0           0     0  ...      7        1180              0   \n",
       "1      7242     2.0           0     0  ...      7        2170            400   \n",
       "2     10000     1.0           0     0  ...      6         770              0   \n",
       "3      5000     1.0           0     0  ...      7        1050            910   \n",
       "4      8080     1.0           0     0  ...      8        1680              0   \n",
       "\n",
       "   yr_built  yr_renovated  zipcode      lat     long  sqft_living15  \\\n",
       "0      1955             0    98178  47.5112 -122.257           1340   \n",
       "1      1951          1991    98125  47.7210 -122.319           1690   \n",
       "2      1933             0    98028  47.7379 -122.233           2720   \n",
       "3      1965             0    98136  47.5208 -122.393           1360   \n",
       "4      1987             0    98074  47.6168 -122.045           1800   \n",
       "\n",
       "   sqft_lot15  \n",
       "0        5650  \n",
       "1        7639  \n",
       "2        8062  \n",
       "3        5000  \n",
       "4        7503  \n",
       "\n",
       "[5 rows x 21 columns]"
      ]
     },
     "execution_count": 120,
     "metadata": {},
     "output_type": "execute_result"
    }
   ],
   "source": [
    "df1.head()"
   ]
  },
  {
   "cell_type": "markdown",
   "metadata": {},
   "source": [
    "## 1.4. Exploração dos Dados"
   ]
  },
  {
   "cell_type": "markdown",
   "metadata": {},
   "source": [
    "### 1.4.1. Hipóteses"
   ]
  },
  {
   "cell_type": "markdown",
   "metadata": {},
   "source": [
    "#### H1: Imóveis que possuem vista para água, são 30% mais caros, na média."
   ]
  },
  {
   "cell_type": "code",
   "execution_count": 121,
   "metadata": {},
   "outputs": [
    {
     "data": {
      "text/html": [
       "<div>\n",
       "<style scoped>\n",
       "    .dataframe tbody tr th:only-of-type {\n",
       "        vertical-align: middle;\n",
       "    }\n",
       "\n",
       "    .dataframe tbody tr th {\n",
       "        vertical-align: top;\n",
       "    }\n",
       "\n",
       "    .dataframe thead th {\n",
       "        text-align: right;\n",
       "    }\n",
       "</style>\n",
       "<table border=\"1\" class=\"dataframe\">\n",
       "  <thead>\n",
       "    <tr style=\"text-align: right;\">\n",
       "      <th></th>\n",
       "      <th>waterfront</th>\n",
       "      <th>mean_price</th>\n",
       "    </tr>\n",
       "  </thead>\n",
       "  <tbody>\n",
       "    <tr>\n",
       "      <th>0</th>\n",
       "      <td>Yes</td>\n",
       "      <td>1661876.02</td>\n",
       "    </tr>\n",
       "    <tr>\n",
       "      <th>1</th>\n",
       "      <td>No</td>\n",
       "      <td>532042.60</td>\n",
       "    </tr>\n",
       "  </tbody>\n",
       "</table>\n",
       "</div>"
      ],
      "text/plain": [
       "  waterfront  mean_price\n",
       "0        Yes  1661876.02\n",
       "1         No   532042.60"
      ]
     },
     "execution_count": 121,
     "metadata": {},
     "output_type": "execute_result"
    }
   ],
   "source": [
    "df_grouped_waterfront = df1.loc[:, ['waterfront', 'price']].groupby('waterfront').agg(\n",
    "    mean_price = pd.NamedAgg('price', 'mean')\n",
    ")\n",
    "\n",
    "df_grouped_waterfront = df_grouped_waterfront.sort_values('mean_price', ascending=False).reset_index()\n",
    "\n",
    "df_grouped_waterfront['mean_price'] = df_grouped_waterfront['mean_price'].apply(lambda x: float(f'{x:.2f}') )\n",
    "df_grouped_waterfront['waterfront'] = df_grouped_waterfront['waterfront'].apply(lambda x: 'Yes' if x == 1 else 'No')\n",
    "\n",
    "df_grouped_waterfront"
   ]
  },
  {
   "cell_type": "code",
   "execution_count": 122,
   "metadata": {},
   "outputs": [
    {
     "name": "stdout",
     "output_type": "stream",
     "text": [
      "Os imóveis com vista para a água são 212.36% mais caros que os imóveis sem vista para a água\n"
     ]
    }
   ],
   "source": [
    "with_view = df_grouped_waterfront.iloc[0, 1]\n",
    "with_no_view = df_grouped_waterfront.iloc[1, 1]\n",
    "\n",
    "print(f'Os imóveis com vista para a água são { round( ((with_view * 100) / with_no_view) - 100, 2)}% mais caros que os imóveis sem vista para a água')"
   ]
  },
  {
   "cell_type": "code",
   "execution_count": 123,
   "metadata": {},
   "outputs": [
    {
     "data": {
      "image/png": "[encoded data removed]",
      "text/plain": [
       "<Figure size 1200x800 with 1 Axes>"
      ]
     },
     "metadata": {},
     "output_type": "display_data"
    }
   ],
   "source": [
    "from typing import Container\n",
    "\n",
    "\n",
    "ax = sns.barplot(\n",
    "    data = df_grouped_waterfront,\n",
    "    x = 'waterfront',\n",
    "    y = 'mean_price',\n",
    ")\n",
    "\n",
    "ax = ax.set(\n",
    "    xlabel = 'Vista para a água?',\n",
    "    ylabel = 'Preço Médio',\n",
    "    title = 'Preço médio dos imóveis com vista para a água'\n",
    ")"
   ]
  },
  {
   "cell_type": "markdown",
   "metadata": {},
   "source": [
    "**Hipótese Verdadeira**. Como podemos observar, os imóveis que possuem vista para a água são mais de 30% mais caros que os imóveis que possuem vista para a água."
   ]
  },
  {
   "cell_type": "markdown",
   "metadata": {},
   "source": [
    "#### H2: Imóveis com data de construção menor que 1955, são 50% mais baratos, na média."
   ]
  },
  {
   "cell_type": "code",
   "execution_count": 124,
   "metadata": {},
   "outputs": [
    {
     "name": "stdout",
     "output_type": "stream",
     "text": [
      "O valor da média do preço das casas construídas antes de 1955 é de $ 538290.06\n",
      "O valor da média do preço das casas construídas depois de 1955 é de $ 540640.70\n",
      "Os imóveis construídos antes de 1955 são 0.43% mais baratos\n"
     ]
    }
   ],
   "source": [
    "df_year_before = df1.loc[df1['yr_built'] < 1955, :]\n",
    "df_year_after = df1.loc[~df1['yr_built'] < 1955, :]\n",
    "\n",
    "year_before_price_mean = df_year_before.loc[:, 'price'].mean()\n",
    "year_after_price_mean = df_year_after.loc[:, 'price'].mean()\n",
    "\n",
    "print(f'O valor da média do preço das casas construídas antes de 1955 é de $ {year_before_price_mean:.2f}')\n",
    "print(f'O valor da média do preço das casas construídas depois de 1955 é de $ {year_after_price_mean:.2f}')\n",
    "print(f'Os imóveis construídos antes de 1955 são {round( 100 - ( ( year_before_price_mean * 100) / year_after_price_mean ), 2)}% mais baratos')"
   ]
  },
  {
   "cell_type": "code",
   "execution_count": 125,
   "metadata": {},
   "outputs": [
    {
     "data": {
      "image/png": "[encoded data removed]",
      "text/plain": [
       "<Figure size 1200x800 with 1 Axes>"
      ]
     },
     "metadata": {},
     "output_type": "display_data"
    }
   ],
   "source": [
    "df_construction = pd.DataFrame([\n",
    "    {'year_contruction_range': 'before_1955', 'mean_price': year_before_price_mean},\n",
    "    {'year_contruction_range': 'after_1955', 'mean_price': year_after_price_mean},\n",
    "])\n",
    "\n",
    "ax = sns.barplot(\n",
    "    data = df_construction,\n",
    "    x = 'year_contruction_range',\n",
    "    y = 'mean_price',\n",
    ")\n",
    "\n",
    "ax = ax.set(\n",
    "    xlabel = 'Faixa de Construção',\n",
    "    ylabel = 'Preço Médio',\n",
    "    title = 'Preço médio dos imóveis construídos antes e depois de 1955'\n",
    ")"
   ]
  },
  {
   "cell_type": "markdown",
   "metadata": {},
   "source": [
    "**Hipótese Falsa**: Como podemos observar, os imóveis construídos antes de 1955 não são 50% mais baratos que os imóveis construídos depois de 1955."
   ]
  },
  {
   "cell_type": "markdown",
   "metadata": {},
   "source": [
    "#### H3: Imóveis sem porão são 50% maiores, na média, do que os imóveis com porão."
   ]
  },
  {
   "cell_type": "code",
   "execution_count": 126,
   "metadata": {},
   "outputs": [
    {
     "name": "stdout",
     "output_type": "stream",
     "text": [
      "O tamanho médio dos terrenos com porão é de 13296.86 pés quadrados\n",
      "O tamanho médio dos terrenos sem porão é de 16314.87 pés quadrados\n",
      "Os imóveis com porão são 18.5% maiores que os imóveis sem porão\n"
     ]
    }
   ],
   "source": [
    "df_has_basement = df1.loc[df1['sqft_basement'] > 0, :]\n",
    "df_no_basement = df1.loc[df1['sqft_basement'] <= 0, :]\n",
    "\n",
    "sqft_lot_with_basement_mean = df_has_basement.loc[:, 'sqft_lot'].mean()\n",
    "sqft_lot_no_basement_mean = df_no_basement.loc[:, 'sqft_lot'].mean()\n",
    "\n",
    "print(f'O tamanho médio dos terrenos com porão é de {sqft_lot_with_basement_mean:.2f} pés quadrados')\n",
    "print(f'O tamanho médio dos terrenos sem porão é de {sqft_lot_no_basement_mean:.2f} pés quadrados')\n",
    "print(f'Os imóveis com porão são {round( 100 - ( ( sqft_lot_with_basement_mean * 100) / sqft_lot_no_basement_mean ), 2)}% maiores que os imóveis sem porão')"
   ]
  },
  {
   "cell_type": "code",
   "execution_count": 127,
   "metadata": {},
   "outputs": [
    {
     "data": {
      "image/png": "[encoded data removed]",
      "text/plain": [
       "<Figure size 1200x800 with 1 Axes>"
      ]
     },
     "metadata": {},
     "output_type": "display_data"
    }
   ],
   "source": [
    "df_basement = pd.DataFrame([\n",
    "    {'with_basement': 'Yes', 'mean_size': sqft_lot_with_basement_mean},\n",
    "    {'with_basement': 'No', 'mean_size': sqft_lot_no_basement_mean},\n",
    "])\n",
    "\n",
    "ax = sns.barplot(\n",
    "    data = df_basement,\n",
    "    x = 'with_basement',\n",
    "    y = 'mean_size',\n",
    ")\n",
    "\n",
    "ax = ax.set(\n",
    "    xlabel = 'Possui Porão',\n",
    "    ylabel = 'Tamanho Médio do Terreno (em pés quadrados)',\n",
    "    title = 'Tamanho Médio dos terrenos que possuem e não possuem porão'\n",
    ")"
   ]
  },
  {
   "cell_type": "markdown",
   "metadata": {},
   "source": [
    "**HIPÓTESE FALSA**: Como podemos observar, os terrenos que não possuem porão não são 50% maiores que os terrenos que possuem porão."
   ]
  },
  {
   "cell_type": "markdown",
   "metadata": {},
   "source": [
    "#### H4: O crescimento do preço médio dos imóveis YoY ( Year over Year ) é de 10%"
   ]
  },
  {
   "cell_type": "code",
   "execution_count": 128,
   "metadata": {},
   "outputs": [
    {
     "data": {
      "text/html": [
       "<div>\n",
       "<style scoped>\n",
       "    .dataframe tbody tr th:only-of-type {\n",
       "        vertical-align: middle;\n",
       "    }\n",
       "\n",
       "    .dataframe tbody tr th {\n",
       "        vertical-align: top;\n",
       "    }\n",
       "\n",
       "    .dataframe thead th {\n",
       "        text-align: right;\n",
       "    }\n",
       "</style>\n",
       "<table border=\"1\" class=\"dataframe\">\n",
       "  <thead>\n",
       "    <tr style=\"text-align: right;\">\n",
       "      <th></th>\n",
       "      <th>year_sell</th>\n",
       "      <th>mean_price</th>\n",
       "      <th>growth</th>\n",
       "    </tr>\n",
       "  </thead>\n",
       "  <tbody>\n",
       "    <tr>\n",
       "      <th>0</th>\n",
       "      <td>2014</td>\n",
       "      <td>539385.88</td>\n",
       "      <td>0.00</td>\n",
       "    </tr>\n",
       "    <tr>\n",
       "      <th>1</th>\n",
       "      <td>2015</td>\n",
       "      <td>543319.88</td>\n",
       "      <td>0.73</td>\n",
       "    </tr>\n",
       "  </tbody>\n",
       "</table>\n",
       "</div>"
      ],
      "text/plain": [
       "   year_sell  mean_price  growth\n",
       "0       2014   539385.88    0.00\n",
       "1       2015   543319.88    0.73"
      ]
     },
     "execution_count": 128,
     "metadata": {},
     "output_type": "execute_result"
    }
   ],
   "source": [
    "df_aux = df1.copy()\n",
    "\n",
    "df_aux['year_sell'] = df_aux['date'].dt.year\n",
    "\n",
    "df_year_grouped = df_aux.loc[ :, ['year_sell', 'price'] ].groupby('year_sell').agg(\n",
    "    mean_price = pd.NamedAgg('price', 'mean')\n",
    ")\n",
    "\n",
    "df_year_grouped = df_year_grouped.sort_values('year_sell').reset_index()\n",
    "\n",
    "df_year_grouped['mean_price'] = df_year_grouped['mean_price'].apply(lambda x: float(f'{x:.2f}') )\n",
    "\n",
    "initial_price = df_year_grouped.iloc[0,1]\n",
    "\n",
    "df_year_grouped['growth'] = df_year_grouped['mean_price'].apply(lambda x: round( ( ((x * 100) / initial_price) - 100), 2) )\n",
    "\n",
    "df_year_grouped"
   ]
  },
  {
   "cell_type": "code",
   "execution_count": 129,
   "metadata": {},
   "outputs": [
    {
     "data": {
      "image/png": "[encoded data removed]",
      "text/plain": [
       "<Figure size 1200x800 with 1 Axes>"
      ]
     },
     "metadata": {},
     "output_type": "display_data"
    }
   ],
   "source": [
    "ax = sns.barplot(\n",
    "    data = df_year_grouped,\n",
    "    x = 'year_sell',\n",
    "    y = 'mean_price',\n",
    ")\n",
    "\n",
    "ax = ax.set(\n",
    "    xlabel = 'Ano de Venda',\n",
    "    ylabel = 'Valor Média de venda Anual',\n",
    "    title = 'Valor de Venda Anual Média dos imóveis'\n",
    ")"
   ]
  },
  {
   "cell_type": "markdown",
   "metadata": {},
   "source": [
    "**Hipótese Falsa**: O crescimento do preço médio YoY não é de 10%"
   ]
  },
  {
   "cell_type": "markdown",
   "metadata": {},
   "source": [
    "#### H5: Imóveis com 3 banheiros tem um crescimento MoM ( Month over Month ) de 15%"
   ]
  },
  {
   "cell_type": "code",
   "execution_count": 130,
   "metadata": {},
   "outputs": [
    {
     "data": {
      "text/html": [
       "<div>\n",
       "<style scoped>\n",
       "    .dataframe tbody tr th:only-of-type {\n",
       "        vertical-align: middle;\n",
       "    }\n",
       "\n",
       "    .dataframe tbody tr th {\n",
       "        vertical-align: top;\n",
       "    }\n",
       "\n",
       "    .dataframe thead th {\n",
       "        text-align: right;\n",
       "    }\n",
       "</style>\n",
       "<table border=\"1\" class=\"dataframe\">\n",
       "  <thead>\n",
       "    <tr style=\"text-align: right;\">\n",
       "      <th></th>\n",
       "      <th>period</th>\n",
       "      <th>mean_price</th>\n",
       "      <th>growth</th>\n",
       "    </tr>\n",
       "  </thead>\n",
       "  <tbody>\n",
       "    <tr>\n",
       "      <th>0</th>\n",
       "      <td>2014-05</td>\n",
       "      <td>690080.71</td>\n",
       "      <td>0.00</td>\n",
       "    </tr>\n",
       "    <tr>\n",
       "      <th>1</th>\n",
       "      <td>2014-06</td>\n",
       "      <td>775057.56</td>\n",
       "      <td>12.31</td>\n",
       "    </tr>\n",
       "    <tr>\n",
       "      <th>2</th>\n",
       "      <td>2014-07</td>\n",
       "      <td>741405.04</td>\n",
       "      <td>7.44</td>\n",
       "    </tr>\n",
       "    <tr>\n",
       "      <th>3</th>\n",
       "      <td>2014-08</td>\n",
       "      <td>737576.56</td>\n",
       "      <td>6.88</td>\n",
       "    </tr>\n",
       "    <tr>\n",
       "      <th>4</th>\n",
       "      <td>2014-09</td>\n",
       "      <td>645246.89</td>\n",
       "      <td>-6.50</td>\n",
       "    </tr>\n",
       "    <tr>\n",
       "      <th>5</th>\n",
       "      <td>2014-10</td>\n",
       "      <td>645523.02</td>\n",
       "      <td>-6.46</td>\n",
       "    </tr>\n",
       "    <tr>\n",
       "      <th>6</th>\n",
       "      <td>2014-11</td>\n",
       "      <td>679910.47</td>\n",
       "      <td>-1.47</td>\n",
       "    </tr>\n",
       "    <tr>\n",
       "      <th>7</th>\n",
       "      <td>2014-12</td>\n",
       "      <td>728341.19</td>\n",
       "      <td>5.54</td>\n",
       "    </tr>\n",
       "    <tr>\n",
       "      <th>8</th>\n",
       "      <td>2015-01</td>\n",
       "      <td>668746.25</td>\n",
       "      <td>-3.09</td>\n",
       "    </tr>\n",
       "    <tr>\n",
       "      <th>9</th>\n",
       "      <td>2015-02</td>\n",
       "      <td>676910.44</td>\n",
       "      <td>-1.91</td>\n",
       "    </tr>\n",
       "    <tr>\n",
       "      <th>10</th>\n",
       "      <td>2015-03</td>\n",
       "      <td>769838.14</td>\n",
       "      <td>11.56</td>\n",
       "    </tr>\n",
       "    <tr>\n",
       "      <th>11</th>\n",
       "      <td>2015-04</td>\n",
       "      <td>714629.99</td>\n",
       "      <td>3.56</td>\n",
       "    </tr>\n",
       "    <tr>\n",
       "      <th>12</th>\n",
       "      <td>2015-05</td>\n",
       "      <td>689581.00</td>\n",
       "      <td>-0.07</td>\n",
       "    </tr>\n",
       "  </tbody>\n",
       "</table>\n",
       "</div>"
      ],
      "text/plain": [
       "     period  mean_price  growth\n",
       "0   2014-05   690080.71    0.00\n",
       "1   2014-06   775057.56   12.31\n",
       "2   2014-07   741405.04    7.44\n",
       "3   2014-08   737576.56    6.88\n",
       "4   2014-09   645246.89   -6.50\n",
       "5   2014-10   645523.02   -6.46\n",
       "6   2014-11   679910.47   -1.47\n",
       "7   2014-12   728341.19    5.54\n",
       "8   2015-01   668746.25   -3.09\n",
       "9   2015-02   676910.44   -1.91\n",
       "10  2015-03   769838.14   11.56\n",
       "11  2015-04   714629.99    3.56\n",
       "12  2015-05   689581.00   -0.07"
      ]
     },
     "execution_count": 130,
     "metadata": {},
     "output_type": "execute_result"
    }
   ],
   "source": [
    "df_aux = df1.copy()\n",
    "\n",
    "df_aux = df_aux.loc[df1['bathrooms'] == 3, :]\n",
    "\n",
    "df_aux['period'] = df_aux['date'].dt.to_period(\"M\")\n",
    "\n",
    "df_year_grouped = df_aux.loc[ :, ['period', 'price'] ].groupby('period').agg(\n",
    "    mean_price = pd.NamedAgg('price', 'mean')\n",
    ")\n",
    "\n",
    "df_year_grouped = df_year_grouped.sort_values('period').reset_index()\n",
    "\n",
    "df_year_grouped['mean_price'] = df_year_grouped['mean_price'].apply(lambda x: float(f'{x:.2f}') )\n",
    "\n",
    "initial_price = df_year_grouped.iloc[0,1]\n",
    "\n",
    "df_year_grouped['growth'] = df_year_grouped['mean_price'].apply(lambda x: round( ( ((x * 100) / initial_price) - 100), 2) )\n",
    "\n",
    "df_year_grouped"
   ]
  },
  {
   "cell_type": "code",
   "execution_count": 131,
   "metadata": {},
   "outputs": [
    {
     "data": {
      "image/png": "[encoded data removed]",
      "text/plain": [
       "<Figure size 1200x800 with 1 Axes>"
      ]
     },
     "metadata": {},
     "output_type": "display_data"
    }
   ],
   "source": [
    "ax = sns.barplot(\n",
    "    data = df_year_grouped,\n",
    "    x = 'period',\n",
    "    y = 'mean_price',\n",
    ")\n",
    "\n",
    "ax = ax.set(\n",
    "    xlabel = 'Mês da Venda',\n",
    "    ylabel = 'Valor Médio da Venda',\n",
    "    title = 'Valor de Venda Médio por Mês'\n",
    ")"
   ]
  },
  {
   "cell_type": "code",
   "execution_count": 132,
   "metadata": {},
   "outputs": [
    {
     "data": {
      "image/png": "[encoded data removed]",
      "text/plain": [
       "<Figure size 1200x800 with 1 Axes>"
      ]
     },
     "metadata": {},
     "output_type": "display_data"
    }
   ],
   "source": [
    "ax = sns.barplot(\n",
    "    data = df_year_grouped,\n",
    "    x = 'period',\n",
    "    y = 'growth',\n",
    ")\n",
    "\n",
    "ax = ax.set(\n",
    "    xlabel = 'Mês da Venda',\n",
    "    ylabel = 'Porcentagem de Crescimento',\n",
    "    title = 'Porcentagem de crescimento do valor de venda médio por Mês'\n",
    ")"
   ]
  },
  {
   "cell_type": "markdown",
   "metadata": {},
   "source": [
    "**Hipótese Falsa**: O percentual de crescimento mensal do valor de venda nunca atingiu 15%"
   ]
  },
  {
   "cell_type": "markdown",
   "metadata": {},
   "source": [
    "#### H6: Imóveis com porão são mais caros, em média, do que imóveis sem porão"
   ]
  },
  {
   "cell_type": "code",
   "execution_count": 133,
   "metadata": {},
   "outputs": [
    {
     "name": "stdout",
     "output_type": "stream",
     "text": [
      "Imóveis com porão tem um preço médio de $ 622602.34\n",
      "Imóveis sem porão tem um preço médio de $ 487550.70\n",
      "Os imóveis com porão são 21.69% mais caros que os imóveis sem porão\n"
     ]
    }
   ],
   "source": [
    "df_has_basement = df1.loc[df1['sqft_basement'] > 0, :]\n",
    "df_no_basement = df1.loc[df1['sqft_basement'] <= 0, :]\n",
    "\n",
    "apt_with_basement_mean = df_has_basement.loc[:, 'price'].mean()\n",
    "apt_no_basement_mean = df_no_basement.loc[:, 'price'].mean()\n",
    "\n",
    "print(f'Imóveis com porão tem um preço médio de $ {apt_with_basement_mean:.2f}')\n",
    "print(f'Imóveis sem porão tem um preço médio de $ {apt_no_basement_mean:.2f}')\n",
    "print(f'Os imóveis com porão são {round( 100 - ( ( apt_no_basement_mean * 100) / apt_with_basement_mean ), 2)}% mais caros que os imóveis sem porão')"
   ]
  },
  {
   "cell_type": "code",
   "execution_count": 134,
   "metadata": {},
   "outputs": [
    {
     "data": {
      "image/png": "[encoded data removed]",
      "text/plain": [
       "<Figure size 1200x800 with 1 Axes>"
      ]
     },
     "metadata": {},
     "output_type": "display_data"
    }
   ],
   "source": [
    "df_basement = pd.DataFrame([\n",
    "    {'with_basement': 'Yes', 'mean_price': apt_with_basement_mean},\n",
    "    {'with_basement': 'No', 'mean_price': apt_no_basement_mean},\n",
    "])\n",
    "\n",
    "ax = sns.barplot(\n",
    "    data = df_basement,\n",
    "    x = 'with_basement',\n",
    "    y = 'mean_price',\n",
    ")\n",
    "\n",
    "ax = ax.set(\n",
    "    xlabel = 'Possui Porão',\n",
    "    ylabel = 'Preço Médio',\n",
    "    title = 'Preço Médio dos terrenos que possuem e não possuem porão'\n",
    ")"
   ]
  },
  {
   "cell_type": "markdown",
   "metadata": {},
   "source": [
    "**hipótese Verdadeira**: Como podemos observar, os imóveis com porão possuem um preço médio maior que os imóveis sem porão"
   ]
  },
  {
   "cell_type": "markdown",
   "metadata": {},
   "source": [
    "#### H7: Imóveis reformados a partir do ano 2000 são, em média, 30% mais caros"
   ]
  },
  {
   "cell_type": "code",
   "execution_count": 135,
   "metadata": {},
   "outputs": [
    {
     "name": "stdout",
     "output_type": "stream",
     "text": [
      "Imóveis que fora renovados a partir do ano 2000 possuem o preço médio de $ 817406.37\n",
      "Imóveis que fora renovados antes do ano 2000 possuem o preço médio de $ 534593.35\n",
      "Os imóveis renovados a partir do ano 200 são 34.6% mais caros\n"
     ]
    }
   ],
   "source": [
    "df_renovated_before_2000 = df1.loc[ ~(df1['yr_renovated'] >= 2000), : ]\n",
    "df_renovated_after_2000 = df1.loc[ df1['yr_renovated'] >= 2000, : ]\n",
    "\n",
    "mean_price_renovated_after_2000 = df_renovated_after_2000.loc[:, 'price'].mean()\n",
    "mean_price_renovated_before_2000 = df_renovated_before_2000.loc[:, 'price'].mean()\n",
    "\n",
    "print(f'Imóveis que fora renovados a partir do ano 2000 possuem o preço médio de $ {mean_price_renovated_after_2000:.2f}')\n",
    "print(f'Imóveis que fora renovados antes do ano 2000 possuem o preço médio de $ {mean_price_renovated_before_2000:.2f}')\n",
    "print(f'Os imóveis renovados a partir do ano 200 são {round( 100 - ( ( mean_price_renovated_before_2000 * 100) / mean_price_renovated_after_2000 ), 2)}% mais caros')"
   ]
  },
  {
   "cell_type": "code",
   "execution_count": 136,
   "metadata": {},
   "outputs": [
    {
     "data": {
      "image/png": "[encoded data removed]",
      "text/plain": [
       "<Figure size 1200x800 with 1 Axes>"
      ]
     },
     "metadata": {},
     "output_type": "display_data"
    }
   ],
   "source": [
    "df_renovated = pd.DataFrame([\n",
    "    {'renovated': 'Yes', 'mean_price': mean_price_renovated_after_2000},\n",
    "    {'renovated': 'No', 'mean_price': mean_price_renovated_before_2000},\n",
    "])\n",
    "\n",
    "ax = sns.barplot(\n",
    "    data = df_renovated,\n",
    "    x = 'renovated',\n",
    "    y = 'mean_price',\n",
    ")\n",
    "\n",
    "ax = ax.set(\n",
    "    xlabel = 'Renovado a partir do ano 2000',\n",
    "    ylabel = 'Preço Médio',\n",
    "    title = 'Preço Médio dos imóveis renovados a partir do ano 2000',\n",
    ")"
   ]
  },
  {
   "cell_type": "markdown",
   "metadata": {},
   "source": [
    "**Hipótese Verdadeira**: Os imóveis reformados a partir do ano 2000 são, em média, mais caros que o imóveis reformados anteriormente"
   ]
  },
  {
   "cell_type": "markdown",
   "metadata": {},
   "source": [
    "#### H8: Pelo menos 80% dos imóveis com vista para água possuem nível de construção 10 ou mais."
   ]
  },
  {
   "cell_type": "code",
   "execution_count": 137,
   "metadata": {},
   "outputs": [
    {
     "name": "stdout",
     "output_type": "stream",
     "text": [
      "Os imóveis que possuem nível de construção 10 ou mais representam 36.2% dentre os imóveis com vista para a água\n"
     ]
    }
   ],
   "source": [
    "df_waterfront = df1.loc[ df1['waterfront'] == 1, : ]\n",
    "\n",
    "qty_houses = df_waterfront.shape[0]\n",
    "\n",
    "qty_good_construction = df_waterfront.loc[ df_waterfront['grade'] >= 10, 'id' ].count()\n",
    "qty_bad_construction = df_waterfront.loc[ df_waterfront['grade'] < 10, 'id' ].count()\n",
    "\n",
    "percent_good_construction = round((qty_good_construction / qty_houses * 100), 2)\n",
    "percent_bad_construction = round((qty_bad_construction / qty_houses * 100), 2)\n",
    "\n",
    "print(f'Os imóveis que possuem nível de construção 10 ou mais representam {percent_good_construction}% dentre os imóveis com vista para a água')"
   ]
  },
  {
   "cell_type": "code",
   "execution_count": 138,
   "metadata": {},
   "outputs": [
    {
     "data": {
      "image/png": "[encoded data removed]",
      "text/plain": [
       "<Figure size 1200x800 with 1 Axes>"
      ]
     },
     "metadata": {},
     "output_type": "display_data"
    }
   ],
   "source": [
    "df_renovated = pd.DataFrame([\n",
    "    {'10_more': 'Yes', 'percent': percent_good_construction},\n",
    "    {'10_more': 'No', 'percent': percent_bad_construction},\n",
    "])\n",
    "\n",
    "ax = sns.barplot(\n",
    "    data = df_renovated,\n",
    "    x = '10_more',\n",
    "    y = 'percent',\n",
    ")\n",
    "\n",
    "ax = ax.set(\n",
    "    xlabel = 'Nível de construção dos Imóveis (10 ou mais)',\n",
    "    ylabel = 'Quantidade de Imóveis (%)',\n",
    "    title = 'Quantidade de Imóveis (%) com vista para a água que possuem nível de construção 10 ou mais',\n",
    ")"
   ]
  },
  {
   "cell_type": "markdown",
   "metadata": {},
   "source": [
    "**Hipótese Falsa**: Como podemos observar, os imóveis com vista para a água não possuem 80% da sua quantidade com nível de construção 10 ou mais."
   ]
  },
  {
   "cell_type": "markdown",
   "metadata": {},
   "source": [
    "#### H9: Pelo menos 80% dos imóveis com condição 4 e 5 tem níveis de construção 7 ou mais."
   ]
  },
  {
   "cell_type": "code",
   "execution_count": 139,
   "metadata": {},
   "outputs": [
    {
     "name": "stdout",
     "output_type": "stream",
     "text": [
      "Os imóveis que possuem nível de construção 7 ou mais representam 85.67% dentre os imóveis com condição de uso entre 4 e 5\n"
     ]
    }
   ],
   "source": [
    "df_condition = df1.loc[ (df1['condition'] == 4) | (df1['condition'] == 5), : ]\n",
    "\n",
    "qty_houses = df_condition.shape[0]\n",
    "\n",
    "qty_good_construction = df_condition.loc[ df_condition['grade'] >= 7, 'id' ].count()\n",
    "qty_bad_construction = df_condition.loc[ ~(df_condition['grade'] >= 7), 'id' ].count()\n",
    "\n",
    "percent_good_construction = round((qty_good_construction / qty_houses * 100), 2)\n",
    "percent_bad_construction = round((qty_bad_construction / qty_houses * 100), 2)\n",
    "\n",
    "print(f'Os imóveis que possuem nível de construção 7 ou mais representam {percent_good_construction}% dentre os imóveis com condição de uso entre 4 e 5')"
   ]
  },
  {
   "cell_type": "code",
   "execution_count": 140,
   "metadata": {},
   "outputs": [
    {
     "data": {
      "image/png": "[encoded data removed]",
      "text/plain": [
       "<Figure size 1200x800 with 1 Axes>"
      ]
     },
     "metadata": {},
     "output_type": "display_data"
    }
   ],
   "source": [
    "df_renovated = pd.DataFrame([\n",
    "    {'7_more': 'Yes', 'percent': percent_good_construction},\n",
    "    {'7_more': 'No', 'percent': percent_bad_construction},\n",
    "])\n",
    "\n",
    "ax = sns.barplot(\n",
    "    data = df_renovated,\n",
    "    x = '7_more',\n",
    "    y = 'percent',\n",
    ")\n",
    "\n",
    "ax = ax.set(\n",
    "    xlabel = 'Nível de construção dos Imóveis (7 ou mais)',\n",
    "    ylabel = 'Quantidade de Imóveis (%)',\n",
    "    title = 'Quantidade de Imóveis (%) com condição de uso 4 ou 5 que possuem nível de construção 7 ou mais',\n",
    ")"
   ]
  },
  {
   "cell_type": "markdown",
   "metadata": {},
   "source": [
    "**Hipótese Verdadeira**: Conforme podemos observar, mais de 80% dos imóveis com condições de uso entr 4 e 5 possuem nível de construção 7 ou mais."
   ]
  },
  {
   "cell_type": "markdown",
   "metadata": {},
   "source": [
    "#### H10: Imóveis no vendidos no inverno são, em média, 20% mais baratos do que no resto do ano."
   ]
  },
  {
   "cell_type": "markdown",
   "metadata": {},
   "source": [
    "Estações do Ano\n",
    "\n",
    "| Estação | Periodo (Meses) |\n",
    "| :------ | :-------------- |\n",
    "| Verão | Junho a Agosto |\n",
    "| Outono | Setembro a Novembro |\n",
    "| Inverno | Dezembro a Fevereiro |\n",
    "| Primavera | Março a Maio |"
   ]
  },
  {
   "cell_type": "code",
   "execution_count": 141,
   "metadata": {},
   "outputs": [
    {
     "data": {
      "text/html": [
       "<div>\n",
       "<style scoped>\n",
       "    .dataframe tbody tr th:only-of-type {\n",
       "        vertical-align: middle;\n",
       "    }\n",
       "\n",
       "    .dataframe tbody tr th {\n",
       "        vertical-align: top;\n",
       "    }\n",
       "\n",
       "    .dataframe thead th {\n",
       "        text-align: right;\n",
       "    }\n",
       "</style>\n",
       "<table border=\"1\" class=\"dataframe\">\n",
       "  <thead>\n",
       "    <tr style=\"text-align: right;\">\n",
       "      <th></th>\n",
       "      <th>season</th>\n",
       "      <th>mean_price</th>\n",
       "    </tr>\n",
       "  </thead>\n",
       "  <tbody>\n",
       "    <tr>\n",
       "      <th>2</th>\n",
       "      <td>Spring</td>\n",
       "      <td>519942.03</td>\n",
       "    </tr>\n",
       "    <tr>\n",
       "      <th>1</th>\n",
       "      <td>Autumn</td>\n",
       "      <td>531631.97</td>\n",
       "    </tr>\n",
       "    <tr>\n",
       "      <th>0</th>\n",
       "      <td>Summer</td>\n",
       "      <td>546447.33</td>\n",
       "    </tr>\n",
       "    <tr>\n",
       "      <th>3</th>\n",
       "      <td>Winter</td>\n",
       "      <td>553710.93</td>\n",
       "    </tr>\n",
       "  </tbody>\n",
       "</table>\n",
       "</div>"
      ],
      "text/plain": [
       "   season  mean_price\n",
       "2  Spring   519942.03\n",
       "1  Autumn   531631.97\n",
       "0  Summer   546447.33\n",
       "3  Winter   553710.93"
      ]
     },
     "execution_count": 141,
     "metadata": {},
     "output_type": "execute_result"
    }
   ],
   "source": [
    "df_summer = df1.loc[ (df1['date'].dt.month >= 6) & (df1['date'].dt.month <= 8), : ]\n",
    "df_autumn = df1.loc[ (df1['date'].dt.month >= 9) & (df1['date'].dt.month <= 11), : ]\n",
    "df_spring = df1.loc[ (df1['date'].dt.month <= 2) | (df1['date'].dt.month >= 12), : ]\n",
    "df_winter = df1.loc[ (df1['date'].dt.month >= 3) & (df1['date'].dt.month <= 5), : ]\n",
    "\n",
    "mean_price_summer = round(df_summer.loc[:, 'price'].mean(), 2)\n",
    "mean_price_autumn = round(df_autumn.loc[:, 'price'].mean(), 2)\n",
    "mean_price_spring = round(df_spring.loc[:, 'price'].mean(), 2)\n",
    "mean_price_winter = round(df_winter.loc[:, 'price'].mean(), 2) \n",
    "\n",
    "df_season = pd.DataFrame([\n",
    "    {'season': 'Summer', 'mean_price': mean_price_summer},\n",
    "    {'season': 'Autumn', 'mean_price': mean_price_autumn},\n",
    "    {'season': 'Spring', 'mean_price': mean_price_spring},\n",
    "    {'season': 'Winter', 'mean_price': mean_price_winter},\n",
    "]).sort_values('mean_price')\n",
    "\n",
    "df_season"
   ]
  },
  {
   "cell_type": "code",
   "execution_count": 142,
   "metadata": {},
   "outputs": [
    {
     "data": {
      "image/png": "[encoded data removed]",
      "text/plain": [
       "<Figure size 1200x800 with 1 Axes>"
      ]
     },
     "metadata": {},
     "output_type": "display_data"
    }
   ],
   "source": [
    "ax = sns.barplot(\n",
    "    data = df_season,\n",
    "    x = 'season',\n",
    "    y = 'mean_price',\n",
    ")\n",
    "\n",
    "ax = ax.set(\n",
    "    xlabel = 'Estação do Ano',\n",
    "    ylabel = 'Preço Médio de Venda',\n",
    "    title = 'Preço Médio de Venda dos Imóveis por estação do ano',\n",
    ")"
   ]
  },
  {
   "cell_type": "code",
   "execution_count": 143,
   "metadata": {},
   "outputs": [
    {
     "name": "stdout",
     "output_type": "stream",
     "text": [
      "Preço médio dos imóveis vendidos no inverno $ 553710.93\n",
      "preço médio dos imóveis vendidos no resto do ano $ 535046.27\n",
      "Os imóveis vendidos no inverno são 3.37% mais caros do que no resto do ano\n"
     ]
    }
   ],
   "source": [
    "df_winter = df1.loc[ (df1['date'].dt.month >= 3) & (df1['date'].dt.month <= 5), : ]\n",
    "df_not_winter = df1.loc[ ~((df1['date'].dt.month >= 3) & (df1['date'].dt.month <= 5)), : ]\n",
    "\n",
    "mean_price_not_winter = round(df_not_winter.loc[:, 'price'].mean(), 2)\n",
    "mean_price_winter = round(df_winter.loc[:, 'price'].mean(), 2) \n",
    "\n",
    "print(f'Preço médio dos imóveis vendidos no inverno $ {mean_price_winter:.2f}')\n",
    "print(f'preço médio dos imóveis vendidos no resto do ano $ {mean_price_not_winter:.2f}')\n",
    "print(f'Os imóveis vendidos no inverno são { round( ( 100 - ( mean_price_not_winter * 100) / mean_price_winter ), 2)}% mais caros do que no resto do ano')"
   ]
  },
  {
   "cell_type": "code",
   "execution_count": 144,
   "metadata": {},
   "outputs": [
    {
     "data": {
      "image/png": "[encoded data removed]",
      "text/plain": [
       "<Figure size 1200x800 with 1 Axes>"
      ]
     },
     "metadata": {},
     "output_type": "display_data"
    }
   ],
   "source": [
    "df_season = pd.DataFrame([\n",
    "    {'sold_winter': 'Yes', 'mean_price': mean_price_winter},\n",
    "    {'sold_winter': 'No', 'mean_price': mean_price_not_winter},\n",
    "])\n",
    "\n",
    "ax = sns.barplot(\n",
    "    data = df_season,\n",
    "    x = 'sold_winter',\n",
    "    y = 'mean_price',\n",
    ")\n",
    "\n",
    "ax = ax.set(\n",
    "    xlabel = 'Imóvel vendido no Inverno',\n",
    "    ylabel = 'Preço Médio',\n",
    "    title = 'Preço Médio dos imóveis Vendidos no inverno comparado ao resto do ano',\n",
    ")"
   ]
  },
  {
   "cell_type": "markdown",
   "metadata": {},
   "source": [
    "**Hipótese Falsa**: Como podemos observar, os imóveis vendidos no inverno são mais caros, em média, que os imóveis vendidos no resto do ano"
   ]
  },
  {
   "cell_type": "markdown",
   "metadata": {},
   "source": [
    "## 1.5. Respondendo as Perguntas de Negócio"
   ]
  },
  {
   "cell_type": "markdown",
   "metadata": {},
   "source": [
    "### 1. Quais são os imóveis que a House Rocket deveria comprar e por qual preço ?"
   ]
  },
  {
   "cell_type": "markdown",
   "metadata": {},
   "source": [
    "- Plano 01:\n",
    "   - ~~Coletar e limpar os dados~~.\n",
    "   - Agrupar os imóveis por região ( zipcode ).\n",
    "   - Dentro de cada região, será encontrado a mediana do preço do imóvel.\n",
    "   - Será sugerido os imóveis que estão abaixo do preço mediano da região, que estejam em boas condições e tenham vista para água.\n",
    "   - Exemplo de Relatório entregue:\n",
    "            \n",
    "| Imóvel Cod | Região | Preço do Imóvel | Preço na Mediana | Condições | Status |\n",
    "| ---------- | ------ | --------------: | ---------------: | --------- | :----: |\n",
    "| 10330 | Vila Olímpia | R\\$ 450.000,00 | R\\$ 500.000,00 | 3 | Compra |\n",
    "| 10335 | Vila Olímpia | R\\$ 750.000,00 | R\\$ 500.000,00 | 3 | Não Compra |\n",
    "| 10335 | Vila Olímpia | R\\$ 150.000,00 | R\\$ 500.000,00 | 1 | Não Compra |"
   ]
  },
  {
   "cell_type": "markdown",
   "metadata": {},
   "source": [
    "#### Agrupar os dados por região e calculando a Mediana de cada região"
   ]
  },
  {
   "cell_type": "code",
   "execution_count": 145,
   "metadata": {},
   "outputs": [
    {
     "data": {
      "text/html": [
       "<div>\n",
       "<style scoped>\n",
       "    .dataframe tbody tr th:only-of-type {\n",
       "        vertical-align: middle;\n",
       "    }\n",
       "\n",
       "    .dataframe tbody tr th {\n",
       "        vertical-align: top;\n",
       "    }\n",
       "\n",
       "    .dataframe thead th {\n",
       "        text-align: right;\n",
       "    }\n",
       "</style>\n",
       "<table border=\"1\" class=\"dataframe\">\n",
       "  <thead>\n",
       "    <tr style=\"text-align: right;\">\n",
       "      <th></th>\n",
       "      <th>zipcode</th>\n",
       "      <th>median_price</th>\n",
       "    </tr>\n",
       "  </thead>\n",
       "  <tbody>\n",
       "    <tr>\n",
       "      <th>0</th>\n",
       "      <td>98001</td>\n",
       "      <td>260000.0</td>\n",
       "    </tr>\n",
       "    <tr>\n",
       "      <th>1</th>\n",
       "      <td>98002</td>\n",
       "      <td>235000.0</td>\n",
       "    </tr>\n",
       "    <tr>\n",
       "      <th>2</th>\n",
       "      <td>98003</td>\n",
       "      <td>266500.0</td>\n",
       "    </tr>\n",
       "    <tr>\n",
       "      <th>3</th>\n",
       "      <td>98004</td>\n",
       "      <td>1150000.0</td>\n",
       "    </tr>\n",
       "    <tr>\n",
       "      <th>4</th>\n",
       "      <td>98005</td>\n",
       "      <td>765475.0</td>\n",
       "    </tr>\n",
       "  </tbody>\n",
       "</table>\n",
       "</div>"
      ],
      "text/plain": [
       "   zipcode  median_price\n",
       "0    98001      260000.0\n",
       "1    98002      235000.0\n",
       "2    98003      266500.0\n",
       "3    98004     1150000.0\n",
       "4    98005      765475.0"
      ]
     },
     "execution_count": 145,
     "metadata": {},
     "output_type": "execute_result"
    }
   ],
   "source": [
    "df_grouped_zipcode = df1.loc[ :, ['price', 'zipcode'] ]\n",
    "\n",
    "df_grouped_zipcode = df_grouped_zipcode.groupby('zipcode').agg(\n",
    "    median_price = pd.NamedAgg('price', 'median')\n",
    ")\n",
    "\n",
    "df_grouped_zipcode = df_grouped_zipcode.reset_index()\n",
    "\n",
    "df_grouped_zipcode.head()"
   ]
  },
  {
   "cell_type": "markdown",
   "metadata": {},
   "source": [
    "#### Unindo o DataFrame agrupado com as informações padrão"
   ]
  },
  {
   "cell_type": "code",
   "execution_count": 146,
   "metadata": {},
   "outputs": [
    {
     "data": {
      "text/html": [
       "<div>\n",
       "<style scoped>\n",
       "    .dataframe tbody tr th:only-of-type {\n",
       "        vertical-align: middle;\n",
       "    }\n",
       "\n",
       "    .dataframe tbody tr th {\n",
       "        vertical-align: top;\n",
       "    }\n",
       "\n",
       "    .dataframe thead th {\n",
       "        text-align: right;\n",
       "    }\n",
       "</style>\n",
       "<table border=\"1\" class=\"dataframe\">\n",
       "  <thead>\n",
       "    <tr style=\"text-align: right;\">\n",
       "      <th></th>\n",
       "      <th>id</th>\n",
       "      <th>zipcode</th>\n",
       "      <th>price</th>\n",
       "      <th>median_price</th>\n",
       "      <th>condition</th>\n",
       "    </tr>\n",
       "  </thead>\n",
       "  <tbody>\n",
       "    <tr>\n",
       "      <th>0</th>\n",
       "      <td>7129300520</td>\n",
       "      <td>98178</td>\n",
       "      <td>221900.0</td>\n",
       "      <td>279000.0</td>\n",
       "      <td>3</td>\n",
       "    </tr>\n",
       "    <tr>\n",
       "      <th>1</th>\n",
       "      <td>6414100192</td>\n",
       "      <td>98125</td>\n",
       "      <td>538000.0</td>\n",
       "      <td>425000.0</td>\n",
       "      <td>3</td>\n",
       "    </tr>\n",
       "    <tr>\n",
       "      <th>2</th>\n",
       "      <td>5631500400</td>\n",
       "      <td>98028</td>\n",
       "      <td>180000.0</td>\n",
       "      <td>442500.0</td>\n",
       "      <td>3</td>\n",
       "    </tr>\n",
       "    <tr>\n",
       "      <th>3</th>\n",
       "      <td>2487200875</td>\n",
       "      <td>98136</td>\n",
       "      <td>604000.0</td>\n",
       "      <td>489950.0</td>\n",
       "      <td>5</td>\n",
       "    </tr>\n",
       "    <tr>\n",
       "      <th>4</th>\n",
       "      <td>1954400510</td>\n",
       "      <td>98074</td>\n",
       "      <td>510000.0</td>\n",
       "      <td>645000.0</td>\n",
       "      <td>3</td>\n",
       "    </tr>\n",
       "  </tbody>\n",
       "</table>\n",
       "</div>"
      ],
      "text/plain": [
       "           id  zipcode     price  median_price  condition\n",
       "0  7129300520    98178  221900.0      279000.0          3\n",
       "1  6414100192    98125  538000.0      425000.0          3\n",
       "2  5631500400    98028  180000.0      442500.0          3\n",
       "3  2487200875    98136  604000.0      489950.0          5\n",
       "4  1954400510    98074  510000.0      645000.0          3"
      ]
     },
     "execution_count": 146,
     "metadata": {},
     "output_type": "execute_result"
    }
   ],
   "source": [
    "df_report_1 = df1.loc[ :, ['id', 'zipcode', 'price', 'condition'] ]\n",
    "\n",
    "df_report_1 = df_report_1.merge(df_grouped_zipcode, on='zipcode', how='left')\n",
    "\n",
    "df_report_1 = df_report_1.loc[ :, ['id', 'zipcode', 'price', 'median_price', 'condition'] ]\n",
    "\n",
    "df_report_1.head()"
   ]
  },
  {
   "cell_type": "markdown",
   "metadata": {},
   "source": [
    "#### Verificando efeitos colaterais da união dos DataFrames"
   ]
  },
  {
   "cell_type": "code",
   "execution_count": 147,
   "metadata": {},
   "outputs": [
    {
     "data": {
      "text/plain": [
       "id              0\n",
       "zipcode         0\n",
       "price           0\n",
       "median_price    0\n",
       "condition       0\n",
       "dtype: int64"
      ]
     },
     "execution_count": 147,
     "metadata": {},
     "output_type": "execute_result"
    }
   ],
   "source": [
    "df_report_1.isna().sum()"
   ]
  },
  {
   "cell_type": "markdown",
   "metadata": {},
   "source": [
    "#### Criando DataFrame que será utilizado como Report da Pergunta"
   ]
  },
  {
   "cell_type": "code",
   "execution_count": 148,
   "metadata": {},
   "outputs": [
    {
     "data": {
      "text/html": [
       "<div>\n",
       "<style scoped>\n",
       "    .dataframe tbody tr th:only-of-type {\n",
       "        vertical-align: middle;\n",
       "    }\n",
       "\n",
       "    .dataframe tbody tr th {\n",
       "        vertical-align: top;\n",
       "    }\n",
       "\n",
       "    .dataframe thead th {\n",
       "        text-align: right;\n",
       "    }\n",
       "</style>\n",
       "<table border=\"1\" class=\"dataframe\">\n",
       "  <thead>\n",
       "    <tr style=\"text-align: right;\">\n",
       "      <th></th>\n",
       "      <th>ID</th>\n",
       "      <th>Região</th>\n",
       "      <th>Preço Imóvel</th>\n",
       "      <th>Preço da Mediana da Região</th>\n",
       "      <th>Condição do Imóvel</th>\n",
       "      <th>Status</th>\n",
       "    </tr>\n",
       "  </thead>\n",
       "  <tbody>\n",
       "    <tr>\n",
       "      <th>0</th>\n",
       "      <td>7129300520</td>\n",
       "      <td>98178</td>\n",
       "      <td>221900.0</td>\n",
       "      <td>279000.0</td>\n",
       "      <td>3</td>\n",
       "      <td>Compra</td>\n",
       "    </tr>\n",
       "    <tr>\n",
       "      <th>1</th>\n",
       "      <td>6414100192</td>\n",
       "      <td>98125</td>\n",
       "      <td>538000.0</td>\n",
       "      <td>425000.0</td>\n",
       "      <td>3</td>\n",
       "      <td>Não Compra</td>\n",
       "    </tr>\n",
       "    <tr>\n",
       "      <th>2</th>\n",
       "      <td>5631500400</td>\n",
       "      <td>98028</td>\n",
       "      <td>180000.0</td>\n",
       "      <td>442500.0</td>\n",
       "      <td>3</td>\n",
       "      <td>Compra</td>\n",
       "    </tr>\n",
       "    <tr>\n",
       "      <th>3</th>\n",
       "      <td>2487200875</td>\n",
       "      <td>98136</td>\n",
       "      <td>604000.0</td>\n",
       "      <td>489950.0</td>\n",
       "      <td>5</td>\n",
       "      <td>Não Compra</td>\n",
       "    </tr>\n",
       "    <tr>\n",
       "      <th>4</th>\n",
       "      <td>1954400510</td>\n",
       "      <td>98074</td>\n",
       "      <td>510000.0</td>\n",
       "      <td>645000.0</td>\n",
       "      <td>3</td>\n",
       "      <td>Compra</td>\n",
       "    </tr>\n",
       "  </tbody>\n",
       "</table>\n",
       "</div>"
      ],
      "text/plain": [
       "           ID  Região  Preço Imóvel  Preço da Mediana da Região  \\\n",
       "0  7129300520   98178      221900.0                    279000.0   \n",
       "1  6414100192   98125      538000.0                    425000.0   \n",
       "2  5631500400   98028      180000.0                    442500.0   \n",
       "3  2487200875   98136      604000.0                    489950.0   \n",
       "4  1954400510   98074      510000.0                    645000.0   \n",
       "\n",
       "   Condição do Imóvel      Status  \n",
       "0                   3      Compra  \n",
       "1                   3  Não Compra  \n",
       "2                   3      Compra  \n",
       "3                   5  Não Compra  \n",
       "4                   3      Compra  "
      ]
     },
     "execution_count": 148,
     "metadata": {},
     "output_type": "execute_result"
    }
   ],
   "source": [
    "df_report_1['status'] = df_report_1.apply(\n",
    "    lambda line: 'Compra' if line['price'] < line['median_price'] and line['condition'] >= 3 else 'Não Compra',\n",
    "    axis=1\n",
    ")\n",
    "\n",
    "df_report_1_r = df_report_1.rename(columns={\n",
    "    'id': 'ID', \n",
    "    'zipcode': 'Região', \n",
    "    'price': 'Preço Imóvel', \n",
    "    'median_price': 'Preço da Mediana da Região',\n",
    "    'condition': 'Condição do Imóvel', \n",
    "    'status': 'Status',\n",
    "})\n",
    "\n",
    "df_report_1_r.head()"
   ]
  },
  {
   "cell_type": "markdown",
   "metadata": {},
   "source": [
    "#### Total de casas para compra selecionadas"
   ]
  },
  {
   "cell_type": "code",
   "execution_count": 149,
   "metadata": {},
   "outputs": [
    {
     "name": "stdout",
     "output_type": "stream",
     "text": [
      "Foram selecionadas 10495 casas para compra das 21419 casas da base de dados\n"
     ]
    }
   ],
   "source": [
    "qty_selected_houses = df_report_1.loc[ df_report_1['status'] == 'Compra', 'id'].count()\n",
    "print(f'Foram selecionadas {qty_selected_houses} casas para compra das {df_report_1.shape[0]} casas da base de dados')"
   ]
  },
  {
   "cell_type": "markdown",
   "metadata": {},
   "source": [
    "### 2. Uma vez a casa comprada, qual o melhor momento para vendê-las e por qual preço ?"
   ]
  },
  {
   "cell_type": "markdown",
   "metadata": {},
   "source": [
    "- Plano 01:\n",
    "  - ~~Coletar e limpar os dados (Etapa já cumprida na tarefa anterior).~~\n",
    "  - Agrupar os imóveis por região (zipcode) e por sazonalidade (Summer, Inter).\n",
    "  - Dentro de cada região e sazonalidade, será calculado a mediana do preço.\n",
    "  - As condições de venda serão:\n",
    "      1. Se a sazonalidade de compra não for o Inverno, o preço da venda será igual ao preço da compra + 30%\n",
    "      2. Se a sazonalidade de compra for no inverno, o preço da venda será igual ao preço da compra + 10%\n",
    "- Exemplo do relatório entregue:\n",
    "\n",
    "\n",
    "| Imóvel Cod | Região | Temporada | Preço da Mediana | Preço de Compra | Preço de Venda | Lucro | \n",
    "| ---------- | :----- | :---------| ---------------: | --------------: | -------------: | ----: |\n",
    "| 10330 | Vila Olímpia | Verão | R\\$ 800.000,00 | R\\$ 450.000,00 | R\\$ 585.000,00 | R\\$ 135.000,00 |\n",
    "| 10335 | Vila Olímpia | Inverno | R\\$ 400.000,00 | R\\$ 500.000,00 | R\\$ 550.000,00 | R\\$ 50.000,00 |"
   ]
  },
  {
   "cell_type": "markdown",
   "metadata": {},
   "source": [
    "#### Criando a coluna de sazonalidade no dataframe"
   ]
  },
  {
   "cell_type": "code",
   "execution_count": 150,
   "metadata": {},
   "outputs": [
    {
     "name": "stderr",
     "output_type": "stream",
     "text": [
      "/var/folders/kk/w8y9v8_16yn6j692hzd237040000gn/T/ipykernel_1566/2779207902.py:5: SettingWithCopyWarning: \n",
      "A value is trying to be set on a copy of a slice from a DataFrame.\n",
      "Try using .loc[row_indexer,col_indexer] = value instead\n",
      "\n",
      "See the caveats in the documentation: https://pandas.pydata.org/pandas-docs/stable/user_guide/indexing.html#returning-a-view-versus-a-copy\n",
      "  df_report_2['season'] = df_report_2['date'].apply(\n"
     ]
    },
    {
     "data": {
      "text/html": [
       "<div>\n",
       "<style scoped>\n",
       "    .dataframe tbody tr th:only-of-type {\n",
       "        vertical-align: middle;\n",
       "    }\n",
       "\n",
       "    .dataframe tbody tr th {\n",
       "        vertical-align: top;\n",
       "    }\n",
       "\n",
       "    .dataframe thead th {\n",
       "        text-align: right;\n",
       "    }\n",
       "</style>\n",
       "<table border=\"1\" class=\"dataframe\">\n",
       "  <thead>\n",
       "    <tr style=\"text-align: right;\">\n",
       "      <th></th>\n",
       "      <th>id</th>\n",
       "      <th>price</th>\n",
       "      <th>season</th>\n",
       "    </tr>\n",
       "  </thead>\n",
       "  <tbody>\n",
       "    <tr>\n",
       "      <th>0</th>\n",
       "      <td>7129300520</td>\n",
       "      <td>221900.0</td>\n",
       "      <td>autumn</td>\n",
       "    </tr>\n",
       "    <tr>\n",
       "      <th>2</th>\n",
       "      <td>5631500400</td>\n",
       "      <td>180000.0</td>\n",
       "      <td>spring</td>\n",
       "    </tr>\n",
       "    <tr>\n",
       "      <th>4</th>\n",
       "      <td>1954400510</td>\n",
       "      <td>510000.0</td>\n",
       "      <td>spring</td>\n",
       "    </tr>\n",
       "    <tr>\n",
       "      <th>6</th>\n",
       "      <td>1321400060</td>\n",
       "      <td>257500.0</td>\n",
       "      <td>summer</td>\n",
       "    </tr>\n",
       "    <tr>\n",
       "      <th>8</th>\n",
       "      <td>2414600126</td>\n",
       "      <td>229500.0</td>\n",
       "      <td>winter</td>\n",
       "    </tr>\n",
       "  </tbody>\n",
       "</table>\n",
       "</div>"
      ],
      "text/plain": [
       "           id     price  season\n",
       "0  7129300520  221900.0  autumn\n",
       "2  5631500400  180000.0  spring\n",
       "4  1954400510  510000.0  spring\n",
       "6  1321400060  257500.0  summer\n",
       "8  2414600126  229500.0  winter"
      ]
     },
     "execution_count": 150,
     "metadata": {},
     "output_type": "execute_result"
    }
   ],
   "source": [
    "ids = df_report_1.loc[ df_report_1['status'] == 'Compra', 'id'].to_list()\n",
    "\n",
    "df_report_2 = df1.loc[ df1['id'].isin(ids), :]\n",
    "\n",
    "df_report_2['season'] = df_report_2['date'].apply(\n",
    "    lambda x: 'winter' if x.month >= 3 and x.month <= 5 else\n",
    "    'summer' if x.month >= 6 and x.month <= 8 else\n",
    "    'autumn' if x.month >= 9 and x.month <= 11 else 'spring'\n",
    ")\n",
    "\n",
    "df_report_2.loc[ :, ['id', 'price', 'season']].head()"
   ]
  },
  {
   "cell_type": "markdown",
   "metadata": {},
   "source": [
    "#### Agrupar imóveis por Região e Sasonalidade e calcular a Mediana"
   ]
  },
  {
   "cell_type": "code",
   "execution_count": 151,
   "metadata": {},
   "outputs": [
    {
     "data": {
      "text/html": [
       "<div>\n",
       "<style scoped>\n",
       "    .dataframe tbody tr th:only-of-type {\n",
       "        vertical-align: middle;\n",
       "    }\n",
       "\n",
       "    .dataframe tbody tr th {\n",
       "        vertical-align: top;\n",
       "    }\n",
       "\n",
       "    .dataframe thead th {\n",
       "        text-align: right;\n",
       "    }\n",
       "</style>\n",
       "<table border=\"1\" class=\"dataframe\">\n",
       "  <thead>\n",
       "    <tr style=\"text-align: right;\">\n",
       "      <th></th>\n",
       "      <th>zipcode</th>\n",
       "      <th>season</th>\n",
       "      <th>median_price</th>\n",
       "    </tr>\n",
       "  </thead>\n",
       "  <tbody>\n",
       "    <tr>\n",
       "      <th>0</th>\n",
       "      <td>98001</td>\n",
       "      <td>autumn</td>\n",
       "      <td>214500.0</td>\n",
       "    </tr>\n",
       "    <tr>\n",
       "      <th>1</th>\n",
       "      <td>98001</td>\n",
       "      <td>spring</td>\n",
       "      <td>228250.0</td>\n",
       "    </tr>\n",
       "    <tr>\n",
       "      <th>2</th>\n",
       "      <td>98001</td>\n",
       "      <td>summer</td>\n",
       "      <td>211250.0</td>\n",
       "    </tr>\n",
       "    <tr>\n",
       "      <th>3</th>\n",
       "      <td>98001</td>\n",
       "      <td>winter</td>\n",
       "      <td>210500.0</td>\n",
       "    </tr>\n",
       "    <tr>\n",
       "      <th>4</th>\n",
       "      <td>98002</td>\n",
       "      <td>autumn</td>\n",
       "      <td>195000.0</td>\n",
       "    </tr>\n",
       "  </tbody>\n",
       "</table>\n",
       "</div>"
      ],
      "text/plain": [
       "   zipcode  season  median_price\n",
       "0    98001  autumn      214500.0\n",
       "1    98001  spring      228250.0\n",
       "2    98001  summer      211250.0\n",
       "3    98001  winter      210500.0\n",
       "4    98002  autumn      195000.0"
      ]
     },
     "execution_count": 151,
     "metadata": {},
     "output_type": "execute_result"
    }
   ],
   "source": [
    "df_grouped_zipcode_season = df_report_2.loc[ :, ['price', 'zipcode', 'season'] ]\n",
    "\n",
    "df_grouped_zipcode_season = df_grouped_zipcode_season.groupby(['zipcode', 'season']).agg(\n",
    "    median_price = pd.NamedAgg('price', 'median')\n",
    ")\n",
    "\n",
    "df_grouped_zipcode_season = df_grouped_zipcode_season.reset_index()\n",
    "\n",
    "df_grouped_zipcode_season.head()"
   ]
  },
  {
   "cell_type": "markdown",
   "metadata": {},
   "source": [
    "#### Selecionando o menor Preço Mediano de cada região e estação"
   ]
  },
  {
   "cell_type": "code",
   "execution_count": 152,
   "metadata": {},
   "outputs": [
    {
     "data": {
      "text/html": [
       "<div>\n",
       "<style scoped>\n",
       "    .dataframe tbody tr th:only-of-type {\n",
       "        vertical-align: middle;\n",
       "    }\n",
       "\n",
       "    .dataframe tbody tr th {\n",
       "        vertical-align: top;\n",
       "    }\n",
       "\n",
       "    .dataframe thead th {\n",
       "        text-align: right;\n",
       "    }\n",
       "</style>\n",
       "<table border=\"1\" class=\"dataframe\">\n",
       "  <thead>\n",
       "    <tr style=\"text-align: right;\">\n",
       "      <th></th>\n",
       "      <th>zipcode</th>\n",
       "      <th>season</th>\n",
       "      <th>median_price</th>\n",
       "    </tr>\n",
       "  </thead>\n",
       "  <tbody>\n",
       "    <tr>\n",
       "      <th>3</th>\n",
       "      <td>98001</td>\n",
       "      <td>winter</td>\n",
       "      <td>210500.0</td>\n",
       "    </tr>\n",
       "    <tr>\n",
       "      <th>5</th>\n",
       "      <td>98002</td>\n",
       "      <td>spring</td>\n",
       "      <td>189000.0</td>\n",
       "    </tr>\n",
       "    <tr>\n",
       "      <th>8</th>\n",
       "      <td>98003</td>\n",
       "      <td>autumn</td>\n",
       "      <td>221500.0</td>\n",
       "    </tr>\n",
       "    <tr>\n",
       "      <th>14</th>\n",
       "      <td>98004</td>\n",
       "      <td>summer</td>\n",
       "      <td>815000.0</td>\n",
       "    </tr>\n",
       "    <tr>\n",
       "      <th>16</th>\n",
       "      <td>98005</td>\n",
       "      <td>autumn</td>\n",
       "      <td>580000.0</td>\n",
       "    </tr>\n",
       "  </tbody>\n",
       "</table>\n",
       "</div>"
      ],
      "text/plain": [
       "    zipcode  season  median_price\n",
       "3     98001  winter      210500.0\n",
       "5     98002  spring      189000.0\n",
       "8     98003  autumn      221500.0\n",
       "14    98004  summer      815000.0\n",
       "16    98005  autumn      580000.0"
      ]
     },
     "execution_count": 152,
     "metadata": {},
     "output_type": "execute_result"
    }
   ],
   "source": [
    "zipcodes = df_grouped_zipcode_season['zipcode'].unique()\n",
    "\n",
    "selected_seasons = pd.DataFrame()\n",
    "\n",
    "for zipcode in zipcodes:\n",
    "    regions = df_grouped_zipcode_season.loc[ df_grouped_zipcode_season['zipcode'] == zipcode, :]\n",
    "    \n",
    "    selected_seasons = pd.concat( [selected_seasons, regions.loc[ regions['median_price'] == regions[ 'median_price' ].min(), : ]] )\n",
    "\n",
    "selected_seasons.head()"
   ]
  },
  {
   "cell_type": "markdown",
   "metadata": {},
   "source": [
    "#### Unindo os DataFrames"
   ]
  },
  {
   "cell_type": "code",
   "execution_count": 153,
   "metadata": {},
   "outputs": [
    {
     "data": {
      "text/html": [
       "<div>\n",
       "<style scoped>\n",
       "    .dataframe tbody tr th:only-of-type {\n",
       "        vertical-align: middle;\n",
       "    }\n",
       "\n",
       "    .dataframe tbody tr th {\n",
       "        vertical-align: top;\n",
       "    }\n",
       "\n",
       "    .dataframe thead th {\n",
       "        text-align: right;\n",
       "    }\n",
       "</style>\n",
       "<table border=\"1\" class=\"dataframe\">\n",
       "  <thead>\n",
       "    <tr style=\"text-align: right;\">\n",
       "      <th></th>\n",
       "      <th>id</th>\n",
       "      <th>zipcode</th>\n",
       "      <th>season</th>\n",
       "      <th>median_price</th>\n",
       "      <th>price</th>\n",
       "    </tr>\n",
       "  </thead>\n",
       "  <tbody>\n",
       "    <tr>\n",
       "      <th>0</th>\n",
       "      <td>7129300520</td>\n",
       "      <td>98178</td>\n",
       "      <td>autumn</td>\n",
       "      <td>213250.0</td>\n",
       "      <td>221900.0</td>\n",
       "    </tr>\n",
       "    <tr>\n",
       "      <th>1</th>\n",
       "      <td>6414100192</td>\n",
       "      <td>98125</td>\n",
       "      <td>spring</td>\n",
       "      <td>332500.0</td>\n",
       "      <td>538000.0</td>\n",
       "    </tr>\n",
       "    <tr>\n",
       "      <th>2</th>\n",
       "      <td>5631500400</td>\n",
       "      <td>98028</td>\n",
       "      <td>spring</td>\n",
       "      <td>360250.0</td>\n",
       "      <td>180000.0</td>\n",
       "    </tr>\n",
       "    <tr>\n",
       "      <th>3</th>\n",
       "      <td>2487200875</td>\n",
       "      <td>98136</td>\n",
       "      <td>autumn</td>\n",
       "      <td>381000.0</td>\n",
       "      <td>604000.0</td>\n",
       "    </tr>\n",
       "    <tr>\n",
       "      <th>4</th>\n",
       "      <td>1954400510</td>\n",
       "      <td>98074</td>\n",
       "      <td>spring</td>\n",
       "      <td>513500.0</td>\n",
       "      <td>510000.0</td>\n",
       "    </tr>\n",
       "    <tr>\n",
       "      <th>5</th>\n",
       "      <td>7237550310</td>\n",
       "      <td>98053</td>\n",
       "      <td>spring</td>\n",
       "      <td>454500.0</td>\n",
       "      <td>1225000.0</td>\n",
       "    </tr>\n",
       "    <tr>\n",
       "      <th>6</th>\n",
       "      <td>1321400060</td>\n",
       "      <td>98003</td>\n",
       "      <td>autumn</td>\n",
       "      <td>221500.0</td>\n",
       "      <td>257500.0</td>\n",
       "    </tr>\n",
       "    <tr>\n",
       "      <th>7</th>\n",
       "      <td>2008000270</td>\n",
       "      <td>98198</td>\n",
       "      <td>winter</td>\n",
       "      <td>205950.0</td>\n",
       "      <td>291850.0</td>\n",
       "    </tr>\n",
       "    <tr>\n",
       "      <th>8</th>\n",
       "      <td>2414600126</td>\n",
       "      <td>98146</td>\n",
       "      <td>spring</td>\n",
       "      <td>206500.0</td>\n",
       "      <td>229500.0</td>\n",
       "    </tr>\n",
       "    <tr>\n",
       "      <th>9</th>\n",
       "      <td>3793500160</td>\n",
       "      <td>98038</td>\n",
       "      <td>spring</td>\n",
       "      <td>272475.0</td>\n",
       "      <td>323000.0</td>\n",
       "    </tr>\n",
       "  </tbody>\n",
       "</table>\n",
       "</div>"
      ],
      "text/plain": [
       "           id  zipcode  season  median_price      price\n",
       "0  7129300520    98178  autumn      213250.0   221900.0\n",
       "1  6414100192    98125  spring      332500.0   538000.0\n",
       "2  5631500400    98028  spring      360250.0   180000.0\n",
       "3  2487200875    98136  autumn      381000.0   604000.0\n",
       "4  1954400510    98074  spring      513500.0   510000.0\n",
       "5  7237550310    98053  spring      454500.0  1225000.0\n",
       "6  1321400060    98003  autumn      221500.0   257500.0\n",
       "7  2008000270    98198  winter      205950.0   291850.0\n",
       "8  2414600126    98146  spring      206500.0   229500.0\n",
       "9  3793500160    98038  spring      272475.0   323000.0"
      ]
     },
     "execution_count": 153,
     "metadata": {},
     "output_type": "execute_result"
    }
   ],
   "source": [
    "df_report_2 = df1.loc[ :, ['id', 'zipcode', 'price'] ]\n",
    "\n",
    "df_report_2 = df_report_2.merge(selected_seasons, on='zipcode', how='left')\n",
    "\n",
    "df_report_2 = df_report_2.loc[ :, ['id', 'zipcode', 'season', 'median_price', 'price'] ]\n",
    "\n",
    "df_report_2.head(10)"
   ]
  },
  {
   "cell_type": "markdown",
   "metadata": {},
   "source": [
    "#### Verificando efeitos colaterais da união"
   ]
  },
  {
   "cell_type": "code",
   "execution_count": 154,
   "metadata": {},
   "outputs": [
    {
     "data": {
      "text/plain": [
       "id              0\n",
       "zipcode         0\n",
       "season          0\n",
       "median_price    0\n",
       "price           0\n",
       "dtype: int64"
      ]
     },
     "execution_count": 154,
     "metadata": {},
     "output_type": "execute_result"
    }
   ],
   "source": [
    "df_report_2.isna().sum()"
   ]
  },
  {
   "cell_type": "markdown",
   "metadata": {},
   "source": [
    "#### Criando DataFrame que será utilizado como Report da Pergunta"
   ]
  },
  {
   "cell_type": "code",
   "execution_count": 155,
   "metadata": {},
   "outputs": [
    {
     "data": {
      "text/html": [
       "<div>\n",
       "<style scoped>\n",
       "    .dataframe tbody tr th:only-of-type {\n",
       "        vertical-align: middle;\n",
       "    }\n",
       "\n",
       "    .dataframe tbody tr th {\n",
       "        vertical-align: top;\n",
       "    }\n",
       "\n",
       "    .dataframe thead th {\n",
       "        text-align: right;\n",
       "    }\n",
       "</style>\n",
       "<table border=\"1\" class=\"dataframe\">\n",
       "  <thead>\n",
       "    <tr style=\"text-align: right;\">\n",
       "      <th></th>\n",
       "      <th>ID</th>\n",
       "      <th>Região</th>\n",
       "      <th>Temporada</th>\n",
       "      <th>Menor Preço Mediano por Região e Temporada</th>\n",
       "      <th>Preço de Compra do Imóvel</th>\n",
       "      <th>Preço sugerido de Venda</th>\n",
       "      <th>Lucro Esperado</th>\n",
       "    </tr>\n",
       "  </thead>\n",
       "  <tbody>\n",
       "    <tr>\n",
       "      <th>0</th>\n",
       "      <td>7129300520</td>\n",
       "      <td>98178</td>\n",
       "      <td>autumn</td>\n",
       "      <td>213250.0</td>\n",
       "      <td>221900.0</td>\n",
       "      <td>244090.0</td>\n",
       "      <td>22190.0</td>\n",
       "    </tr>\n",
       "    <tr>\n",
       "      <th>1</th>\n",
       "      <td>6414100192</td>\n",
       "      <td>98125</td>\n",
       "      <td>spring</td>\n",
       "      <td>332500.0</td>\n",
       "      <td>538000.0</td>\n",
       "      <td>591800.0</td>\n",
       "      <td>53800.0</td>\n",
       "    </tr>\n",
       "    <tr>\n",
       "      <th>2</th>\n",
       "      <td>5631500400</td>\n",
       "      <td>98028</td>\n",
       "      <td>spring</td>\n",
       "      <td>360250.0</td>\n",
       "      <td>180000.0</td>\n",
       "      <td>234000.0</td>\n",
       "      <td>54000.0</td>\n",
       "    </tr>\n",
       "    <tr>\n",
       "      <th>3</th>\n",
       "      <td>2487200875</td>\n",
       "      <td>98136</td>\n",
       "      <td>autumn</td>\n",
       "      <td>381000.0</td>\n",
       "      <td>604000.0</td>\n",
       "      <td>664400.0</td>\n",
       "      <td>60400.0</td>\n",
       "    </tr>\n",
       "    <tr>\n",
       "      <th>4</th>\n",
       "      <td>1954400510</td>\n",
       "      <td>98074</td>\n",
       "      <td>spring</td>\n",
       "      <td>513500.0</td>\n",
       "      <td>510000.0</td>\n",
       "      <td>663000.0</td>\n",
       "      <td>153000.0</td>\n",
       "    </tr>\n",
       "  </tbody>\n",
       "</table>\n",
       "</div>"
      ],
      "text/plain": [
       "           ID  Região Temporada  Menor Preço Mediano por Região e Temporada  \\\n",
       "0  7129300520   98178    autumn                                    213250.0   \n",
       "1  6414100192   98125    spring                                    332500.0   \n",
       "2  5631500400   98028    spring                                    360250.0   \n",
       "3  2487200875   98136    autumn                                    381000.0   \n",
       "4  1954400510   98074    spring                                    513500.0   \n",
       "\n",
       "   Preço de Compra do Imóvel  Preço sugerido de Venda  Lucro Esperado  \n",
       "0                   221900.0                 244090.0         22190.0  \n",
       "1                   538000.0                 591800.0         53800.0  \n",
       "2                   180000.0                 234000.0         54000.0  \n",
       "3                   604000.0                 664400.0         60400.0  \n",
       "4                   510000.0                 663000.0        153000.0  "
      ]
     },
     "execution_count": 155,
     "metadata": {},
     "output_type": "execute_result"
    }
   ],
   "source": [
    "df_report_2['sell_price'] = df_report_2.apply(\n",
    "    lambda line: line['price'] * 1.1 if line['price'] > line['median_price'] else line['price'] * 1.3,\n",
    "    axis=1\n",
    ")\n",
    "\n",
    "df_report_2['profit'] = df_report_2.apply(\n",
    "    lambda line: line['sell_price'] - line['price'],\n",
    "    axis=1\n",
    ")\n",
    "\n",
    "df_report_2_r = df_report_2.rename(columns={\n",
    "    'id': 'ID', \n",
    "    'zipcode': 'Região', \n",
    "    'season': 'Temporada', \n",
    "    'median_price': 'Menor Preço Mediano por Região e Temporada',\n",
    "    'price': 'Preço de Compra do Imóvel', \n",
    "    'sell_price': 'Preço sugerido de Venda', \n",
    "    'profit': 'Lucro Esperado',\n",
    "})\n",
    "\n",
    "df_report_2_r.head()"
   ]
  },
  {
   "cell_type": "markdown",
   "metadata": {},
   "source": [
    "#### Lucro Total caso a ação de compra e venda seja feita"
   ]
  },
  {
   "cell_type": "code",
   "execution_count": 156,
   "metadata": {},
   "outputs": [
    {
     "name": "stdout",
     "output_type": "stream",
     "text": [
      "O lucro esperado, caso a ação de compra e venda sugerida seja executada, será de $ 1460518541.70\n"
     ]
    }
   ],
   "source": [
    "total_profit = df_report_2.loc[:, 'profit'].sum()\n",
    "print(f'O lucro esperado, caso a ação de compra e venda sugerida seja executada, será de $ {total_profit:.2f}')"
   ]
  },
  {
   "cell_type": "code",
   "execution_count": null,
   "metadata": {},
   "outputs": [],
   "source": []
  }
 ],
 "metadata": {
  "kernelspec": {
   "display_name": "Python 3.8.13 64-bit ('houserocket')",
   "language": "python",
   "name": "python3"
  },
  "language_info": {
   "codemirror_mode": {
    "name": "ipython",
    "version": 3
   },
   "file_extension": ".py",
   "mimetype": "text/x-python",
   "name": "python",
   "nbconvert_exporter": "python",
   "pygments_lexer": "ipython3",
   "version": "3.8.13"
  },
  "orig_nbformat": 4,
  "vscode": {
   "interpreter": {
    "hash": "2b600ece67e1152d10a2f21c36c2aa88551ee543264ed3363fc31ecdc3615089"
   }
  }
 },
 "nbformat": 4,
 "nbformat_minor": 2
}
