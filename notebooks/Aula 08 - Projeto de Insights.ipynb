{
 "cells": [
  {
   "cell_type": "markdown",
   "id": "b5849314",
   "metadata": {},
   "source": [
    "# Agenda"
   ]
  },
  {
   "cell_type": "markdown",
   "id": "52163979",
   "metadata": {},
   "source": [
    "1. As etapas de um projeto de Ciência de Dados.\n",
    "2. Transformando o Python do Zero ao DS em um projeto de Portfólio.\n",
    "3. Tarefa para casa.\n",
    "4. Recapitulando o que for aprendido até agora.\n",
    "5. Comunidade DS"
   ]
  },
  {
   "cell_type": "markdown",
   "id": "ad531c75",
   "metadata": {},
   "source": [
    "# 1. As etapas de um projeto de Ciência de Dados."
   ]
  },
  {
   "cell_type": "markdown",
   "id": "381f23f3",
   "metadata": {},
   "source": [
    "1. Questão de Negócio \n",
    "2. Entendimento do Negócio\n",
    "3. Coleta de Dados\n",
    "4. Limpeza de Dados\n",
    "5. Exploração de dados\n",
    "6. Modelagem de dados\n",
    "7. Algoritmos de ML   \n",
    "8. Avaliação dos algoritmos   \n",
    "9. Modelo em Produção."
   ]
  },
  {
   "cell_type": "markdown",
   "id": "6f1d61dc",
   "metadata": {},
   "source": [
    "## 1.1. O projeto do tipo Insights.\n",
    "**Objetivo:** Gerar insights através da análise e manipulação dos dados para auxiliar na tomada de\n",
    "decisão pelo time de negócio.\n",
    "\n",
    "**Etapas:** \n",
    "   * Questão de Negócio \n",
    "   * Entendimento do Negócio \n",
    "   * Coleta de Dados \n",
    "   * Limpeza de Dados\n",
    "   * Exploração de dados."
   ]
  },
  {
   "cell_type": "markdown",
   "id": "0bca4cff",
   "metadata": {},
   "source": [
    "### 1.1.1. Questão de Negócio"
   ]
  },
  {
   "cell_type": "markdown",
   "id": "41669368",
   "metadata": {},
   "source": [
    "1. Quais são os imóveis que a House Rocket deveria comprar e por qual preço ?\n",
    "2. Uma vez a casa comprada, qual o melhor momento para vendê-las e por qual preço ?"
   ]
  },
  {
   "cell_type": "markdown",
   "id": "b4450493",
   "metadata": {},
   "source": [
    "### 1.1.2. Entendimento do Negócio"
   ]
  },
  {
   "cell_type": "markdown",
   "id": "2573b6c1",
   "metadata": {},
   "source": [
    "1. Produto final ( o que eu vou entregar efetivamente ? )\n",
    "    - Relatório com as sugestões de compra de apartamento por um valor recomendado.\n",
    "    - Relatório com as sugestões de venda de um apartamento por um valor recomendado."
   ]
  },
  {
   "cell_type": "markdown",
   "id": "9e960300",
   "metadata": {},
   "source": [
    "2. Ferramentas ( quais ferramentas eu vou usar no processo? )\n",
    "    - Python 3.8.0\n",
    "    - PyCharm\n",
    "    - Jupyter Notebook"
   ]
  },
  {
   "cell_type": "markdown",
   "id": "3297a86e",
   "metadata": {},
   "source": [
    "3. Processo ( quais os passos necessário para alcançar meu objetivo? )\n",
    "\n",
    "    1. Quais são os imóveis que a House Rocket deveria comprar e por qual preço ?\n",
    "        - Plano 01:\n",
    "            - Coletar os dados do site do Kaggle.\n",
    "            - Agrupar os imóveis por região ( zipcode ).\n",
    "            - Dentro de cada região, eu vou encontrar a mediana do preço do imóvel.\n",
    "            - Vou sugerir os imóveis que estão abaixo do preço mediano da região e que estejam e boas condições e vista para água.\n",
    "            - Exemplo:\n",
    "            \n",
    "Imóvel Cod | Região | Preço do Imóvel | Preço na Mediana | Condições | Status\n",
    "-------------|--------|-----------------|------------------|-----------|--------\n",
    "10330 | Vila Olímpia | R\\$ 450.000,00 | R\\$ 500.000,00 | 3 | Compra\n",
    "10335 | Vila Olímpia | R\\$ 750.000,00 | R\\$ 500.000,00 | 3 | Não Compra\n",
    "10335 | Vila Olímpia | R\\$ 150.000,00 | R\\$ 500.000,00 | 1 | Não Compra"
   ]
  },
  {
   "cell_type": "markdown",
   "id": "05de7961",
   "metadata": {},
   "source": [
    "2. Uma vez a casa comprada, qual o melhor momento para vendê-las e por qual preço ?\n",
    "    - Plano 01:\n",
    "        - Como os dados já tratados e organizados.\n",
    "        - Agrupar os imóveis por região ( zipcode ) e por sazonalidade ( Summer, Inter ).\n",
    "        - Dentro de cada região e sazonalidade, eu vou calcular a mediana do preco.\n",
    "        - Condições de venda:\n",
    "            1. Se o preço da compra for maior que a mediana da região + sazonalidade. O preço da venda será igual ao preço da compra + 10%\n",
    "            2. Se o preço da compra for menor que a mediana da região + sazonalidade. O preço da venda será igual ao preço da compra + 30%\n",
    "        - Exemplo:\n",
    "\n",
    "\n",
    "Imóvel Cod | Região | Temporada | Preço da Mediana | Preço de Compra | Preço de Venda | Lucro \n",
    "-----------|--------|-----------|------------------|-----------------|----------------|-------|\n",
    "10330 | Vila Olímpia | Verão | R\\$ 800.000,00 | R\\$ 450.000,00 | R\\$ 450.000,00 + 30\\% | ??\n",
    "10335 | Vila Olímpia | Inverno | R\\$ 400.000,00 | R\\$ 500.000,00 | R\\$ 500.000,00 + 10\\% | ??"
   ]
  },
  {
   "cell_type": "markdown",
   "id": "4a1eadc5",
   "metadata": {},
   "source": [
    "### 1.1.3. Coleta e Limpeza dos Dados"
   ]
  },
  {
   "cell_type": "markdown",
   "id": "ae432b60",
   "metadata": {},
   "source": [
    "- Coletar os dados do site do Kaggle ( https://www.kaggle.com/harlfoxem/housesalesprediction )\n",
    "- Limpeza de Dados\n",
    "    - Remover datas erradas.\n",
    "    - Remover outliers devido à erro do sistema."
   ]
  },
  {
   "cell_type": "markdown",
   "id": "e13359f9",
   "metadata": {},
   "source": [
    "### 1.1.4. Exploração de Dados (EDA)"
   ]
  },
  {
   "cell_type": "markdown",
   "id": "f5e58ce8",
   "metadata": {},
   "source": [
    "1. Descobrir Insights para o time de negócio.\n",
    "\n",
    "\n",
    "2. Explorar os dados para identificar o impacto dos atributos nos algoritmos de ML.\n",
    "\n",
    "\n",
    "3. O que são Insights para o negócio?\n",
    "    - Insights são descobertas, através dos dados, que são inesperada pelas pessoas.\n",
    "    - Insight precisa ser acionável, caso contrário, ele é apenas uma curiosidade.\n",
    "    - Exemplo:\n",
    "        * Durante o período de natal vendê-se mais casas do que na páscoa ( Descoberta )\n",
    "        * Imóveis com porão são maiores do que imóveis sem porão ( Não-acionável )\n",
    "        * Imóveis com porão são 40% mais caros do que os outros, na média ( Acionável - Compra imóveis sem porão )\n",
    "\n",
    "\n",
    "4. Como fazemos para criar as hipóteses ?\n",
    "    - Toda hipótese de negócio precisa ter 3 características:\n",
    "        1. Precisa ser uma afirmação.\n",
    "        2. Precisa fazer uma comparação entre 2 variáveis.\n",
    "        3. Precisa de um valor base.\n",
    "        4. Exemplo:\n",
    "            * H1: Imóveis que possuem vista para água, são 30% mais caros, na média.\n",
    "            * H2: Imóveis com data de construção menor que 1955, são 50% mais baratos, na média.\n",
    "            * H3: Imóveis sem porão possuem sqrt_lot, são 50% maiores do que com porão.\n",
    "            * H4: O crescimento do preço dos imóveis YoY ( Year over Year ) é de 10%\n",
    "            * H5: Imóveis com 3 banheiros tem um crescimento MoM ( Month over Month ) de 15%"
   ]
  },
  {
   "cell_type": "markdown",
   "id": "8db79754",
   "metadata": {},
   "source": [
    "# 2. Transformando o Python do Zero ao DS em um projeto de Portfólio."
   ]
  },
  {
   "cell_type": "markdown",
   "id": "f428268f",
   "metadata": {},
   "source": [
    "## 2.1. O que é obrigatório em um projeto de portfólio."
   ]
  },
  {
   "cell_type": "markdown",
   "id": "738d82c7",
   "metadata": {},
   "source": [
    "1. Questão de negócio.\n",
    "    - O que você quer resolver ?\n",
    "        - Encontrar as melhores oportunidades de compra de imóveis do portfólio da House Rocket.\n",
    "    - Qual a problema, a dor, a necessidade do time de negócio ?\n",
    "        - O time do negócio não consegue tomar boas decisões de compra sem analisar os dados.\n",
    "        - O portfólio é muito grande, muito tempo para fazer o trabalho manualmente."
   ]
  },
  {
   "cell_type": "markdown",
   "id": "f3da8eec",
   "metadata": {},
   "source": [
    "2. Premissas de negócio.\n",
    "    - O que você está assumindo para realizar o projeto ?\n",
    "        - Retirando casas com valor de venda maior que R\\$ 500.000.000,00 ( possível erro do sistema ).\n",
    "        - A média do preço das casas na região de Seattle é de R\\$ 300.000,00.\n",
    "        - Todas as casas estão em ótimas condições."
   ]
  },
  {
   "cell_type": "markdown",
   "id": "dfc3b9d0",
   "metadata": {},
   "source": [
    "3. Planejamento da solução\n",
    "    - Qual o seu plano para resolver o problema?"
   ]
  },
  {
   "cell_type": "markdown",
   "id": "b882781f",
   "metadata": {},
   "source": [
    "4. Os 5 principais insights dos dados\n",
    "    - O que há de relevante nos dados que pode ajudar o time de negócio à tomar decisão."
   ]
  },
  {
   "cell_type": "markdown",
   "id": "fc49db6d",
   "metadata": {},
   "source": [
    "5. Resultados financeiros para o negócio\n",
    "    - Quanto a empresa espera lucrar com a sua solução ?"
   ]
  },
  {
   "cell_type": "markdown",
   "id": "bcccb1e5",
   "metadata": {},
   "source": [
    "5. Resultados financeiros para o negócio\n",
    "    - Quanto a empresa espera lucrar com a sua solução ?"
   ]
  },
  {
   "cell_type": "markdown",
   "id": "bb774f2d",
   "metadata": {},
   "source": [
    "6. Conclusão\n",
    "    - Seu objetivo inicial foi alcançado? Sim ? Não ? Por que ?"
   ]
  },
  {
   "cell_type": "markdown",
   "id": "4edc1859",
   "metadata": {},
   "source": [
    "7. Lições Aprendidas"
   ]
  },
  {
   "cell_type": "markdown",
   "id": "0d7ac22f",
   "metadata": {},
   "source": [
    "8. Pŕoximos passos"
   ]
  },
  {
   "cell_type": "markdown",
   "id": "16a9114d",
   "metadata": {},
   "source": [
    "# 3. Tarefa para casa:"
   ]
  },
  {
   "cell_type": "markdown",
   "id": "131ae37d",
   "metadata": {},
   "source": [
    "1. Criar visualizações para responder cada uma das 10 hipóteses de negócio.\n",
    "2. Construir uma tabela com recomendações de compra ou não compra.\n",
    "3. Construir uma tabela com recomendações de venda com acréscimo de 10 ou 30%.\n",
    "4. Fornecer as hipóteses e as tabelas no Streamlit.\n",
    "5. Transformar o projeto do curso Python do ZERO ao DS em um projeto de Portfólio.\n",
    "6. Salvar os código no Github.\n",
    "7. Escrever o README com os requisitos obrigatórios para um portfólio de projeto."
   ]
  },
  {
   "cell_type": "markdown",
   "id": "97cfea40",
   "metadata": {},
   "source": [
    "# 4. Recapitulando o que aprendemos até agora."
   ]
  },
  {
   "cell_type": "markdown",
   "id": "684bf216",
   "metadata": {},
   "source": [
    "* Aula 01: Começando com python do ZERO\n",
    "* Aula 02: Extração e manipulação de dados I - Básico\n",
    "* Aula 03: Transformação de dados I - Básico\n",
    "* Aula 04: Estruturas de controle\n",
    "* Aula 05: Funções e organização de código\n",
    "* Aula 06: Tipos de visualizações de dados\n",
    "* Aula 07: Visualização de dados II\n",
    "* Aula 08: Projeto de portfólio"
   ]
  }
 ],
 "metadata": {
  "kernelspec": {
   "display_name": "Python 3 (ipykernel)",
   "language": "python",
   "name": "python3"
  },
  "language_info": {
   "codemirror_mode": {
    "name": "ipython",
    "version": 3
   },
   "file_extension": ".py",
   "mimetype": "text/x-python",
   "name": "python",
   "nbconvert_exporter": "python",
   "pygments_lexer": "ipython3",
   "version": "3.8.10"
  },
  "toc": {
   "base_numbering": 1,
   "nav_menu": {},
   "number_sections": false,
   "sideBar": true,
   "skip_h1_title": false,
   "title_cell": "Table of Contents",
   "title_sidebar": "Contents",
   "toc_cell": false,
   "toc_position": {},
   "toc_section_display": true,
   "toc_window_display": true
  },
  "varInspector": {
   "cols": {
    "lenName": 16,
    "lenType": 16,
    "lenVar": 40
   },
   "kernels_config": {
    "python": {
     "delete_cmd_postfix": "",
     "delete_cmd_prefix": "del ",
     "library": "var_list.py",
     "varRefreshCmd": "print(var_dic_list())"
    },
    "r": {
     "delete_cmd_postfix": ") ",
     "delete_cmd_prefix": "rm(",
     "library": "var_list.r",
     "varRefreshCmd": "cat(var_dic_list()) "
    }
   },
   "position": {
    "height": "144px",
    "left": "1551px",
    "right": "20px",
    "top": "120px",
    "width": "350px"
   },
   "types_to_exclude": [
    "module",
    "function",
    "builtin_function_or_method",
    "instance",
    "_Feature"
   ],
   "window_display": true
  }
 },
 "nbformat": 4,
 "nbformat_minor": 5
}
